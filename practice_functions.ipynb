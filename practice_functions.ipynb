{
 "cells": [
  {
   "cell_type": "code",
   "execution_count": 13,
   "metadata": {},
   "outputs": [
    {
     "name": "stdout",
     "output_type": "stream",
     "text": [
      "300\n"
     ]
    }
   ],
   "source": [
    "#1\n",
    "\n",
    "# without arguments and without return statement.\n",
    "\n",
    "def myf():\n",
    "    a=100\n",
    "    b=200\n",
    "    c=a+b\n",
    "    print(c)\n",
    "myf()"
   ]
  },
  {
   "cell_type": "code",
   "execution_count": 18,
   "metadata": {},
   "outputs": [
    {
     "name": "stdout",
     "output_type": "stream",
     "text": [
      "24\n"
     ]
    }
   ],
   "source": [
    "# without arguments and without return statement.\n",
    "\n",
    "def fact():\n",
    "    num=int(input('enter the number:'))\n",
    "    start=1\n",
    "    prod=1\n",
    "    while start<=num:\n",
    "        prod=prod*start\n",
    "        start+=1\n",
    "    print(prod)\n",
    "fact()\n"
   ]
  },
  {
   "cell_type": "code",
   "execution_count": 223,
   "metadata": {},
   "outputs": [
    {
     "name": "stdout",
     "output_type": "stream",
     "text": [
      "120\n"
     ]
    }
   ],
   "source": [
    "#2\n",
    "\n",
    "# with arguments and without return statement.\n",
    "\n",
    "\n",
    "def mul(a,b):\n",
    "    c=a*b\n",
    "    print(c)\n",
    "mul(12,10)\n"
   ]
  },
  {
   "cell_type": "code",
   "execution_count": 3,
   "metadata": {},
   "outputs": [
    {
     "data": {
      "text/plain": [
       "15"
      ]
     },
     "execution_count": 3,
     "metadata": {},
     "output_type": "execute_result"
    }
   ],
   "source": [
    "#3\n",
    "\n",
    "# without arguments and with return statement.\n",
    "\n",
    "def z():\n",
    "    n=int(input('enter the number'))\n",
    "    start=1\n",
    "    sum=0\n",
    "    while start<=n:\n",
    "        sum+=start\n",
    "        start+=1\n",
    "    return sum\n",
    "z()\n"
   ]
  },
  {
   "cell_type": "code",
   "execution_count": 70,
   "metadata": {},
   "outputs": [
    {
     "data": {
      "text/plain": [
       "5040"
      ]
     },
     "execution_count": 70,
     "metadata": {},
     "output_type": "execute_result"
    }
   ],
   "source": [
    "#4\n",
    "\n",
    "# with arguments and with return statement.\n",
    "\n",
    "def tab(n):\n",
    "    start=1\n",
    "    prod=1\n",
    "    while start<=n:\n",
    "        prod*=start\n",
    "        start+=1\n",
    "    return prod\n",
    "tab(int(input('enter the number:')))\n"
   ]
  },
  {
   "cell_type": "code",
   "execution_count": 172,
   "metadata": {},
   "outputs": [
    {
     "name": "stdout",
     "output_type": "stream",
     "text": [
      "[10, 20, 30, 40, 20, 40, 50, 60, 20, 'abhinav', 'anudeep']\n"
     ]
    }
   ],
   "source": [
    "# list extend function\n",
    "\n",
    "l=[10,20,30,40,20,40,50,60,20]\n",
    "def e(coll1,coll2):\n",
    "    if type(coll2) in [str,list,tuple,set,dict]:\n",
    "        for i in coll2:\n",
    "            coll1+=[i]\n",
    "        print(coll1)\n",
    "    else:\n",
    "        return 'coll2 is not iterable'\n",
    "    \n",
    "e(l,('abhinav','anudeep'))\n"
   ]
  },
  {
   "cell_type": "code",
   "execution_count": 16,
   "metadata": {},
   "outputs": [
    {
     "data": {
      "text/plain": [
       "1.0"
      ]
     },
     "execution_count": 16,
     "metadata": {},
     "output_type": "execute_result"
    }
   ],
   "source": [
    "#1 positional arguments\n",
    "\n",
    "def add(a=10,b=20,c=30):\n",
    "    res=(a+b)/c\n",
    "    return res\n",
    "add()"
   ]
  },
  {
   "cell_type": "code",
   "execution_count": 24,
   "metadata": {},
   "outputs": [
    {
     "name": "stdout",
     "output_type": "stream",
     "text": [
      "90\n",
      "----------\n",
      "6\n",
      "3\n",
      "1\n",
      "5\n"
     ]
    }
   ],
   "source": [
    "#2 keyword arguments\n",
    "\n",
    "def fun(a,b,c,d):\n",
    "    res=a*b*c*d\n",
    "    print(res)\n",
    "    print('-'*10)\n",
    "    print(a)\n",
    "    print(b)\n",
    "    print(c)\n",
    "    print(d)\n",
    "\n",
    "fun(d=5,a=6,c=1,b=3)"
   ]
  },
  {
   "cell_type": "code",
   "execution_count": 35,
   "metadata": {},
   "outputs": [
    {
     "name": "stdout",
     "output_type": "stream",
     "text": [
      "name is abhinav\n",
      "age is 23\n",
      "------------------------------\n",
      "fruit is apple\n",
      "color is red\n"
     ]
    }
   ],
   "source": [
    "#3 default arguments\n",
    "\n",
    "def z(name='abhinav',age=23):\n",
    "    print('name is',name)\n",
    "    print('age is',age)\n",
    "z()\n",
    "\n",
    "print('-'*30)\n",
    "\n",
    "def y(fruit='banana',color='yellow'):\n",
    "    print('fruit is',fruit)\n",
    "    print('color is',color)\n",
    "y('apple','red')"
   ]
  },
  {
   "cell_type": "code",
   "execution_count": 61,
   "metadata": {},
   "outputs": [
    {
     "name": "stdout",
     "output_type": "stream",
     "text": [
      "(1, 2, 3, 4, 5, 6, 7, 8, 9)\n",
      "------------------------------\n",
      "{'z': 'abhinav', 'num': 19}\n",
      "------------------------------\n",
      "this is tuple packing (36, 96)\n",
      "this is dictionary {'b': 1}\n"
     ]
    }
   ],
   "source": [
    "#4 variable length argument\n",
    "\n",
    "def fun(*args):          # tuple  variable length argument\n",
    "    print(args)\n",
    "fun(1,2,3,4,5,6,7,8,9)\n",
    "\n",
    "print('-'*30)\n",
    "\n",
    "def a(**kwargs):         #  dictionary variable length argument\n",
    "    print(kwargs)\n",
    "a(z='abhinav',num=19)\n",
    "\n",
    "print('-'*30)\n",
    "\n",
    "def all(*args,**kwargs):        # tuple and dictionary packing\n",
    "    print('this is tuple packing',args)\n",
    "    print('this is dictionary',kwargs)\n",
    "all(36,96,b=1)"
   ]
  },
  {
   "cell_type": "code",
   "execution_count": 73,
   "metadata": {},
   "outputs": [
    {
     "name": "stdout",
     "output_type": "stream",
     "text": [
      "1 2 3\n",
      "------------------------------\n",
      "10 20 30\n"
     ]
    }
   ],
   "source": [
    "# unpacking\n",
    "\n",
    "def tup(a,b,c):\n",
    "    print(a,b,c)\n",
    "tup(*'123')\n",
    "\n",
    "print('-'*30)\n",
    "\n",
    "def dup(x,y,z):\n",
    "    print(x,y,z)\n",
    "dup(**{'x':10,'y':20,'z':30})"
   ]
  }
 ],
 "metadata": {
  "kernelspec": {
   "display_name": "Python 3",
   "language": "python",
   "name": "python3"
  },
  "language_info": {
   "codemirror_mode": {
    "name": "ipython",
    "version": 3
   },
   "file_extension": ".py",
   "mimetype": "text/x-python",
   "name": "python",
   "nbconvert_exporter": "python",
   "pygments_lexer": "ipython3",
   "version": "3.10.2"
  },
  "orig_nbformat": 4
 },
 "nbformat": 4,
 "nbformat_minor": 2
}
