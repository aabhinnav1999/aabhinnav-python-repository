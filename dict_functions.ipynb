{
 "cells": [
  {
   "cell_type": "code",
   "execution_count": 13,
   "metadata": {},
   "outputs": [
    {
     "data": {
      "text/plain": [
       "{}"
      ]
     },
     "execution_count": 13,
     "metadata": {},
     "output_type": "execute_result"
    }
   ],
   "source": [
    "# clear function\n",
    "\n",
    "#d={18:'virat',12:'yuvraj',7:'dhoni'}\n",
    "#d.clear()\n",
    "#print(d)\n",
    "\n",
    "\n",
    "d={1:1,2:4,3:9,4:16}\n",
    "def dclear(coll):\n",
    "    l=list(coll)\n",
    "    start=0\n",
    "    while coll:\n",
    "        del coll[l[start]]\n",
    "        start+=1\n",
    "    return coll\n",
    "dclear(d)"
   ]
  },
  {
   "cell_type": "code",
   "execution_count": 34,
   "metadata": {},
   "outputs": [
    {
     "name": "stdout",
     "output_type": "stream",
     "text": [
      "yuvraj\n"
     ]
    }
   ],
   "source": [
    "# get function\n",
    "\n",
    "#d={1:1,2:4,3:9,4:16}\n",
    "#d.get(3)\n",
    "\n",
    "\n",
    "def dget(coll,key):\n",
    "    if key not in coll:\n",
    "        return\n",
    "    else:\n",
    "        return coll[key]\n",
    "d={18:'virat',12:'yuvraj',7:'dhoni'}\n",
    "v=dget(d,12)\n",
    "print(v)\n",
    "\n"
   ]
  },
  {
   "cell_type": "code",
   "execution_count": 54,
   "metadata": {},
   "outputs": [
    {
     "data": {
      "text/plain": [
       "'abhinav'"
      ]
     },
     "execution_count": 54,
     "metadata": {},
     "output_type": "execute_result"
    }
   ],
   "source": [
    "# pop function\n",
    " \n",
    "d={1:10,2:20,3:30,4:40}\n",
    "#v=d.pop(2)\n",
    "#print(v)\n",
    "\n",
    "#d={1:10,2:20,3:30,4:40}\n",
    "#v=d.pop('hai','bye')\n",
    "#print(v)\n",
    "\n",
    "def dpop(coll,key,value='optional value'):\n",
    "    if key not in coll:\n",
    "        return value\n",
    "    else:\n",
    "        print(coll[key])\n",
    "        del coll[key]\n",
    "dpop(d,10,'abhinav')\n",
    "\n"
   ]
  },
  {
   "cell_type": "code",
   "execution_count": 59,
   "metadata": {},
   "outputs": [
    {
     "data": {
      "text/plain": [
       "(4, 40)"
      ]
     },
     "execution_count": 59,
     "metadata": {},
     "output_type": "execute_result"
    }
   ],
   "source": [
    "# popitem\n",
    "d={1:10,2:20,3:30,4:40}\n",
    "d.popitem()"
   ]
  },
  {
   "cell_type": "code",
   "execution_count": 117,
   "metadata": {},
   "outputs": [
    {
     "name": "stdout",
     "output_type": "stream",
     "text": [
      "40\n",
      "{'a': 10, 'b': 20, 'c': 30, 'z': 40}\n"
     ]
    }
   ],
   "source": [
    "# setdefault\n",
    "\n",
    "#d={'a':10,'b':20,'c':30}\n",
    "#d.setdefault('a')\n",
    "\n",
    "#d={'a':10,'b':20,'c':30}\n",
    "#d.setdefault('z',100)\n",
    "#print(d)\n",
    "\n",
    "#d={'a':10,'b':20,'c':30}\n",
    "#d.setdefault('t')\n",
    "#print(d)\n",
    "\n",
    "def dsetdefault(coll,key,defu=None):\n",
    "    if key not in coll:\n",
    "        coll[key]=defu\n",
    "        return coll[key]\n",
    "    else:\n",
    "        return coll[key]\n",
    "d={'a':10,'b':20,'c':30}\n",
    "print(dsetdefault(d,'z',40))\n",
    "print(d)\n"
   ]
  },
  {
   "cell_type": "code",
   "execution_count": 112,
   "metadata": {},
   "outputs": [
    {
     "data": {
      "text/plain": [
       "{'a': 26, 'b': 25, ('tuple', 't'): 'second dict'}"
      ]
     },
     "execution_count": 112,
     "metadata": {},
     "output_type": "execute_result"
    }
   ],
   "source": [
    "# update\n",
    "\n",
    "#d1={'a':10,'b':20,'c':30}\n",
    "#d1.update({19j:19})\n",
    "#print(d1)\n",
    "\n",
    "#d1={'a':10,'b':20,'c':30}\n",
    "#d2={'ab':'a1b2'}\n",
    "#d1.update(d2)\n",
    "#print(d1)\n",
    "\n",
    "\n",
    "d1={'a':26,'b':25}\n",
    "d2={('tuple','t'):'second dict'}\n",
    "def dupdate(coll1,coll2):\n",
    "    if type(coll2)!=dict:\n",
    "        return 'coll2 not a dict'\n",
    "    for i in coll2:\n",
    "        coll1[i]=coll2[i]\n",
    "    return coll1\n",
    "dupdate(d1,d2)"
   ]
  }
 ],
 "metadata": {
  "kernelspec": {
   "display_name": "Python 3",
   "language": "python",
   "name": "python3"
  },
  "language_info": {
   "codemirror_mode": {
    "name": "ipython",
    "version": 3
   },
   "file_extension": ".py",
   "mimetype": "text/x-python",
   "name": "python",
   "nbconvert_exporter": "python",
   "pygments_lexer": "ipython3",
   "version": "3.10.2"
  },
  "orig_nbformat": 4
 },
 "nbformat": 4,
 "nbformat_minor": 2
}
