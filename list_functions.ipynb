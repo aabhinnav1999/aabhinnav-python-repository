{
 "cells": [
  {
   "cell_type": "code",
   "execution_count": 11,
   "metadata": {},
   "outputs": [
    {
     "name": "stdout",
     "output_type": "stream",
     "text": [
      "['a', 'b', 20]\n"
     ]
    }
   ],
   "source": [
    "# append function.\n",
    "\n",
    "#l=['a','b']\n",
    "#l.append('c')\n",
    "#print(l)\n",
    "\n",
    "def uappend(coll,val):\n",
    "    coll+=[val]\n",
    "    return coll\n",
    "l=['a','b']\n",
    "v=(uappend(l,20))\n",
    "print(v)"
   ]
  },
  {
   "cell_type": "code",
   "execution_count": 19,
   "metadata": {},
   "outputs": [
    {
     "name": "stdout",
     "output_type": "stream",
     "text": [
      "[]\n"
     ]
    }
   ],
   "source": [
    "# clear function.\n",
    "\n",
    "#l=['hello','haii','goodmorning']\n",
    "#l.clear()\n",
    "#print(l)\n",
    "\n",
    "def uclear(coll):\n",
    "    start=0\n",
    "    while coll:\n",
    "        del coll[start]\n",
    "    return coll\n",
    "l=['hello','haii','goodmorning']\n",
    "res=uclear(l)\n",
    "print(res)"
   ]
  },
  {
   "cell_type": "code",
   "execution_count": 24,
   "metadata": {},
   "outputs": [
    {
     "name": "stdout",
     "output_type": "stream",
     "text": [
      "5\n"
     ]
    }
   ],
   "source": [
    "# count function.\n",
    "\n",
    "#l=[1,9,1,3,4,5,1,1,1,8,9,0,9]\n",
    "#x=l.count(9)\n",
    "#print(x)\n",
    "\n",
    "\n",
    "\n",
    "def ucount(coll,val):\n",
    "    count=0\n",
    "    for i in coll:\n",
    "        if val==i:\n",
    "            count+=1\n",
    "    return count\n",
    "l=[1,9,1,3,4,5,1,1,1,8,9,0,9]\n",
    "res=ucount(l,1)\n",
    "print(res)\n"
   ]
  },
  {
   "cell_type": "code",
   "execution_count": 31,
   "metadata": {},
   "outputs": [
    {
     "name": "stdout",
     "output_type": "stream",
     "text": [
      "['hai', 'abhinav']\n"
     ]
    }
   ],
   "source": [
    "# extend function.\n",
    "\n",
    "#l=['ab','cd']\n",
    "#l.extend({1:'a'})\n",
    "#print(l)\n",
    "\n",
    "#l=['ab','cd']\n",
    "#l.extend('strings')\n",
    "#print(l)\n",
    "\n",
    "def uextend(coll1,coll2):\n",
    "    temp=type(coll2)\n",
    "    if type(coll1) != list:\n",
    "        return 'coll1 is not list'\n",
    "    elif type(coll2) not in [str,list,tuple,set,dict]:\n",
    "        return 'coll2 is not ietable'\n",
    "    else:\n",
    "        for i in coll2:\n",
    "            if type(coll2) in [str,list,tuple,set,dict] :\n",
    "                coll1+=[i]\n",
    "    return coll1\n",
    "l1=['hai']\n",
    "l2=['abhinav']\n",
    "res=uextend(l1,l2)\n",
    "print(res)\n"
   ]
  },
  {
   "cell_type": "code",
   "execution_count": 4,
   "metadata": {},
   "outputs": [
    {
     "name": "stdout",
     "output_type": "stream",
     "text": [
      "['a', 'c', 'b']\n"
     ]
    },
    {
     "data": {
      "text/plain": [
       "['ab', 'cd', 'ef', 'gh', 'hi']"
      ]
     },
     "execution_count": 4,
     "metadata": {},
     "output_type": "execute_result"
    }
   ],
   "source": [
    "# insert function.\n",
    "\n",
    "# l=['a','b']\n",
    "# l.insert(1,'c')\n",
    "# print(l)\n",
    "\n",
    "#l=['a','b']\n",
    "#l.insert(99,'aabhinnav')\n",
    "#print(l)\n",
    "\n",
    "# l=['a','b']\n",
    "# l.insert(-10,'aabhinnav')\n",
    "# print(l)\n",
    "\n",
    "\n",
    "\n",
    "def uinsert(coll,ind,val):\n",
    "    if ind>=len(coll):\n",
    "        coll+=[val]\n",
    "        return coll\n",
    "    elif ind<0:\n",
    "        ind=len(coll)+ind\n",
    "        coll[ind:ind]=[val]\n",
    "        return coll\n",
    "    else:\n",
    "        coll[ind:ind]=[val]\n",
    "        return coll\n",
    "l=['ab','cd','ef','gh']\n",
    "uinsert(l,99,'hi')"
   ]
  },
  {
   "cell_type": "code",
   "execution_count": 78,
   "metadata": {},
   "outputs": [
    {
     "name": "stdout",
     "output_type": "stream",
     "text": [
      "50\n",
      "[0, 10, 20, 30, 40, 60, 70, 80, 90]\n"
     ]
    }
   ],
   "source": [
    "# pop function.\n",
    "\n",
    "#l=[0,10,20,30,40,50,60,70,80,90]\n",
    "#v=l.pop(5)\n",
    "#print(v)\n",
    "#print(l)\n",
    "\n",
    "\n",
    "l=[0,10,20,30,40,50,60,70,80,90]\n",
    "def upop(coll,ind=-1):\n",
    "    if ind==-1:\n",
    "        print(coll[ind])\n",
    "        del coll[ind]\n",
    "        return coll\n",
    "    elif ind<(-len(coll)) or ind>=len(coll):\n",
    "        return 'index out of range'\n",
    "    else:\n",
    "        print(coll[ind])\n",
    "        del coll[ind]\n",
    "        return coll\n",
    "v=upop(l,5)\n",
    "print(v)\n"
   ]
  },
  {
   "cell_type": "code",
   "execution_count": 6,
   "metadata": {},
   "outputs": [
    {
     "name": "stdout",
     "output_type": "stream",
     "text": [
      "[0, 10, 30, 20, 40, 50, 60, 80, 90]\n"
     ]
    }
   ],
   "source": [
    "# remove function\n",
    "\n",
    "l=[0,10,20,30,20,40,50,60,80,90]\n",
    "\n",
    "#l.remove(90)\n",
    "#print(l)\n",
    "\n",
    "\n",
    "def uremove(coll,ele):\n",
    "    if ele not in coll:\n",
    "        return 'ele is not in the list'\n",
    "    start=0\n",
    "    while start<len(coll):\n",
    "        if ele==coll[start]:\n",
    "            del coll[start]\n",
    "            break\n",
    "        start+=1\n",
    "    print(coll)\n",
    "uremove(l,20)\n",
    "\n",
    "\n"
   ]
  },
  {
   "cell_type": "code",
   "execution_count": 83,
   "metadata": {},
   "outputs": [
    {
     "data": {
      "text/plain": [
       "[5, 4, 3, 2, 1]"
      ]
     },
     "execution_count": 83,
     "metadata": {},
     "output_type": "execute_result"
    }
   ],
   "source": [
    "# reverse function\n",
    "\n",
    "#l=[0,10,20,30,40,50,60,70,80,90]\n",
    "#l.reverse()\n",
    "#print(l)\n",
    "\n",
    "def urev(coll):\n",
    "    temp=type(coll)\n",
    "    start=-1\n",
    "    res=[]\n",
    "    while start>=-len(l):\n",
    "        res+=[l[start]]\n",
    "        start-=1\n",
    "    coll=[]\n",
    "    coll=res\n",
    "    if temp==str:\n",
    "        return ''.join(coll)\n",
    "    if temp==tuple:\n",
    "        return tuple(coll)\n",
    "    else:\n",
    "        return coll\n",
    "l=[1,2,3,4,5]\n",
    "urev(l)"
   ]
  },
  {
   "cell_type": "code",
   "execution_count": 129,
   "metadata": {},
   "outputs": [
    {
     "name": "stdout",
     "output_type": "stream",
     "text": [
      "[2, 3, 4, 7, 8, 11, 12, 18]\n"
     ]
    },
    {
     "data": {
      "text/plain": [
       "[18, 12, 11, 8, 7, 4, 3, 2]"
      ]
     },
     "execution_count": 129,
     "metadata": {},
     "output_type": "execute_result"
    }
   ],
   "source": [
    "# sort function.\n",
    "\n",
    "l=[2,3,18,4,8,12,7,11]\n",
    "\n",
    "#l.sort()\n",
    "#print(l)\n",
    "\n",
    "#l.sort(reverse=True)\n",
    "#print(l)\n",
    "\n",
    "# ascending sort\n",
    "def usort(coll):\n",
    "    for i in range(0,len(coll)-1):\n",
    "        for j in range(0,len(coll)-1):\n",
    "            if coll[j]>coll[j+1]:\n",
    "                coll[j],coll[j+1]=coll[j+1],coll[j]\n",
    "    return coll\n",
    "v=usort(l)\n",
    "print(v)\n",
    "\n",
    "\n",
    "# descending sort\n",
    "def rsort(coll):\n",
    "    for i in range(0,len(coll)-1):\n",
    "        for j in range(0,len(coll)-1):\n",
    "            if coll[j]<coll[j+1]:\n",
    "                coll[j],coll[j+1]=coll[j+1],coll[j]\n",
    "    return coll\n",
    "rsort(l)"
   ]
  }
 ],
 "metadata": {
  "kernelspec": {
   "display_name": "Python 3",
   "language": "python",
   "name": "python3"
  },
  "language_info": {
   "codemirror_mode": {
    "name": "ipython",
    "version": 3
   },
   "file_extension": ".py",
   "mimetype": "text/x-python",
   "name": "python",
   "nbconvert_exporter": "python",
   "pygments_lexer": "ipython3",
   "version": "3.10.2"
  },
  "orig_nbformat": 4
 },
 "nbformat": 4,
 "nbformat_minor": 2
}
