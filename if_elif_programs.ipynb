{
 "cells": [
  {
   "cell_type": "code",
   "execution_count": 5,
   "metadata": {},
   "outputs": [
    {
     "name": "stdout",
     "output_type": "stream",
     "text": [
      "19 is positive\n"
     ]
    }
   ],
   "source": [
    "'''#77 WAP to check whether a given value is positive or negative or neutral. if positive, \n",
    "display the positive with value or negative display the negative with value or else \n",
    "display the neutral with value.'''\n",
    "n=int(input())\n",
    "if n>0:\n",
    "    print(n, 'is positive')\n",
    "elif n<0:\n",
    "    print(n, 'is negative')\n",
    "else:\n",
    "    print(n, 'is neutral')"
   ]
  },
  {
   "cell_type": "code",
   "execution_count": 7,
   "metadata": {},
   "outputs": [
    {
     "name": "stdout",
     "output_type": "stream",
     "text": [
      "num1 is greatest\n"
     ]
    }
   ],
   "source": [
    "#78 WAP to find out the greatest of three numbers, and display the greatest number.\n",
    "#case 1\n",
    "num1=int(input())\n",
    "num2=int(input())\n",
    "num3=int(input())\n",
    "if num1>num2 and num1>num3:\n",
    "    print('num1 is greatest')\n",
    "elif num2>num1 and num2>num3:\n",
    "    print('num2 is greatest')\n",
    "else:\n",
    "    print('num3 is greatest')"
   ]
  },
  {
   "cell_type": "code",
   "execution_count": 3,
   "metadata": {},
   "outputs": [
    {
     "name": "stdout",
     "output_type": "stream",
     "text": [
      "num2 is greatest\n"
     ]
    }
   ],
   "source": [
    "#case 2\n",
    "num1=int(input())\n",
    "num2=int(input())\n",
    "num3=int(input())\n",
    "if num1>num2:\n",
    "    if num1>num3:\n",
    "        print('num1 is greatest')\n",
    "elif num2>num3:\n",
    "    print('num2 is greatest')\n",
    "else:\n",
    "    print('num3 is greatest')"
   ]
  },
  {
   "cell_type": "code",
   "execution_count": 17,
   "metadata": {},
   "outputs": [
    {
     "name": "stdout",
     "output_type": "stream",
     "text": [
      "fizz buzz\n"
     ]
    }
   ],
   "source": [
    "'''#79 Write a program to check whether a given number is divisible by 3 and 5. if the number \n",
    "divisible by 3 print fizz, if the number divisible by 5 print buzz if it is divisible by both \n",
    "then print fizz buzz'''\n",
    "num=int(input())\n",
    "if num%3==0 and num%5==0:\n",
    "    print('fizz buzz')\n",
    "elif num%5==0:\n",
    "    print('buzz')\n",
    "elif num%3==0:\n",
    "    print('fizz') \n"
   ]
  }
 ],
 "metadata": {
  "kernelspec": {
   "display_name": "Python 3",
   "language": "python",
   "name": "python3"
  },
  "language_info": {
   "codemirror_mode": {
    "name": "ipython",
    "version": 3
   },
   "file_extension": ".py",
   "mimetype": "text/x-python",
   "name": "python",
   "nbconvert_exporter": "python",
   "pygments_lexer": "ipython3",
   "version": "3.10.2"
  },
  "orig_nbformat": 4,
  "vscode": {
   "interpreter": {
    "hash": "5c8a3b3197be89170208b463cb406cdc4ec1a2cd9851d10177eb7a56de8c861f"
   }
  }
 },
 "nbformat": 4,
 "nbformat_minor": 2
}
