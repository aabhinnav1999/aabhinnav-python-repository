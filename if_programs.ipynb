{
 "cells": [
  {
   "cell_type": "code",
   "execution_count": 4,
   "metadata": {},
   "outputs": [
    {
     "name": "stdout",
     "output_type": "stream",
     "text": [
      "positive\n"
     ]
    }
   ],
   "source": [
    "#1\n",
    "num=eval(input('enter the value:'))\n",
    "if num>0:\n",
    "    print('positive')"
   ]
  },
  {
   "cell_type": "code",
   "execution_count": 8,
   "metadata": {},
   "outputs": [
    {
     "name": "stdout",
     "output_type": "stream",
     "text": [
      "helloworld\n"
     ]
    }
   ],
   "source": [
    "#2\n",
    "num=eval(input('enter the value:'))\n",
    "if 1<num<5:\n",
    "    print('helloworld')"
   ]
  },
  {
   "cell_type": "code",
   "execution_count": 12,
   "metadata": {},
   "outputs": [
    {
     "name": "stdout",
     "output_type": "stream",
     "text": [
      "fizz\n"
     ]
    }
   ],
   "source": [
    "#3\n",
    "num=eval(input('enter the value:'))\n",
    "if num%3==0:\n",
    "    print('fizz')"
   ]
  },
  {
   "cell_type": "code",
   "execution_count": 14,
   "metadata": {},
   "outputs": [
    {
     "name": "stdout",
     "output_type": "stream",
     "text": [
      "(6+0j)\n"
     ]
    }
   ],
   "source": [
    "#4\n",
    "num=eval(input('enter the value:'))\n",
    "if num%2==0 and num%6==0:\n",
    "    print(complex(num))"
   ]
  },
  {
   "cell_type": "code",
   "execution_count": 17,
   "metadata": {},
   "outputs": [
    {
     "name": "stdout",
     "output_type": "stream",
     "text": [
      "['3', '0']\n"
     ]
    }
   ],
   "source": [
    "#5\n",
    "num=eval(input('enter the value:'))\n",
    "if num%3==0 or num%5==0:\n",
    "    print(list(str(num)))"
   ]
  },
  {
   "cell_type": "code",
   "execution_count": 20,
   "metadata": {},
   "outputs": [
    {
     "name": "stdout",
     "output_type": "stream",
     "text": [
      "multiple of 5\n"
     ]
    }
   ],
   "source": [
    "#6\n",
    "num=eval(input('enter the value:'))\n",
    "if num%5==0:\n",
    "    print('multiple of 5')"
   ]
  },
  {
   "cell_type": "code",
   "execution_count": 23,
   "metadata": {},
   "outputs": [
    {
     "name": "stdout",
     "output_type": "stream",
     "text": [
      "0\n"
     ]
    }
   ],
   "source": [
    "#7\n",
    "num=eval(input('enter the value:'))\n",
    "if num==0:\n",
    "    print('0')"
   ]
  },
  {
   "cell_type": "code",
   "execution_count": 26,
   "metadata": {},
   "outputs": [
    {
     "name": "stdout",
     "output_type": "stream",
     "text": [
      "negative\n"
     ]
    }
   ],
   "source": [
    "#8\n",
    "num=eval(input('enter the value:'))\n",
    "if num<0:\n",
    "    print('negative')"
   ]
  },
  {
   "cell_type": "code",
   "execution_count": 2,
   "metadata": {},
   "outputs": [
    {
     "name": "stdout",
     "output_type": "stream",
     "text": [
      "[10]\n"
     ]
    }
   ],
   "source": [
    "#9\n",
    "a=10\n",
    "l=[]\n",
    "if a%2==0:\n",
    "    l+=[a]\n",
    "    print(l)\n"
   ]
  },
  {
   "cell_type": "code",
   "execution_count": 3,
   "metadata": {},
   "outputs": [
    {
     "name": "stdout",
     "output_type": "stream",
     "text": [
      "(20,)\n"
     ]
    }
   ],
   "source": [
    "#10\n",
    "a=20\n",
    "l=()\n",
    "if a%2==0:\n",
    "    l+=(a,)\n",
    "    print(l)"
   ]
  },
  {
   "cell_type": "code",
   "execution_count": 4,
   "metadata": {},
   "outputs": [
    {
     "name": "stdout",
     "output_type": "stream",
     "text": [
      "1225\n"
     ]
    }
   ],
   "source": [
    "#11\n",
    "num=eval(input('enter the value:'))\n",
    "if num%5==0 and num%7==0:\n",
    "    print(num**2)\n"
   ]
  },
  {
   "cell_type": "code",
   "execution_count": 11,
   "metadata": {},
   "outputs": [
    {
     "name": "stdout",
     "output_type": "stream",
     "text": [
      "6\n"
     ]
    }
   ],
   "source": [
    "#12\n",
    "num=eval(input('enter the value:'))\n",
    "z=int((str(num))[-1])\n",
    "if z>5:\n",
    "    print(num>>2)\n",
    "    \n"
   ]
  },
  {
   "cell_type": "code",
   "execution_count": 88,
   "metadata": {},
   "outputs": [
    {
     "name": "stdout",
     "output_type": "stream",
     "text": [
      "3375\n"
     ]
    }
   ],
   "source": [
    "#13\n",
    "num=eval(input('enter the value:'))\n",
    "if num%3==0 and num<30:\n",
    "    print(num**3)    "
   ]
  },
  {
   "cell_type": "code",
   "execution_count": 16,
   "metadata": {},
   "outputs": [
    {
     "name": "stdout",
     "output_type": "stream",
     "text": [
      "64\n"
     ]
    }
   ],
   "source": [
    "#14\n",
    "num=eval(input('enter the value:'))\n",
    "if num%2==0 and num%4==0:\n",
    "    print(num**3)"
   ]
  },
  {
   "cell_type": "code",
   "execution_count": 22,
   "metadata": {},
   "outputs": [
    {
     "name": "stdout",
     "output_type": "stream",
     "text": [
      "['6']\n"
     ]
    }
   ],
   "source": [
    "#15\n",
    "num=eval(input('enter the value:'))\n",
    "if num%2==0:\n",
    "    num=str(num)\n",
    "    num=[num]\n",
    "    print(num)"
   ]
  },
  {
   "cell_type": "code",
   "execution_count": 29,
   "metadata": {},
   "outputs": [
    {
     "name": "stdout",
     "output_type": "stream",
     "text": [
      "6\n"
     ]
    }
   ],
   "source": [
    "#16\n",
    "num=eval(input('enter the value:'))\n",
    "if num<0 or num%2==0:\n",
    "    num=str(num)[-1]\n",
    "    print(num)"
   ]
  },
  {
   "cell_type": "code",
   "execution_count": 33,
   "metadata": {},
   "outputs": [
    {
     "name": "stdout",
     "output_type": "stream",
     "text": [
      "-512\n"
     ]
    }
   ],
   "source": [
    "#17\n",
    "num=eval(input('enter the value:'))\n",
    "if (num<0 or num%2!=0) and num%4==0:\n",
    "    print(num**3)"
   ]
  },
  {
   "cell_type": "code",
   "execution_count": 37,
   "metadata": {},
   "outputs": [
    {
     "name": "stdout",
     "output_type": "stream",
     "text": [
      "d\n"
     ]
    }
   ],
   "source": [
    "#18\n",
    "num=eval(input('enter the ascii value:'))\n",
    "if num%4==0:\n",
    "    print(chr(num))\n"
   ]
  },
  {
   "cell_type": "code",
   "execution_count": 40,
   "metadata": {},
   "outputs": [
    {
     "name": "stdout",
     "output_type": "stream",
     "text": [
      "P\n"
     ]
    }
   ],
   "source": [
    "#19\n",
    "num=eval(input('enter the value:'))\n",
    "if 45<num<125 and num%4==0 and num%5==0 and num%2==0:\n",
    "    print(chr(num))\n",
    "    \n"
   ]
  },
  {
   "cell_type": "code",
   "execution_count": 43,
   "metadata": {},
   "outputs": [
    {
     "name": "stdout",
     "output_type": "stream",
     "text": [
      "200\n"
     ]
    }
   ],
   "source": [
    "#20\n",
    "num=eval(input('enter the value:'))\n",
    "if 25<num<100 and num%4==0 and num%5==0:\n",
    "    print(num*5)\n"
   ]
  },
  {
   "cell_type": "code",
   "execution_count": 47,
   "metadata": {},
   "outputs": [
    {
     "name": "stdout",
     "output_type": "stream",
     "text": [
      "5.0\n"
     ]
    }
   ],
   "source": [
    "#21\n",
    "num=eval(input('enter the value:'))\n",
    "if type(num)==int and num%2!=0:\n",
    "    print(num/5)"
   ]
  },
  {
   "cell_type": "code",
   "execution_count": 51,
   "metadata": {},
   "outputs": [
    {
     "name": "stdout",
     "output_type": "stream",
     "text": [
      "19\n"
     ]
    }
   ],
   "source": [
    "#22\n",
    "num=eval(input('enter the value:'))\n",
    "if type(num)==int:\n",
    "    print(str(num))"
   ]
  },
  {
   "cell_type": "code",
   "execution_count": 55,
   "metadata": {},
   "outputs": [
    {
     "name": "stdout",
     "output_type": "stream",
     "text": [
      "2\n"
     ]
    }
   ],
   "source": [
    "#23\n",
    "num=eval(input('enter the value:'))\n",
    "if 60<num<125:\n",
    "    a=str(num)\n",
    "    a=a[len(a)//2]\n",
    "    print(a)"
   ]
  },
  {
   "cell_type": "code",
   "execution_count": 58,
   "metadata": {},
   "outputs": [
    {
     "name": "stdout",
     "output_type": "stream",
     "text": [
      "200\n"
     ]
    }
   ],
   "source": [
    "#24\n",
    "num1=eval(input('enter the value1:'))\n",
    "num2=eval(input('enter the value2:'))\n",
    "if num1==num2:\n",
    "    print(num1+num2)\n"
   ]
  },
  {
   "cell_type": "code",
   "execution_count": 59,
   "metadata": {},
   "outputs": [
    {
     "name": "stdout",
     "output_type": "stream",
     "text": [
      "81\n",
      "9.0\n"
     ]
    }
   ],
   "source": [
    "#25\n",
    "num1=eval(input('enter the value1:'))\n",
    "num2=eval(input('enter the value2:'))\n",
    "if num1==num2:\n",
    "    print(num1*3)\n",
    "    print(num1/3)"
   ]
  },
  {
   "cell_type": "code",
   "execution_count": 62,
   "metadata": {},
   "outputs": [
    {
     "name": "stdout",
     "output_type": "stream",
     "text": [
      "{'a': 97}\n"
     ]
    }
   ],
   "source": [
    "#26\n",
    "char=input('enter the char:')\n",
    "if 'a'<=char<='z' or 'A'<=char<='Z':\n",
    "    b={char:ord(char)}\n",
    "    print(b)"
   ]
  },
  {
   "cell_type": "code",
   "execution_count": 66,
   "metadata": {},
   "outputs": [
    {
     "name": "stdout",
     "output_type": "stream",
     "text": [
      "{'T': 84}\n"
     ]
    }
   ],
   "source": [
    "#27\n",
    "char=input('enter the char:')\n",
    "if 'A'<= char <= 'Z':\n",
    "    b={char: ord(char)}\n",
    "    print(b)"
   ]
  },
  {
   "cell_type": "code",
   "execution_count": 70,
   "metadata": {},
   "outputs": [
    {
     "name": "stdout",
     "output_type": "stream",
     "text": [
      "{'s': 115}\n"
     ]
    }
   ],
   "source": [
    "#28\n",
    "char=input('enter the char:')\n",
    "if 'A'<= char <= 'Z':\n",
    "    char=chr(ord(char)+32)\n",
    "    b={char:ord(char)}\n",
    "    print(b)"
   ]
  },
  {
   "cell_type": "code",
   "execution_count": 73,
   "metadata": {},
   "outputs": [
    {
     "name": "stdout",
     "output_type": "stream",
     "text": [
      "dd\n"
     ]
    }
   ],
   "source": [
    "#29\n",
    "char=input('enter the char:')\n",
    "if 'a'<=char<='z':\n",
    "    print(char*2)"
   ]
  },
  {
   "cell_type": "code",
   "execution_count": 23,
   "metadata": {},
   "outputs": [
    {
     "name": "stdout",
     "output_type": "stream",
     "text": [
      "9\n"
     ]
    }
   ],
   "source": [
    "#30 \n",
    "num=eval(input('enter the num:'))\n",
    "if 0<=num<=9:\n",
    "    print(int(num))"
   ]
  },
  {
   "cell_type": "code",
   "execution_count": 8,
   "metadata": {},
   "outputs": [
    {
     "name": "stdout",
     "output_type": "stream",
     "text": [
      "@ , 64\n"
     ]
    }
   ],
   "source": [
    "#31\n",
    "char=input('enter the char:')\n",
    "if char not in['A'<= char <= 'Z','a'<=char<='z',0<=char<=9]:\n",
    "    print(char,',',ord(char))"
   ]
  },
  {
   "cell_type": "code",
   "execution_count": 103,
   "metadata": {},
   "outputs": [
    {
     "name": "stdout",
     "output_type": "stream",
     "text": [
      "an even number\n"
     ]
    }
   ],
   "source": [
    "#32\n",
    "char=input('enter the char:')\n",
    "if ord(char)%2==0:\n",
    "    print('an even number')"
   ]
  },
  {
   "cell_type": "code",
   "execution_count": 109,
   "metadata": {},
   "outputs": [
    {
     "name": "stdout",
     "output_type": "stream",
     "text": [
      "f\n"
     ]
    }
   ],
   "source": [
    "#33\n",
    "char=input('enter the char:')\n",
    "if char in ('a','e','i','o','u','A', 'E', 'I', 'O', 'U'):\n",
    "    print(chr(ord(char)+1))\n"
   ]
  },
  {
   "cell_type": "code",
   "execution_count": 113,
   "metadata": {},
   "outputs": [
    {
     "name": "stdout",
     "output_type": "stream",
     "text": [
      "a\n"
     ]
    }
   ],
   "source": [
    "#34\n",
    "char=input('enter the char:')\n",
    "if char not in ('a','e','i','o','u','A', 'E', 'I', 'O', 'U'):\n",
    "    print(chr(ord(char)-1))\n"
   ]
  },
  {
   "cell_type": "code",
   "execution_count": 117,
   "metadata": {},
   "outputs": [
    {
     "name": "stdout",
     "output_type": "stream",
     "text": [
      "single value data type\n"
     ]
    }
   ],
   "source": [
    "#35\n",
    "value=eval(input('enter the value:'))\n",
    "if type(value) in [int,float,complex,bytes,bool,type(None)]:\n",
    "    print('single value data type')"
   ]
  },
  {
   "cell_type": "code",
   "execution_count": 120,
   "metadata": {},
   "outputs": [
    {
     "name": "stdout",
     "output_type": "stream",
     "text": [
      "('a', 'b')\n"
     ]
    }
   ],
   "source": [
    "#36\n",
    "value=eval(input('enter the value:'))\n",
    "if type(value) in [str,list,tuple,set,dict]:\n",
    "    print(tuple(value))\n"
   ]
  },
  {
   "cell_type": "code",
   "execution_count": 126,
   "metadata": {},
   "outputs": [
    {
     "name": "stdout",
     "output_type": "stream",
     "text": [
      "{'a', 'i', 'n', 'v', 'h', 'b'}\n"
     ]
    }
   ],
   "source": [
    "#37\n",
    "value=eval(input('enter the value:'))\n",
    "if type(value) in [int,float,complex,bytes,bool,type(None),str,tuple]:\n",
    "    print(set(value))\n"
   ]
  },
  {
   "cell_type": "code",
   "execution_count": 131,
   "metadata": {},
   "outputs": [
    {
     "name": "stdout",
     "output_type": "stream",
     "text": [
      "4\n"
     ]
    }
   ],
   "source": [
    "#38\n",
    "list=eval(input('enter the list'))\n",
    "z=list[len(list)//2]\n",
    "if z%2!=0:\n",
    "    print('it is odd number')\n",
    "print(z)    "
   ]
  },
  {
   "cell_type": "code",
   "execution_count": 132,
   "metadata": {},
   "outputs": [
    {
     "name": "stdout",
     "output_type": "stream",
     "text": [
      "1747421692432 1747421692432\n"
     ]
    }
   ],
   "source": [
    "#39\n",
    "var1=eval(input('enter var1:'))\n",
    "var2=eval(input('enter var2:'))\n",
    "if id(var1)==id(var2):\n",
    "    print(id(var1),id(var2))"
   ]
  },
  {
   "cell_type": "code",
   "execution_count": 134,
   "metadata": {},
   "outputs": [
    {
     "name": "stdout",
     "output_type": "stream",
     "text": [
      "stri\n"
     ]
    }
   ],
   "source": [
    "#40\n",
    "string=input('enter the string:')\n",
    "z=len(string)\n",
    "if z%2==0:\n",
    "    print(string[0:z-2:1])\n",
    "\n"
   ]
  },
  {
   "cell_type": "code",
   "execution_count": 137,
   "metadata": {},
   "outputs": [
    {
     "name": "stdout",
     "output_type": "stream",
     "text": [
      "anudeep abhinav\n"
     ]
    }
   ],
   "source": [
    "#41\n",
    "var1=(input('enter var1:'))\n",
    "var2=(input('enter var2:'))\n",
    "if var1!=var2:\n",
    "    var1,var2=var2,var1\n",
    "    print(var1,var2)\n"
   ]
  },
  {
   "cell_type": "code",
   "execution_count": 6,
   "metadata": {},
   "outputs": [
    {
     "name": "stdout",
     "output_type": "stream",
     "text": [
      "{'$': 36}\n"
     ]
    }
   ],
   "source": [
    "#42\n",
    "char=input('enter the char:')\n",
    "if char not in['A'<= char <= 'Z','a'<=char<='z',0<=char<=9]:\n",
    "    b={char:ord(char)}\n",
    "    print(b)\n"
   ]
  }
 ],
 "metadata": {
  "kernelspec": {
   "display_name": "Python 3",
   "language": "python",
   "name": "python3"
  },
  "language_info": {
   "codemirror_mode": {
    "name": "ipython",
    "version": 3
   },
   "file_extension": ".py",
   "mimetype": "text/x-python",
   "name": "python",
   "nbconvert_exporter": "python",
   "pygments_lexer": "ipython3",
   "version": "3.10.2"
  },
  "orig_nbformat": 4,
  "vscode": {
   "interpreter": {
    "hash": "5c8a3b3197be89170208b463cb406cdc4ec1a2cd9851d10177eb7a56de8c861f"
   }
  }
 },
 "nbformat": 4,
 "nbformat_minor": 2
}
