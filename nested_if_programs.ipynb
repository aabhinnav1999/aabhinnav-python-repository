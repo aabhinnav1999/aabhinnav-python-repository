{
 "cells": [
  {
   "cell_type": "code",
   "execution_count": 6,
   "metadata": {},
   "outputs": [
    {
     "name": "stdout",
     "output_type": "stream",
     "text": [
      "H\n"
     ]
    }
   ],
   "source": [
    "#90\n",
    "'''WAP to check whether the given input alphabet present in a collection or not if it is \n",
    "present in the collection check whether that alphabet is uppercase or lowercase if it is \n",
    "uppercase convert it into lowercase and vice versa if the alphabet not present in the \n",
    "collection print invalid'''\n",
    "\n",
    "st='hello World'\n",
    "ch=input('enter the character:')\n",
    "\n",
    "if ch in st:\n",
    "    if 'A'<=ch<='Z':\n",
    "        ch=chr(ord(ch)+32)\n",
    "        print(ch)\n",
    "    elif 'a'<=ch<='z':\n",
    "        ch=chr(ord(ch)-32)\n",
    "        print(ch)\n",
    "else:\n",
    "    print('invalid')\n",
    "\n"
   ]
  },
  {
   "cell_type": "code",
   "execution_count": 10,
   "metadata": {},
   "outputs": [
    {
     "name": "stdout",
     "output_type": "stream",
     "text": [
      "hyderabad\n"
     ]
    }
   ],
   "source": [
    "#91\n",
    "'''WAP to check whether the given input character is present in a given string collection \n",
    "or not if it is present, check whether the collection length is even or odd,\n",
    "if it is even print even indexed items of that collection using slicing \n",
    "if it is odd, print odd indexed item of that collection\n",
    "if the character not present in the collection just print that collection'''\n",
    "\n",
    "st='hyderabad'\n",
    "ch=input('enter the character:')\n",
    "\n",
    "if ch in st:\n",
    "    if len(st)%2==0:\n",
    "        print(st[::2])\n",
    "    else:\n",
    "        print(st[1::2])\n",
    "else:\n",
    "    print(st)\n"
   ]
  }
 ],
 "metadata": {
  "kernelspec": {
   "display_name": "Python 3",
   "language": "python",
   "name": "python3"
  },
  "language_info": {
   "codemirror_mode": {
    "name": "ipython",
    "version": 3
   },
   "file_extension": ".py",
   "mimetype": "text/x-python",
   "name": "python",
   "nbconvert_exporter": "python",
   "pygments_lexer": "ipython3",
   "version": "3.11.4"
  },
  "orig_nbformat": 4
 },
 "nbformat": 4,
 "nbformat_minor": 2
}
