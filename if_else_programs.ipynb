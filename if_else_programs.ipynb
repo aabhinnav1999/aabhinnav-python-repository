{
 "cells": [
  {
   "cell_type": "code",
   "execution_count": 6,
   "metadata": {},
   "outputs": [
    {
     "name": "stdout",
     "output_type": "stream",
     "text": [
      "positive number\n"
     ]
    }
   ],
   "source": [
    "#43 WAP to check whether a number is positive or negative. If Positive print positive message or else print Negative Number.\n",
    "n=eval(input('enter the value'))\n",
    "if n>0:\n",
    "    print('positive number')\n",
    "else:\n",
    "    print('negative number')"
   ]
  },
  {
   "cell_type": "code",
   "execution_count": 6,
   "metadata": {},
   "outputs": [
    {
     "name": "stdout",
     "output_type": "stream",
     "text": [
      "odd number\n"
     ]
    }
   ],
   "source": [
    "#44  WAP to check whether a number is even or odd. If even, print message an even or else print message as odd.\n",
    "n=int(input())\n",
    "if n%2==0:\n",
    "    print('even number')\n",
    "else:\n",
    "    print('odd number')"
   ]
  },
  {
   "cell_type": "code",
   "execution_count": 10,
   "metadata": {},
   "outputs": [
    {
     "name": "stdout",
     "output_type": "stream",
     "text": [
      "9 : number is not greater than 10\n"
     ]
    }
   ],
   "source": [
    "'''#45 write a program to check whether a given number is greater than 10 or not. \n",
    "if it is greater than 10 print message as greater and print that\n",
    "or else if that number is not \n",
    "greater than 10 print that number'''\n",
    "\n",
    "n=int(input())\n",
    "if n>10:\n",
    "    print(n, ':', 'number is greater than 10')\n",
    "else:\n",
    "    print(n, ':','number is not greater than 10')\n",
    "\n"
   ]
  },
  {
   "cell_type": "code",
   "execution_count": 14,
   "metadata": {},
   "outputs": [
    {
     "name": "stdout",
     "output_type": "stream",
     "text": [
      "A\n"
     ]
    }
   ],
   "source": [
    "#46 WAP to check whether a given value is present in between 45 to 125. If value is present print the ascii character. \n",
    "n=int(input())\n",
    "if 45<n<125:\n",
    "    print(chr(n))"
   ]
  },
  {
   "cell_type": "code",
   "execution_count": 15,
   "metadata": {},
   "outputs": [
    {
     "name": "stdout",
     "output_type": "stream",
     "text": [
      "25\n"
     ]
    }
   ],
   "source": [
    "#47 WAP to accept two integers and check whether they are equal or not.If equal, multiply to value or quotation value and display it.\n",
    "num1=int(input('enter the num1'))\n",
    "num2=int(input('enter the num2'))\n",
    "if num1==num2:\n",
    "    print(num1*num2)\n"
   ]
  },
  {
   "cell_type": "code",
   "execution_count": 17,
   "metadata": {},
   "outputs": [
    {
     "name": "stdout",
     "output_type": "stream",
     "text": [
      "num1 is greater\n"
     ]
    }
   ],
   "source": [
    "#48 WAP to find the largest of two numbers.\n",
    "num1=int(input('enter the num1'))\n",
    "num2=int(input('enter the num2'))\n",
    "if num1>num2:\n",
    "    print('num1 is greater')\n",
    "else:\n",
    "    print('num2 is greater')"
   ]
  },
  {
   "cell_type": "code",
   "execution_count": 18,
   "metadata": {},
   "outputs": [
    {
     "name": "stdout",
     "output_type": "stream",
     "text": [
      "num2 is smallest\n"
     ]
    }
   ],
   "source": [
    "#49 WAP to find the smallast of two numbers.\n",
    "num1=int(input('enter the num1'))\n",
    "num2=int(input('enter the num2'))\n",
    "if num1<num2:\n",
    "    print('num1 is smallest')\n",
    "else:\n",
    "    print('num2 is smallest')"
   ]
  }
 ],
 "metadata": {
  "kernelspec": {
   "display_name": "Python 3",
   "language": "python",
   "name": "python3"
  },
  "language_info": {
   "codemirror_mode": {
    "name": "ipython",
    "version": 3
   },
   "file_extension": ".py",
   "mimetype": "text/x-python",
   "name": "python",
   "nbconvert_exporter": "python",
   "pygments_lexer": "ipython3",
   "version": "3.10.2"
  },
  "orig_nbformat": 4,
  "vscode": {
   "interpreter": {
    "hash": "5c8a3b3197be89170208b463cb406cdc4ec1a2cd9851d10177eb7a56de8c861f"
   }
  }
 },
 "nbformat": 4,
 "nbformat_minor": 2
}
