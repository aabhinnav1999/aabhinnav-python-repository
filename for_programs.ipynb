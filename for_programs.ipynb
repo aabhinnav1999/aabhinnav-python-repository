{
 "cells": [
  {
   "cell_type": "code",
   "execution_count": 2,
   "metadata": {},
   "outputs": [
    {
     "name": "stdout",
     "output_type": "stream",
     "text": [
      "2,3,4,6,8,9,10,12,14,15,16,18,20,21,22,24,26,27,28,30,32,33,34,36,38,39,40,42,44,45,46,48,"
     ]
    }
   ],
   "source": [
    "#1 WAP To Print all Integers that Are Divisible by Either 2 or 3 and Lie between 1 and 50.\n",
    "\n",
    "for i in range(1,50):\n",
    "    if i%2==0 or i%3==0:\n",
    "        print(i, end=',')\n"
   ]
  },
  {
   "cell_type": "code",
   "execution_count": 8,
   "metadata": {},
   "outputs": [
    {
     "name": "stdout",
     "output_type": "stream",
     "text": [
      "2,3,4,5,7,8,9,10,11,13,14,15,16,17,19,20,21,22,23,25,26,27,28,29,31,32,33,34,35,37,38,39,40,41,43,44,45,46,47,49,"
     ]
    }
   ],
   "source": [
    "#2 WAP To Print all Integers that Are not Divisible by Either 2 or 3 and Lie between 1 and 50.\n",
    "\n",
    "for i in range(2,50):\n",
    "    if i%2!=0 or i%3!=0:\n",
    "        print(i, end=',')\n"
   ]
  },
  {
   "cell_type": "code",
   "execution_count": 3,
   "metadata": {},
   "outputs": [
    {
     "name": "stdout",
     "output_type": "stream",
     "text": [
      "2002,2009,2016,2023,2037,2044,2051,2058,2072,2079,2086,2093,2107,2114,2121,2128,2142,2149,2156,2163,2177,2184,2191,2198,2212,2219,2226,2233,2247,2254,2261,2268,2282,2289,2296,2303,2317,2324,2331,2338,2352,2359,2366,2373,2387,2394,2401,2408,2422,2429,2436,2443,2457,2464,2471,2478,2492,2499,2506,2513,2527,2534,2541,2548,2562,2569,2576,2583,2597,2604,2611,2618,2632,2639,2646,2653,2667,2674,2681,2688,2702,2709,2716,2723,2737,2744,2751,2758,2772,2779,2786,2793,2807,2814,2821,2828,2842,2849,2856,2863,2877,2884,2891,2898,2912,2919,2926,2933,2947,2954,2961,2968,2982,2989,2996,3003,3017,3024,3031,3038,3052,3059,3066,3073,3087,3094,3101,3108,3122,3129,3136,3143,3157,3164,3171,3178,3192,3199,"
     ]
    }
   ],
   "source": [
    "'''#3 WAP which will find all such numbers which are divisible by 7 but are not a \n",
    "multiple of 5, between 2000 and 3200 (both included).\n",
    "The numbers obtained should be printed in a comma-separated sequence on a \n",
    "single line'''\n",
    "\n",
    "for i in range(2000,3201):\n",
    "    if i%7==0 and i%5!=0:\n",
    "        print(i, end=',')\n"
   ]
  },
  {
   "cell_type": "code",
   "execution_count": 4,
   "metadata": {},
   "outputs": [
    {
     "name": "stdout",
     "output_type": "stream",
     "text": [
      "1\n",
      "5\n",
      "25\n"
     ]
    }
   ],
   "source": [
    "#4 WAP To Find and print all the Divisor(factors) of a given Integer number.\n",
    "\n",
    "n=int(input())\n",
    "for i in range(1,n+1):\n",
    "    if n%i==0:\n",
    "        print(i)\n",
    "\n",
    "\n"
   ]
  },
  {
   "cell_type": "code",
   "execution_count": 35,
   "metadata": {},
   "outputs": [
    {
     "name": "stdout",
     "output_type": "stream",
     "text": [
      "7\n"
     ]
    }
   ],
   "source": [
    "#5 WAP To Find the Smallest Divisor(factors) of a given Integer number.\n",
    "\n",
    "n=int(input())\n",
    "for i in range(2,n):\n",
    "    if n%i==0:\n",
    "        print(i)\n",
    "        break\n",
    "else:\n",
    "    print(1)\n"
   ]
  },
  {
   "cell_type": "code",
   "execution_count": 3,
   "metadata": {},
   "outputs": [
    {
     "name": "stdout",
     "output_type": "stream",
     "text": [
      "5\n"
     ]
    }
   ],
   "source": [
    "#6 WAP To Find the largest Divisor(factors) of a given Integer number.\n",
    "\n",
    "\n",
    "n=int(input())\n",
    "for i in range(-n+1,-1):\n",
    "    if n%i==0:\n",
    "        print(-i)\n",
    "        break\n",
    "else:\n",
    "    print(n)\n",
    "        "
   ]
  },
  {
   "cell_type": "code",
   "execution_count": 43,
   "metadata": {},
   "outputs": [
    {
     "name": "stdout",
     "output_type": "stream",
     "text": [
      "2\n",
      "14\n"
     ]
    }
   ],
   "source": [
    "#7 WAP To Find and print the even Divisor(factors) of a given Integer number.\n",
    "\n",
    "\n",
    "n=int(input())\n",
    "flag=False\n",
    "for i in range(1,n+1):\n",
    "    if n%i==0 and i%2==0:\n",
    "        print(i)\n",
    "        flag=True\n",
    "if flag==False:\n",
    "    print('no even factors')\n",
    "        "
   ]
  },
  {
   "cell_type": "code",
   "execution_count": 49,
   "metadata": {},
   "outputs": [
    {
     "name": "stdout",
     "output_type": "stream",
     "text": [
      "1\n",
      "3\n"
     ]
    }
   ],
   "source": [
    "#8 WAP To Find and print the odd Divisor(factors) of a given Integer number.\n",
    "\n",
    "\n",
    "n=int(input())\n",
    "for i in range(1,n+1):\n",
    "    if n%i==0 and i%2!=0:\n",
    "        print(i)\n",
    "        \n",
    "\n"
   ]
  },
  {
   "cell_type": "code",
   "execution_count": 9,
   "metadata": {},
   "outputs": [
    {
     "name": "stdout",
     "output_type": "stream",
     "text": [
      "4.2333333333333325\n"
     ]
    }
   ],
   "source": [
    "#9 WAP To Find the Sum of the Series: 1 + (x^2)/2 + (x^3)/3 + … (x^n)/n.\n",
    "\n",
    "x=int(input('enter x'))\n",
    "n=int(input('enter n'))\n",
    "sum=1\n",
    "for i in range(2,n+1):\n",
    "    #print('i is', i)\n",
    "    sum+=((x^i)/i)\n",
    "    #print('equation is' ,(x**i)/i)\n",
    "    #print('sum is',sum)\n",
    "print(sum)"
   ]
  },
  {
   "cell_type": "code",
   "execution_count": 81,
   "metadata": {},
   "outputs": [
    {
     "name": "stdout",
     "output_type": "stream",
     "text": [
      "1.1666666666666665\n"
     ]
    }
   ],
   "source": [
    "#10 WAP to compute 1/2+2/3+3/4+...+n/n+1 with a given n input by console (n>0).\n",
    "\n",
    "n=int(input())\n",
    "sum=0\n",
    "for i in range(1,n+1):\n",
    "    sum+=(i/(i+1))\n",
    "    #print('=', (i/(i+1)))\n",
    "print(sum)\n"
   ]
  },
  {
   "cell_type": "code",
   "execution_count": 117,
   "metadata": {},
   "outputs": [
    {
     "name": "stdout",
     "output_type": "stream",
     "text": [
      "496 is a perfect number\n"
     ]
    }
   ],
   "source": [
    "#11 WAP To Check if a Number is a Perfect Number or not.\n",
    "\n",
    "n=int(input())\n",
    "sum=0\n",
    "for i in range(1,n):\n",
    "    if n%i==0:\n",
    "        sum+=i\n",
    "if sum==n:\n",
    "    print(n,'is a perfect number')\n",
    "else:\n",
    "    print(n,'is not a perfect number')"
   ]
  },
  {
   "cell_type": "code",
   "execution_count": 127,
   "metadata": {},
   "outputs": [
    {
     "name": "stdout",
     "output_type": "stream",
     "text": [
      "6 is a perfect number\n",
      "28 is a perfect number\n",
      "496 is a perfect number\n"
     ]
    }
   ],
   "source": [
    "#12 WAP To print the series of Perfect Numbers for a given range.\n",
    "\n",
    "a=int(input())\n",
    "b=int(input())\n",
    "for i in range(a,b+1):\n",
    "    n=i\n",
    "    sum=0\n",
    "    for j in range(1,n):\n",
    "        if n%j==0:\n",
    "            sum+=j\n",
    "    if sum==n:\n",
    "        print(n,'is a perfect number')"
   ]
  },
  {
   "cell_type": "code",
   "execution_count": 11,
   "metadata": {},
   "outputs": [
    {
     "name": "stdout",
     "output_type": "stream",
     "text": [
      "6 is a perfect number\n",
      "28 is a perfect number\n",
      "496 is a perfect number\n"
     ]
    }
   ],
   "source": [
    "#13 WAP To print the series of even Perfect Numbers for a given range.\n",
    " \n",
    "a=int(input())\n",
    "b=int(input())\n",
    "for i in range(a,b+1):\n",
    "    n=i\n",
    "    sum=0\n",
    "    for j in range(1,n):\n",
    "        if n%j==0 :\n",
    "            sum+=j\n",
    "    if sum==n and n%2==0:\n",
    "        print(n,'is a perfect number')"
   ]
  },
  {
   "cell_type": "code",
   "execution_count": 63,
   "metadata": {},
   "outputs": [
    {
     "name": "stdout",
     "output_type": "stream",
     "text": [
      "1\n",
      "4\n",
      "9\n",
      "16\n",
      "25\n",
      "36\n",
      "81\n",
      "100\n"
     ]
    }
   ],
   "source": [
    "#14 WAP To Find all Numbers in a Range which are Perfect Squares and Sum of all Digits in the Number is Less than 10.\n",
    "\n",
    "for i in range(1,101):\n",
    "    n=i\n",
    "    for j in range(1,n+1):\n",
    "        if n%j==0:\n",
    "            if j*j==n:\n",
    "                sum=0\n",
    "                res=n\n",
    "                while n:\n",
    "                    dig=n%10\n",
    "                    sum+=dig\n",
    "                    n=n//10\n",
    "                if sum<10:\n",
    "                    print(res)"
   ]
  },
  {
   "cell_type": "code",
   "execution_count": 2,
   "metadata": {},
   "outputs": [
    {
     "name": "stdout",
     "output_type": "stream",
     "text": [
      "h\n",
      "e\n",
      "l\n",
      "l\n",
      "o\n"
     ]
    }
   ],
   "source": [
    "#15 WAP which accepts a string from the user and prints the characters of the given string.\n",
    "\n",
    "st=input()\n",
    "for i in st:\n",
    "    print(i)"
   ]
  },
  {
   "cell_type": "code",
   "execution_count": 5,
   "metadata": {},
   "outputs": [
    {
     "name": "stdout",
     "output_type": "stream",
     "text": [
      "v\n",
      "a\n",
      "n\n",
      "i\n",
      "h\n",
      "b\n",
      "a\n"
     ]
    }
   ],
   "source": [
    "#16 WAP which accepts a string from the user and prints it in reverse order of the string.\n",
    "\n",
    "st=input()\n",
    "for i in range(-1,-len(st)-1,-1):\n",
    "    print(st[i])\n"
   ]
  },
  {
   "cell_type": "code",
   "execution_count": 6,
   "metadata": {},
   "outputs": [
    {
     "name": "stdout",
     "output_type": "stream",
     "text": [
      "h\n",
      "l\n",
      "o\n",
      "o\n",
      "l\n"
     ]
    }
   ],
   "source": [
    "#17 WAP which accepts a string from the console and prints the characters that have even indexes.\n",
    "\n",
    "st=input()\n",
    "for i in range(0,len(st)):\n",
    "    if i%2==0:\n",
    "        print(st[i])"
   ]
  },
  {
   "cell_type": "code",
   "execution_count": 7,
   "metadata": {},
   "outputs": [
    {
     "name": "stdout",
     "output_type": "stream",
     "text": [
      "e\n",
      "l\n",
      "w\n",
      "r\n",
      "d\n"
     ]
    }
   ],
   "source": [
    "#18 WAP which accepts a string from the console and prints the characters that have odd indexes.\n",
    "\n",
    "\n",
    "st=input()\n",
    "for i in range(0,len(st)):\n",
    "    if i%2!=0:\n",
    "        print(st[i])"
   ]
  },
  {
   "cell_type": "code",
   "execution_count": 9,
   "metadata": {},
   "outputs": [
    {
     "name": "stdout",
     "output_type": "stream",
     "text": [
      "helloworld\n"
     ]
    }
   ],
   "source": [
    "#19 WAP Take in Two Strings and Display the new Larger String without Using any Built-in Functions.\n",
    "\n",
    "st1=input()\n",
    "st2=input()\n",
    "res=''\n",
    "for i in st1:\n",
    "    res+=i\n",
    "for j in st2:\n",
    "    res+=j\n",
    "print(res)"
   ]
  },
  {
   "cell_type": "code",
   "execution_count": 3,
   "metadata": {},
   "outputs": [
    {
     "data": {
      "text/plain": [
       "'hell$w$rld'"
      ]
     },
     "execution_count": 3,
     "metadata": {},
     "output_type": "execute_result"
    }
   ],
   "source": [
    "#20 WAP to all Occurrences characters should be replaced to $ in a given String.\n",
    "\n",
    "def occ(coll,chr):\n",
    "    res=''\n",
    "    for i in coll:\n",
    "        if i==chr:\n",
    "            res+='$'\n",
    "        else:\n",
    "            res+=i\n",
    "    return res\n",
    "coll='helloworld'\n",
    "occ(coll,'o')"
   ]
  },
  {
   "cell_type": "code",
   "execution_count": 18,
   "metadata": {},
   "outputs": [
    {
     "name": "stdout",
     "output_type": "stream",
     "text": [
      " There is a rain in New york city\n"
     ]
    }
   ],
   "source": [
    "#21 Write a program that accepts sequence of lines as input and prints the lines after making all characters in the sentence capitalized.\n",
    "\n",
    "res=''\n",
    "while True:\n",
    "    st=input()\n",
    "    if st=='0':\n",
    "        break\n",
    "    else:\n",
    "        res=res+' '+(chr(ord(st[0])-32))+st[1::]\n",
    "print(res)"
   ]
  },
  {
   "cell_type": "code",
   "execution_count": 4,
   "metadata": {},
   "outputs": [
    {
     "name": "stdout",
     "output_type": "stream",
     "text": [
      "This Is A Demo\n"
     ]
    }
   ],
   "source": [
    "#22 Write a program that accepts a sequence of lines as input and prints the lines after making it in the sentence should be the Title case.\n",
    "\n",
    "st=input()\n",
    "res=st.title()\n",
    "print(res)"
   ]
  },
  {
   "cell_type": "code",
   "execution_count": 8,
   "metadata": {},
   "outputs": [
    {
     "name": "stdout",
     "output_type": "stream",
     "text": [
      "this is a demo\n"
     ]
    }
   ],
   "source": [
    "#23 WAP that accepts a sequence of whitespace separated words as input.\n",
    "\n",
    "st=input()\n",
    "print(st)"
   ]
  },
  {
   "cell_type": "code",
   "execution_count": 7,
   "metadata": {},
   "outputs": [
    {
     "name": "stdout",
     "output_type": "stream",
     "text": [
      "this\n",
      "is\n",
      "abhinav\n",
      "anudeep\n"
     ]
    }
   ],
   "source": [
    "#24 Write a program that accepts a sequence of whitespace separated words as input and prints the words after removing all duplicate words.\n",
    "\n",
    "st=input()\n",
    "l=st.split()\n",
    "res=[]\n",
    "\n",
    "for i in l:\n",
    "    if i not in res:\n",
    "        res+=[i]\n",
    "\n",
    "for j in res:\n",
    "    print(j)"
   ]
  },
  {
   "cell_type": "code",
   "execution_count": 14,
   "metadata": {},
   "outputs": [
    {
     "name": "stdout",
     "output_type": "stream",
     "text": [
      "helloorld\n"
     ]
    }
   ],
   "source": [
    "#25 WAP to Remove the nth Index Character from a given String.\n",
    "\n",
    "st='helloworld'\n",
    "n=int(input())\n",
    "a=0\n",
    "res=''\n",
    "for i in st:\n",
    "    if a==n:\n",
    "        res+=''\n",
    "    else:\n",
    "        res+=i\n",
    "    a+=1\n",
    "print(res)\n",
    "    "
   ]
  },
  {
   "cell_type": "code",
   "execution_count": 27,
   "metadata": {},
   "outputs": [
    {
     "name": "stdout",
     "output_type": "stream",
     "text": [
      "['34', '67', '55', '33', '12', '98']\n",
      "('34', '67', '55', '33', '12', '98')\n"
     ]
    }
   ],
   "source": [
    "'''#26 Write a program which accepts a sequence of comma-separated numbers from \n",
    "the console and generates a list and a tuple which contains every number.'''\n",
    "\n",
    "a=eval(input())\n",
    "l=[]\n",
    "t=()\n",
    "for i in a:\n",
    "    l+=[str(i)]\n",
    "t=tuple(l)\n",
    "print(l)\n",
    "print(t)"
   ]
  },
  {
   "cell_type": "code",
   "execution_count": 30,
   "metadata": {},
   "outputs": [
    {
     "name": "stdout",
     "output_type": "stream",
     "text": [
      "[10, 20, 30, 40, 50]\n",
      "(10, 20, 30, 40, 50)\n"
     ]
    }
   ],
   "source": [
    "#27 WAP to store the 5 integer numbers in a List or tuple.\n",
    "\n",
    "l=[]\n",
    "t=()\n",
    "for i in range(0,5):\n",
    "    num=int(input())\n",
    "    l+=[num]\n",
    "t=tuple(l)\n",
    "print(l)\n",
    "print(t)"
   ]
  },
  {
   "cell_type": "code",
   "execution_count": 9,
   "metadata": {},
   "outputs": [
    {
     "name": "stdout",
     "output_type": "stream",
     "text": [
      "9\n"
     ]
    }
   ],
   "source": [
    "#28 WAP to find the largest number in a given List or tuple.\n",
    "\n",
    "l=[1,7,5,9,4,2,3,8]\n",
    "z=l[0]\n",
    "\n",
    "for i in range(1,len(l)):\n",
    "    if l[i]>z:\n",
    "        z=l[i]\n",
    "print(z)"
   ]
  },
  {
   "cell_type": "code",
   "execution_count": 13,
   "metadata": {},
   "outputs": [
    {
     "name": "stdout",
     "output_type": "stream",
     "text": [
      "9\n",
      "8\n",
      "7\n"
     ]
    }
   ],
   "source": [
    "#29 WAP to find the top 3 largest numbers in a given List or tuple.\n",
    "\n",
    "l=[1,7,5,9,4,2,3,8]\n",
    "\n",
    "for i in range(0,len(l)-1):\n",
    "    for j in range(0,len(l)-1):\n",
    "        if l[j]>l[j+1]:\n",
    "            l[j],l[j+1]=l[j+1],l[j]\n",
    "\n",
    "n=3\n",
    "for k in range(-1,-n-1,-1):\n",
    "    print(l[k])"
   ]
  },
  {
   "cell_type": "code",
   "execution_count": 21,
   "metadata": {},
   "outputs": [
    {
     "name": "stdout",
     "output_type": "stream",
     "text": [
      "11\n"
     ]
    }
   ],
   "source": [
    "#30 WAP to find the smallest number in a given List or tuple.\n",
    "\n",
    "l=[66,22,44,99,11,33,55]\n",
    "z=l[0]\n",
    "\n",
    "for i in range(1,len(l)):\n",
    "    if l[i]<z:\n",
    "        z=l[i]\n",
    "\n",
    "print(z)"
   ]
  },
  {
   "cell_type": "code",
   "execution_count": 19,
   "metadata": {},
   "outputs": [
    {
     "name": "stdout",
     "output_type": "stream",
     "text": [
      "1\n",
      "2\n",
      "3\n"
     ]
    }
   ],
   "source": [
    "#31 WAP to find the top 3 smallest numbers in a given List or tuple.\n",
    "\n",
    "l=[1,7,5,9,4,2,3,8]\n",
    "\n",
    "for i in range(0,len(l)-1):\n",
    "    for j in range(0,len(l)-1):\n",
    "        if l[j]>l[j+1]:\n",
    "            l[j],l[j+1]=l[j+1],l[j]\n",
    "\n",
    "n=3\n",
    "for k in range(0,n):\n",
    "    print(l[k])"
   ]
  },
  {
   "cell_type": "code",
   "execution_count": 31,
   "metadata": {},
   "outputs": [
    {
     "name": "stdout",
     "output_type": "stream",
     "text": [
      "[10, 6, 4, 8, 2, 44]\n"
     ]
    }
   ],
   "source": [
    "#32 WAP to store the even numbers in a given list.\n",
    "\n",
    "l=[10,6,4,5,8,13,19,2,11,44]\n",
    "res=[]\n",
    "for i in l:\n",
    "    if i%2==0:\n",
    "        res+=[i]\n",
    "print(res)"
   ]
  },
  {
   "cell_type": "code",
   "execution_count": 32,
   "metadata": {},
   "outputs": [
    {
     "name": "stdout",
     "output_type": "stream",
     "text": [
      "[5, 13, 19, 11]\n"
     ]
    }
   ],
   "source": [
    "#33 WAP to store the odd numbers in a given list.\n",
    "\n",
    "l=[10,6,4,5,8,13,19,2,11,44]\n",
    "res=[]\n",
    "for i in l:\n",
    "    if i%2!=0:\n",
    "        res+=[i]\n",
    "print(res)"
   ]
  },
  {
   "cell_type": "code",
   "execution_count": 49,
   "metadata": {},
   "outputs": [
    {
     "name": "stdout",
     "output_type": "stream",
     "text": [
      "[1, 2, 6, 24, 120]\n"
     ]
    }
   ],
   "source": [
    "#34 WAP to find out and store the factorial of given numbers in a list.\n",
    "\n",
    "a=eval(input())\n",
    "l=[]\n",
    "for i in a:\n",
    "    n=i\n",
    "    prod=1\n",
    "    for j in range(1,n+1):\n",
    "        prod*=j\n",
    "    l+=[prod]\n",
    "print(l)\n",
    "\n"
   ]
  },
  {
   "cell_type": "code",
   "execution_count": 50,
   "metadata": {},
   "outputs": [
    {
     "name": "stdout",
     "output_type": "stream",
     "text": [
      "[12, 14, 24, 56, 100, 124]\n",
      "[11, 13, 15, 69, 45, 71, 23, 99, 101]\n"
     ]
    }
   ],
   "source": [
    "#35 WAP To separate the even and odd elements in a list into two different lists.\n",
    "\n",
    "l=[11,12,13,14,15,69,45,71,23,24,56,99,100,101,124]\n",
    "l1=[]\n",
    "l2=[]\n",
    "for i in l:\n",
    "    if i%2==0:\n",
    "        l1+=[i]\n",
    "    else:\n",
    "        l2+=[i]\n",
    "print(l1)\n",
    "print(l2)\n",
    "\n"
   ]
  },
  {
   "cell_type": "code",
   "execution_count": 58,
   "metadata": {},
   "outputs": [
    {
     "name": "stdout",
     "output_type": "stream",
     "text": [
      "[1, 2, 'haii', 4, 5]\n"
     ]
    }
   ],
   "source": [
    "#36 WAP to modify the new value into the specific position of the given list.(using slicing).\n",
    "\n",
    "l=[1,2,3,4,5]\n",
    "res=[]\n",
    "p=2\n",
    "new_value='haii'\n",
    "for i in range(0,len(l)):\n",
    "    if i==p:\n",
    "        res+=[new_value]\n",
    "    else:\n",
    "        res+=[l[i]]\n",
    "print(res)\n"
   ]
  },
  {
   "cell_type": "code",
   "execution_count": 56,
   "metadata": {},
   "outputs": [
    {
     "name": "stdout",
     "output_type": "stream",
     "text": [
      "[1, 'haii', 3, 4, 5]\n"
     ]
    }
   ],
   "source": [
    "#37 WAP to modify the new value into the specific position of the given list.(without using slicing).\n",
    "\n",
    "l=[1,2,3,4,5]\n",
    "res=[]\n",
    "p=2\n",
    "new_value='haii'\n",
    "for i in l:\n",
    "    if i==p:\n",
    "        res+=[new_value]\n",
    "    else:\n",
    "        res+=[i]\n",
    "print(res)\n"
   ]
  },
  {
   "cell_type": "code",
   "execution_count": 63,
   "metadata": {},
   "outputs": [
    {
     "name": "stdout",
     "output_type": "stream",
     "text": [
      "[(10, 100), (4, 16), (5, 25), (7, 49), (2, 4), (8, 64), (30, 900)]\n"
     ]
    }
   ],
   "source": [
    "#38 WAP To Create a List of Tuples with the First Element as the Number and Second Element as the Square of the Number.\n",
    "\n",
    "l=[10,4,5,7,2,8,30]\n",
    "res=[]\n",
    "for i in l:\n",
    "    res+=[(i,i**2)]\n",
    "print(res)\n"
   ]
  },
  {
   "cell_type": "code",
   "execution_count": 64,
   "metadata": {},
   "outputs": [
    {
     "name": "stdout",
     "output_type": "stream",
     "text": [
      "[(1000, 10), (64, 4), (125, 5), (343, 7), (8, 2), (512, 8), (27000, 30)]\n"
     ]
    }
   ],
   "source": [
    "#39 WAP To Create a List of tuples with the First Element as the cube of the number and Second Element as the Number.\n",
    " \n",
    "l=[10,4,5,7,2,8,30]\n",
    "res=[]\n",
    "for i in l:\n",
    "    res+=[(i**3,i)]\n",
    "print(res)\n",
    "\n"
   ]
  },
  {
   "cell_type": "code",
   "execution_count": 19,
   "metadata": {},
   "outputs": [
    {
     "data": {
      "text/plain": [
       "'senTences'"
      ]
     },
     "execution_count": 19,
     "metadata": {},
     "output_type": "execute_result"
    }
   ],
   "source": [
    "#40 WAP To Read a List of Words from the user and Return the Length of the Longest One word.\n",
    "\n",
    "st='test for longest word in a sentence'\n",
    "\n",
    "def usplit(coll1):\n",
    "    l=[]\n",
    "    res=''\n",
    "    for i in coll1:\n",
    "        if i!=' ':\n",
    "            res+=i\n",
    "        else:\n",
    "            l+=[res]\n",
    "            res=''\n",
    "    l+=[res]\n",
    "    return l\n",
    "# usplit(st)\n",
    "\n",
    "def long_word(coll2):\n",
    "    global z,ind\n",
    "    z=len(coll2[0])\n",
    "    for i in range(1,len(coll2)):\n",
    "        if len(coll2[i])>z:\n",
    "            z=len(coll2[i])\n",
    "            ind=i\n",
    "    return coll2[ind]\n",
    "long_word(usplit(st))\n",
    "    "
   ]
  },
  {
   "cell_type": "code",
   "execution_count": 8,
   "metadata": {},
   "outputs": [
    {
     "data": {
      "text/plain": [
       "4"
      ]
     },
     "execution_count": 8,
     "metadata": {},
     "output_type": "execute_result"
    }
   ],
   "source": [
    "#41 WAP To Read a List of Words from the user and Return the Length of the first Longest One word.\n",
    "\n",
    "st='test for longest word in a sentence'\n",
    "\n",
    "def usplit(coll1):\n",
    "    l=[]\n",
    "    res=''\n",
    "    for i in coll1:\n",
    "        if i!=' ':\n",
    "            res+=i\n",
    "        else:\n",
    "            l+=[res]\n",
    "            res=''\n",
    "    l+=[res]\n",
    "    return l\n",
    "# usplit(st)\n",
    "\n",
    "def long_word(coll2):\n",
    "    global z,ind\n",
    "    z=len(coll2[0])\n",
    "    for i in range(1,len(coll2)):\n",
    "        if len(coll2[i])>z:\n",
    "            z=len(coll2[i])\n",
    "            ind=i\n",
    "    return coll2[ind]\n",
    "long_word(usplit(st))"
   ]
  },
  {
   "cell_type": "code",
   "execution_count": 20,
   "metadata": {},
   "outputs": [
    {
     "data": {
      "text/plain": [
       "'a'"
      ]
     },
     "execution_count": 20,
     "metadata": {},
     "output_type": "execute_result"
    }
   ],
   "source": [
    "#42 WAP To Read a List of Words from the user and Return the Length of the smallest One word.\n",
    "\n",
    "st='test for longest word in a sentence'\n",
    "\n",
    "def usplit(coll1):\n",
    "    l=[]\n",
    "    res=''\n",
    "    for i in coll1:\n",
    "        if i!=' ':\n",
    "            res+=i\n",
    "        else:\n",
    "            l+=[res]\n",
    "            res=''\n",
    "    l+=[res]\n",
    "    return l\n",
    "# usplit(st)\n",
    "\n",
    "def long_word(coll2):\n",
    "    global z,ind\n",
    "    z=len(coll2[0])\n",
    "    for i in range(1,len(coll2)):\n",
    "        if len(coll2[i])<z:\n",
    "            z=len(coll2[i])\n",
    "            ind=i\n",
    "    return coll2[ind]\n",
    "long_word(usplit(st))"
   ]
  },
  {
   "cell_type": "code",
   "execution_count": 15,
   "metadata": {},
   "outputs": [
    {
     "name": "stdout",
     "output_type": "stream",
     "text": [
      "a\n",
      "b\n",
      "d\n"
     ]
    }
   ],
   "source": [
    "#43 WAP To Find each element occurs is a List.\n",
    "\n",
    "l=['a','b','d','a','c','a','d','b']\n",
    "res=[]\n",
    "for i in l:\n",
    "    if i not in res:\n",
    "        res+=[i]\n",
    "for i in res:\n",
    "    count=0\n",
    "    for j in l:\n",
    "        if i==j:\n",
    "            count+=1\n",
    "    if count>1:\n",
    "        print(i)"
   ]
  },
  {
   "cell_type": "code",
   "execution_count": 16,
   "metadata": {},
   "outputs": [
    {
     "name": "stdout",
     "output_type": "stream",
     "text": [
      "python\n",
      "sql\n"
     ]
    }
   ],
   "source": [
    "#44 WAP To Find each element repeat is a List.\n",
    "\n",
    "l=['python','java','python','sql','django','python','sql']\n",
    "res=[]\n",
    "for i in l:\n",
    "    if i not in res:\n",
    "        res+=[i]\n",
    "for i in res:\n",
    "    count=0\n",
    "    for j in l:\n",
    "        if i==j:\n",
    "            count+=1\n",
    "    if count>1:\n",
    "        print(i)"
   ]
  },
  {
   "cell_type": "code",
   "execution_count": 22,
   "metadata": {},
   "outputs": [
    {
     "name": "stdout",
     "output_type": "stream",
     "text": [
      "1\n",
      "4\n",
      "3\n",
      "9\n"
     ]
    }
   ],
   "source": [
    "#45 WAP To Find Element Occurring evenNumber of Times in a List.\n",
    "\n",
    "l=[1,2,4,4,1,8,2,3,1,1,4,5,6,3,2,7,8,4,8,9,9]\n",
    "res=[]\n",
    "for i in l:\n",
    "    if i not in res:\n",
    "        res+=[i]\n",
    "for i in res:\n",
    "    count=0\n",
    "    for j in l:\n",
    "        if i==j:\n",
    "            count+=1\n",
    "    if count>1 and count%2==0:\n",
    "        print(i)"
   ]
  },
  {
   "cell_type": "code",
   "execution_count": 23,
   "metadata": {},
   "outputs": [
    {
     "name": "stdout",
     "output_type": "stream",
     "text": [
      "2\n",
      "8\n",
      "5\n",
      "6\n",
      "7\n"
     ]
    }
   ],
   "source": [
    "#46 WAP To Find Element Occurring Odd Number of Times in a List.\n",
    "\n",
    "l=[1,2,4,4,1,8,2,3,1,1,4,5,6,3,2,7,8,4,8,9,9]\n",
    "res=[]\n",
    "for i in l:\n",
    "    if i not in res:\n",
    "        res+=[i]\n",
    "for i in res:\n",
    "    count=0\n",
    "    for j in l:\n",
    "        if i==j:\n",
    "            count+=1\n",
    "    if count>=1 and count%2!=0:\n",
    "        print(i)"
   ]
  },
  {
   "cell_type": "code",
   "execution_count": 7,
   "metadata": {},
   "outputs": [
    {
     "name": "stdout",
     "output_type": "stream",
     "text": [
      "[0, 1, 7, 10, 19, 23, 45, 77, 89]\n"
     ]
    }
   ],
   "source": [
    "#47 WAP To Sort it in ascending order in a given list.\n",
    "\n",
    "l=[10,1,89,7,0,23,45,77,19]\n",
    "for i in range(0,(len(l)-1)):\n",
    "    for j in range(0,(len(l)-1)):\n",
    "        if l[j]>l[j+1]:\n",
    "            l[j],l[j+1]=l[j+1],l[j]\n",
    "print(l)"
   ]
  },
  {
   "cell_type": "code",
   "execution_count": 10,
   "metadata": {},
   "outputs": [
    {
     "name": "stdout",
     "output_type": "stream",
     "text": [
      "[89, 77, 45, 23, 19, 10, 7, 1, 0]\n"
     ]
    }
   ],
   "source": [
    "#48 WAP To sort it in descending order in a given list.\n",
    "\n",
    "l=[10,1,89,7,0,23,45,77,19]\n",
    "for i in range(0,(len(l)-1)):\n",
    "    for j in range(0,(len(l)-1)):\n",
    "        if l[j]<l[j+1]:\n",
    "            l[j],l[j+1]=l[j+1],l[j]\n",
    "print(l)"
   ]
  },
  {
   "cell_type": "code",
   "execution_count": 13,
   "metadata": {},
   "outputs": [
    {
     "name": "stdout",
     "output_type": "stream",
     "text": [
      "[0, 2, 10, 19, 23, 45, 91, 92, 93, 94, 95, 96, 98, 99]\n"
     ]
    }
   ],
   "source": [
    "#49 WAP To Merge Two Lists and Sort it in ascending order.\n",
    "\n",
    "l1=[10,23,45,19,2,0]\n",
    "l2=[99,91,96,94,98,95,93,92]\n",
    "l=l1+l2\n",
    "\n",
    "for i in range(0,(len(l)-1)):\n",
    "    for j in range(0,(len(l)-1)):\n",
    "        if l[j]>l[j+1]:\n",
    "            l[j],l[j+1]=l[j+1],l[j]\n",
    "print(l)\n"
   ]
  },
  {
   "cell_type": "code",
   "execution_count": 14,
   "metadata": {},
   "outputs": [
    {
     "name": "stdout",
     "output_type": "stream",
     "text": [
      "[99, 98, 96, 95, 94, 93, 92, 91, 45, 23, 19, 10, 2, 0]\n"
     ]
    }
   ],
   "source": [
    "#50 WAP To Merge Two Lists and Sort it in descending order.\n",
    "\n",
    "l1=[10,23,45,19,2,0]\n",
    "l2=[99,91,96,94,98,95,93,92]\n",
    "l=l1+l2\n",
    "\n",
    "for i in range(0,(len(l)-1)):\n",
    "    for j in range(0,(len(l)-1)):\n",
    "        if l[j]<l[j+1]:\n",
    "            l[j],l[j+1]=l[j+1],l[j]\n",
    "print(l)\n"
   ]
  },
  {
   "cell_type": "code",
   "execution_count": 18,
   "metadata": {},
   "outputs": [
    {
     "name": "stdout",
     "output_type": "stream",
     "text": [
      "[['B', 21], ['C', 26], ['A', 34]]\n"
     ]
    }
   ],
   "source": [
    "#51 \n",
    "'''WAP To Sort the List According to the Second Element in Sublist of given list.\n",
    "a=[['A',34],['B',21],['C',26]]\n",
    "o/p: [['B',21],['C',26],['A',34]]'''\n",
    "\n",
    "l=[['A',34],['B',21],['C',26]]\n",
    "\n",
    "for i in range(0,len(l)-1):\n",
    "    for j in range(0,len(l)-1):\n",
    "        if l[j][-1]>l[j+1][-1]:\n",
    "            l[j],l[j+1]=l[j+1],l[j]\n",
    "print(l)"
   ]
  },
  {
   "cell_type": "code",
   "execution_count": 54,
   "metadata": {},
   "outputs": [
    {
     "name": "stdout",
     "output_type": "stream",
     "text": [
      "bag,hello,without,world\n"
     ]
    }
   ],
   "source": [
    "''' #52 Write a program that accepts a comma separated sequence of words as input \n",
    "and prints the words in a comma-separated sequence after sorting them alphabetically.\n",
    "Suppose the following input is supplied to the program:\n",
    "without,hello,bag,world\n",
    "Then, the output should be:\n",
    "bag,hello,without,world'''\n",
    "\n",
    "st='without,hello,bag,world'\n",
    "l=[]\n",
    "string=''\n",
    "res=''\n",
    "\n",
    "for i in st:\n",
    "    if i!=',':\n",
    "        string+=i\n",
    "    else:\n",
    "        l+=[string]\n",
    "        string=''\n",
    "l+=[string]\n",
    "\n",
    "for i in range(0,len(l)-1):\n",
    "    for j in range(0,len(l)-1):\n",
    "        if l[j]>l[j+1]:\n",
    "            l[j],l[j+1]=l[j+1],l[j]\n",
    "\n",
    "for i in range(0,len(l)-1):\n",
    "    res+=l[i]+','\n",
    "res+=l[-1]\n",
    "print(res)\n",
    "\n"
   ]
  },
  {
   "cell_type": "code",
   "execution_count": 64,
   "metadata": {},
   "outputs": [
    {
     "name": "stdout",
     "output_type": "stream",
     "text": [
      "['abhinav04', 'abhinav19', 'anudeep02', 'dhoni07', 'yuvraj12']\n"
     ]
    }
   ],
   "source": [
    "'''#53 Write a program that accepts a sequence of whitespace separated words as \n",
    "input and prints the words after removing all duplicate words and sorting \n",
    "them alphanumerically'''\n",
    "\n",
    "st='abhinav19 yuvraj12 abhinav19 anudeep02 abhinav04 dhoni07'\n",
    "res=''\n",
    "l=[]\n",
    "\n",
    "for i in st:\n",
    "    if i !=' ':\n",
    "        res+=i\n",
    "    elif len(res)!=0:\n",
    "        l+=[res]\n",
    "        res=''\n",
    "if len(res)!=0:\n",
    "    l+=[res]\n",
    "\n",
    "\n",
    "res=[]\n",
    "for i in l:\n",
    "    if i not in res:\n",
    "        res+=[i]\n",
    "\n",
    "l=res\n",
    "\n",
    "for i in range(0,len(l)-1):\n",
    "    for j in range(0,len(l)-1):\n",
    "        if l[j]>l[j+1]:\n",
    "            l[j],l[j+1]=l[j+1],l[j]\n",
    "print(l)"
   ]
  },
  {
   "cell_type": "code",
   "execution_count": 31,
   "metadata": {},
   "outputs": [
    {
     "name": "stdout",
     "output_type": "stream",
     "text": [
      "anagrams\n"
     ]
    }
   ],
   "source": [
    "#54 WAP to find out the Two Strings are Anagrams or not.\n",
    "\n",
    "st1='top'\n",
    "st2='pot'\n",
    "l1=[]\n",
    "l2=[]\n",
    "\n",
    "if len(st1)==len(st2):\n",
    "    for i in range(0,len(st1)):\n",
    "        l1+=[st1[i]]\n",
    "        l2+=[st2[i]]\n",
    "    l1.sort()\n",
    "    l2.sort()\n",
    "    if l1==l2:\n",
    "        print('anagrams')\n",
    "    else:\n",
    "        print('not anagrams')\n",
    "else:\n",
    "    print('strings should be of same lengths')\n"
   ]
  },
  {
   "cell_type": "code",
   "execution_count": 34,
   "metadata": {},
   "outputs": [
    {
     "name": "stdout",
     "output_type": "stream",
     "text": [
      "23\n"
     ]
    }
   ],
   "source": [
    "#55 WAP To Find the Second Largest Number in a List Using Bubble Sort.\n",
    "\n",
    "l=[10,23,45,19,2,0]\n",
    "\n",
    "for i in range(0,len(l)-1):\n",
    "    for j in range(0,len(l)-1):\n",
    "        if l[j]>l[j+1]:\n",
    "            l[j],l[j+1]=l[j+1],l[j]\n",
    "\n",
    "# print(l)\n",
    "print(l[-2])"
   ]
  },
  {
   "cell_type": "code",
   "execution_count": 36,
   "metadata": {},
   "outputs": [
    {
     "name": "stdout",
     "output_type": "stream",
     "text": [
      "[0, 2, 10, 19, 23, 45]\n",
      "2\n"
     ]
    }
   ],
   "source": [
    "#56 WAP To Find the smalles Largest Number in a List Using Bubble Sort.\n",
    "\n",
    "l=[10,23,45,19,2,0]\n",
    "\n",
    "for i in range(0,len(l)-1):\n",
    "    for j in range(0,len(l)-1):\n",
    "        if l[j]>l[j+1]:\n",
    "            l[j],l[j+1]=l[j+1],l[j]\n",
    "\n",
    "# print(l)\n",
    "print(l[1])\n"
   ]
  },
  {
   "cell_type": "code",
   "execution_count": 66,
   "metadata": {},
   "outputs": [
    {
     "name": "stdout",
     "output_type": "stream",
     "text": [
      "['hi', 'star', 'abhinav', (9, 1, 4, 2, 3, 5, 7, 8)]\n"
     ]
    }
   ],
   "source": [
    "#57 WAP To Sort a List According to the Length of the Elements in the given list.\n",
    "\n",
    "l=['abhinav','hi',(9,1,4,2,3,5,7,8),'star']\n",
    "\n",
    "for i in range(0,len(l)-1):\n",
    "    for j in range(0,len(l)-1):\n",
    "        if len(l[j])>len(l[j+1]):\n",
    "            l[j],l[j+1]=l[j+1],l[j]\n",
    "print(l)"
   ]
  },
  {
   "cell_type": "code",
   "execution_count": 112,
   "metadata": {},
   "outputs": [
    {
     "name": "stdout",
     "output_type": "stream",
     "text": [
      "['I Play Hockey', 'I Play Football', 'I Love Hockey', 'I Love Football', 'You Play Hockey', 'You Play Football', 'You Love Hockey', 'You Love Football']\n"
     ]
    }
   ],
   "source": [
    "''' #58 Write a program to generate all sentences where the subject is in [\"I\", \"You\"] \n",
    "and the verb is in [\"Play\", \"Love\"] and the object is in [\"Hockey\",\"Football\"].\n",
    "Output:[“I Play Hockey”, “I Love Hockey”,“I Play Football”, “I Love \n",
    "Football”,\n",
    "“You Play Hockey”, “You Love Hockey”,“You Play Football”, “You Love \n",
    "Football”, ]'''\n",
    "\n",
    "s=[\"I\", \"You\"]\n",
    "v=[\"Play\", \"Love\"]\n",
    "o=[\"Hockey\",\"Football\"]\n",
    "res=''\n",
    "l=[]\n",
    "\n",
    "for i in range(0,len(s)):\n",
    "    for j in v:\n",
    "        for k in o:\n",
    "            res+=s[i]+' '+j+' '+k\n",
    "            l+=[res]\n",
    "            res=''\n",
    "print(l)\n",
    "\n",
    "\n"
   ]
  },
  {
   "cell_type": "code",
   "execution_count": 1,
   "metadata": {},
   "outputs": [
    {
     "name": "stdout",
     "output_type": "stream",
     "text": [
      "[1, 2, 4, 8, 3, 5, 6, 7, 9]\n"
     ]
    }
   ],
   "source": [
    "#59 WAP To Remove the Duplicate Items from a List.\n",
    "\n",
    "l=[1,2,4,4,1,8,2,3,1,1,4,5,6,3,2,7,8,4,8,9,9]\n",
    "res=[]\n",
    "for i in l:\n",
    "    if i not in res:\n",
    "        res+=[i]\n",
    "print(res)"
   ]
  },
  {
   "cell_type": "code",
   "execution_count": 50,
   "metadata": {},
   "outputs": [
    {
     "name": "stdout",
     "output_type": "stream",
     "text": [
      "[1, 2, 4, 1, 4, 1, 8, 2, 3, 1, 1, 4, 5, 6, 3, 2, 7, 8, 8, 9, 9]\n"
     ]
    }
   ],
   "source": [
    "#60 WAP To Remove the ith Occurrence of the Given Word in a List (where Words can Repeat)\n",
    "\n",
    "l=[1,2,4,1,4,1,8,2,3,1,1,4,5,6,3,2,7,8,4,8,9,9]\n",
    "n=4 #given number\n",
    "z=4 #ith occurrence\n",
    "\n",
    "count=0\n",
    "start=0\n",
    "for i in l:\n",
    "    if i==n:\n",
    "        count+=1\n",
    "    if count==z:\n",
    "        del l[start]\n",
    "        break\n",
    "    start+=1\n",
    "print(l)\n"
   ]
  },
  {
   "cell_type": "code",
   "execution_count": 37,
   "metadata": {},
   "outputs": [
    {
     "name": "stdout",
     "output_type": "stream",
     "text": [
      "{1: 1, 2: 4, 3: 9, 4: 16, 5: 25, 6: 36, 7: 49, 8: 64}\n"
     ]
    }
   ],
   "source": [
    "#61 \n",
    "\n",
    "n=int(input())\n",
    "d={}\n",
    "for i in range(1,n+1):\n",
    "    d[i]=i**2\n",
    "print(d)"
   ]
  },
  {
   "cell_type": "code",
   "execution_count": 52,
   "metadata": {},
   "outputs": [
    {
     "name": "stdout",
     "output_type": "stream",
     "text": [
      "{'a': 10, 'b': 20, 'abhinav': 7, 'c': 30, 'd': 40}\n"
     ]
    }
   ],
   "source": [
    "#62 WAP to Concatenate Two Dictionaries Into One dictionary.\n",
    "\n",
    "d1={'a':10,'b':20,'abhinav':7}\n",
    "d2={'c':30,'d':40}\n",
    "d3={}\n",
    "for i in d1:\n",
    "    d3[i]=d1[i]\n",
    "for i in d2:\n",
    "    d3[i]=d2[i]\n",
    "print(d3)"
   ]
  },
  {
   "cell_type": "code",
   "execution_count": 140,
   "metadata": {},
   "outputs": [
    {
     "name": "stdout",
     "output_type": "stream",
     "text": [
      "some values does not support addition\n"
     ]
    }
   ],
   "source": [
    "#63 WAP to Sum All the values in a Dictionary.\n",
    "\n",
    "d={'a': 10, 'b': 20, 'c': 30, 'd': b'1001','hai':59}\n",
    "flag=True\n",
    "sum=0\n",
    "for i in d:\n",
    "    if type(d[i]) not in (int,float,complex):\n",
    "        print('some values does not support addition')\n",
    "        flag=False\n",
    "        break\n",
    "    else :\n",
    "        sum=sum+d[i]   \n",
    "if flag==True:\n",
    "    print(sum)\n"
   ]
  },
  {
   "cell_type": "code",
   "execution_count": 132,
   "metadata": {},
   "outputs": [
    {
     "name": "stdout",
     "output_type": "stream",
     "text": [
      "all keys are not integers\n"
     ]
    }
   ],
   "source": [
    "#64 WAP to Sum All the keys in a Dictionary.(keys should be integers).\n",
    "\n",
    "d={55:'a',10:'b',5:'c','ab':500}\n",
    "sum=0\n",
    "flag=True\n",
    "for i in d:\n",
    "    if type(i)!=int:\n",
    "        print('all keys are not integers')\n",
    "        flag=False\n",
    "        break\n",
    "    else :\n",
    "        sum+=i   \n",
    "if flag==True:\n",
    "    print(sum)\n",
    "    "
   ]
  },
  {
   "cell_type": "code",
   "execution_count": 146,
   "metadata": {},
   "outputs": [
    {
     "name": "stdout",
     "output_type": "stream",
     "text": [
      "(1950+4875j)\n"
     ]
    }
   ],
   "source": [
    "#65 WAP to Multiply All the values in a Dictionary.\n",
    "\n",
    "\n",
    "d={'a': 1, 'b': 2+5j, 'c': 3.9, 'd': 5,'hai':50}\n",
    "flag=True\n",
    "prod=1\n",
    "for i in d:\n",
    "    if type(d[i]) not in (int,float,complex):\n",
    "        print('some values does not support multiplication')\n",
    "        flag=False\n",
    "        break\n",
    "    else :\n",
    "        prod*=d[i]   \n",
    "if flag==True:\n",
    "    print(prod)"
   ]
  },
  {
   "cell_type": "code",
   "execution_count": 56,
   "metadata": {},
   "outputs": [
    {
     "name": "stdout",
     "output_type": "stream",
     "text": [
      "{'h': 3, 'a': 2, 'i': 2, ' ': 4, 'e': 2, 'l': 2, 'o': 3, 'w': 1, 'r': 1, 'y': 1, 'u': 1}\n"
     ]
    }
   ],
   "source": [
    "#66 WAP to Count the Frequency of Words Appearing in a String Using a Dictionary.\n",
    "\n",
    "st='haii hello how are you'\n",
    "res=''\n",
    "d={}\n",
    "\n",
    "for i in st:\n",
    "    if i not in res:\n",
    "        res+=i\n",
    "\n",
    "for i in res:\n",
    "    count=0\n",
    "    for j in st:\n",
    "        if i==j:\n",
    "            count+=1\n",
    "    d[i]=count\n",
    "print(d)"
   ]
  },
  {
   "cell_type": "code",
   "execution_count": 5,
   "metadata": {},
   "outputs": [
    {
     "name": "stdout",
     "output_type": "stream",
     "text": [
      "{'p': ['python', 'programming'], 'i': ['is'], 'a': ['a'], 'l': ['language']}\n"
     ]
    }
   ],
   "source": [
    "#67 WAP Dictionary with Key as First Character and Value as Words Starting with that Character.\n",
    "\n",
    "st='python is a programming language'\n",
    "l=st.split()\n",
    "d={}\n",
    "start=0\n",
    "while start<len(l):\n",
    "    if l[start][0] not in d:\n",
    "        d[l[start][0]]=[l[start]]\n",
    "    else:\n",
    "        d[l[start][0]]+=[l[start]]\n",
    "    start+=1\n",
    "print(d)\n"
   ]
  }
 ],
 "metadata": {
  "kernelspec": {
   "display_name": "Python 3",
   "language": "python",
   "name": "python3"
  },
  "language_info": {
   "codemirror_mode": {
    "name": "ipython",
    "version": 3
   },
   "file_extension": ".py",
   "mimetype": "text/x-python",
   "name": "python",
   "nbconvert_exporter": "python",
   "pygments_lexer": "ipython3",
   "version": "3.10.2"
  },
  "orig_nbformat": 4
 },
 "nbformat": 4,
 "nbformat_minor": 2
}
