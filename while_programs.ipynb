{
 "cells": [
  {
   "cell_type": "code",
   "execution_count": null,
   "metadata": {},
   "outputs": [],
   "source": [
    "# doubt\n",
    "\n",
    "#32\n",
    "#81\n",
    "#82"
   ]
  },
  {
   "cell_type": "code",
   "execution_count": 6,
   "metadata": {},
   "outputs": [
    {
     "name": "stdout",
     "output_type": "stream",
     "text": [
      "Hello World\n",
      "Hello World\n",
      "Hello World\n",
      "Hello World\n",
      "Hello World\n"
     ]
    }
   ],
   "source": [
    "#1\n",
    "a=0\n",
    "while a<5:\n",
    "    print(\"Hello World\")\n",
    "    a+=1"
   ]
  },
  {
   "cell_type": "code",
   "execution_count": 7,
   "metadata": {},
   "outputs": [
    {
     "name": "stdout",
     "output_type": "stream",
     "text": [
      "1\n",
      "2\n",
      "3\n",
      "4\n",
      "5\n",
      "6\n",
      "7\n",
      "8\n",
      "9\n",
      "10\n"
     ]
    }
   ],
   "source": [
    "#2\n",
    "num=1\n",
    "while num<=10:\n",
    "    print(num)\n",
    "    num+=1"
   ]
  },
  {
   "cell_type": "code",
   "execution_count": 1,
   "metadata": {},
   "outputs": [
    {
     "name": "stdout",
     "output_type": "stream",
     "text": [
      "1\n",
      "2\n",
      "3\n",
      "4\n",
      "5\n",
      "6\n",
      "7\n",
      "8\n",
      "9\n",
      "10\n",
      "11\n",
      "12\n",
      "13\n",
      "14\n",
      "15\n"
     ]
    }
   ],
   "source": [
    "#3\n",
    "num=1\n",
    "n=int(input('enter the nth value:'))\n",
    "while num<=n:\n",
    "    print(num)\n",
    "    num+=1"
   ]
  },
  {
   "cell_type": "code",
   "execution_count": 10,
   "metadata": {},
   "outputs": [
    {
     "name": "stdout",
     "output_type": "stream",
     "text": [
      "10\n",
      "9\n",
      "8\n",
      "7\n",
      "6\n",
      "5\n",
      "4\n",
      "3\n",
      "2\n",
      "1\n",
      "0\n"
     ]
    }
   ],
   "source": [
    "#4\n",
    "n=int(input('entet the nth value:'))\n",
    "while n>=0:\n",
    "    print(n)\n",
    "    n-=1"
   ]
  },
  {
   "cell_type": "code",
   "execution_count": 12,
   "metadata": {},
   "outputs": [
    {
     "name": "stdout",
     "output_type": "stream",
     "text": [
      "0\n",
      "1\n",
      "2\n",
      "3\n",
      "4\n",
      "5\n"
     ]
    }
   ],
   "source": [
    "#5\n",
    "num=0\n",
    "n=int(input('enter the nth value:'))\n",
    "while num<=n:\n",
    "    print(num)\n",
    "    num+=1\n"
   ]
  },
  {
   "cell_type": "code",
   "execution_count": 16,
   "metadata": {},
   "outputs": [
    {
     "name": "stdout",
     "output_type": "stream",
     "text": [
      "6\n",
      "5\n",
      "4\n",
      "3\n",
      "2\n",
      "1\n",
      "0\n"
     ]
    }
   ],
   "source": [
    "#6\n",
    "n=int(input('enter the nth value:'))\n",
    "while n>=0:\n",
    "    print(n)\n",
    "    n-=1"
   ]
  },
  {
   "cell_type": "code",
   "execution_count": 29,
   "metadata": {},
   "outputs": [
    {
     "name": "stdout",
     "output_type": "stream",
     "text": [
      "2\n",
      "4\n",
      "6\n",
      "8\n",
      "10\n",
      "12\n",
      "14\n",
      "16\n",
      "18\n",
      "20\n"
     ]
    }
   ],
   "source": [
    "#7\n",
    "num=1\n",
    "n=int(input('enter the nth value:'))\n",
    "while num<=n:\n",
    "    if num%2==0:\n",
    "        print(num)\n",
    "    num+=1    "
   ]
  },
  {
   "cell_type": "code",
   "execution_count": 28,
   "metadata": {},
   "outputs": [
    {
     "name": "stdout",
     "output_type": "stream",
     "text": [
      "20\n",
      "18\n",
      "16\n",
      "14\n",
      "12\n",
      "10\n",
      "8\n",
      "6\n",
      "4\n",
      "2\n"
     ]
    }
   ],
   "source": [
    "#8\n",
    "num=int(input('enter the nth value:'))\n",
    "while num>0:\n",
    "    if num%2==0:\n",
    "        print(num)\n",
    "    num-=1    "
   ]
  },
  {
   "cell_type": "code",
   "execution_count": 32,
   "metadata": {},
   "outputs": [
    {
     "name": "stdout",
     "output_type": "stream",
     "text": [
      "1\n",
      "3\n",
      "5\n",
      "7\n",
      "9\n",
      "11\n",
      "13\n",
      "15\n",
      "17\n",
      "19\n"
     ]
    }
   ],
   "source": [
    "#9\n",
    "num=1\n",
    "n=int(input('enter the value:'))\n",
    "while num<=n:\n",
    "    if num%2!=0:\n",
    "        print(num)\n",
    "    num=num+1\n"
   ]
  },
  {
   "cell_type": "code",
   "execution_count": null,
   "metadata": {},
   "outputs": [
    {
     "name": "stdout",
     "output_type": "stream",
     "text": [
      "19\n",
      "17\n",
      "15\n",
      "13\n",
      "11\n",
      "9\n",
      "7\n",
      "5\n",
      "3\n",
      "1\n"
     ]
    }
   ],
   "source": [
    "#10\n",
    "num=int(input('enter the value:'))\n",
    "while num>0:\n",
    "    if num%2!=0:\n",
    "        print(num)\n",
    "    num=num-1\n"
   ]
  },
  {
   "cell_type": "code",
   "execution_count": 33,
   "metadata": {},
   "outputs": [
    {
     "name": "stdout",
     "output_type": "stream",
     "text": [
      "5 * 1 = 5\n",
      "5 * 2 = 10\n",
      "5 * 3 = 15\n",
      "5 * 4 = 20\n",
      "5 * 5 = 25\n",
      "5 * 6 = 30\n",
      "5 * 7 = 35\n",
      "5 * 8 = 40\n",
      "5 * 9 = 45\n",
      "5 * 10 = 50\n",
      "5 * 11 = 55\n",
      "5 * 12 = 60\n",
      "5 * 13 = 65\n",
      "5 * 14 = 70\n",
      "5 * 15 = 75\n",
      "5 * 16 = 80\n",
      "5 * 17 = 85\n",
      "5 * 18 = 90\n",
      "5 * 19 = 95\n",
      "5 * 20 = 100\n"
     ]
    }
   ],
   "source": [
    "#11\n",
    "n=5\n",
    "start=1\n",
    "end=20\n",
    "while start<=end:\n",
    "    print(n,'*',start,'=', start*n)\n",
    "    start=start+1\n"
   ]
  },
  {
   "cell_type": "code",
   "execution_count": 36,
   "metadata": {},
   "outputs": [
    {
     "name": "stdout",
     "output_type": "stream",
     "text": [
      "5 * 20 = 100\n",
      "5 * 19 = 95\n",
      "5 * 18 = 90\n",
      "5 * 17 = 85\n",
      "5 * 16 = 80\n",
      "5 * 15 = 75\n",
      "5 * 14 = 70\n",
      "5 * 13 = 65\n",
      "5 * 12 = 60\n",
      "5 * 11 = 55\n",
      "5 * 10 = 50\n",
      "5 * 9 = 45\n",
      "5 * 8 = 40\n",
      "5 * 7 = 35\n",
      "5 * 6 = 30\n",
      "5 * 5 = 25\n",
      "5 * 4 = 20\n",
      "5 * 3 = 15\n",
      "5 * 2 = 10\n",
      "5 * 1 = 5\n"
     ]
    }
   ],
   "source": [
    "#12\n",
    "n=5\n",
    "start=20\n",
    "end=1\n",
    "while start>=end:\n",
    "    print(n,'*',start,'=', start*n)\n",
    "    start=start-1\n"
   ]
  },
  {
   "cell_type": "code",
   "execution_count": 34,
   "metadata": {},
   "outputs": [
    {
     "name": "stdout",
     "output_type": "stream",
     "text": [
      "27\n",
      "30\n",
      "33\n",
      "36\n",
      "39\n",
      "42\n",
      "45\n",
      "48\n",
      "51\n",
      "54\n",
      "57\n",
      "60\n",
      "63\n",
      "66\n"
     ]
    }
   ],
   "source": [
    "#13\n",
    "start=25\n",
    "end=66\n",
    "while start<=end:\n",
    "    if start%3==0:\n",
    "        print(start)\n",
    "    start+=1\n"
   ]
  },
  {
   "cell_type": "code",
   "execution_count": 35,
   "metadata": {},
   "outputs": [
    {
     "name": "stdout",
     "output_type": "stream",
     "text": [
      "15\n",
      "30\n",
      "45\n",
      "60\n",
      "75\n"
     ]
    }
   ],
   "source": [
    "#14\n",
    "start=15\n",
    "end=76\n",
    "while start<=end:\n",
    "    if start%3==0 and start%5==0:\n",
    "        print(start)\n",
    "    start+=1\n"
   ]
  },
  {
   "cell_type": "code",
   "execution_count": null,
   "metadata": {},
   "outputs": [
    {
     "name": "stdout",
     "output_type": "stream",
     "text": [
      "70\n",
      "35\n"
     ]
    }
   ],
   "source": [
    "#15\n",
    "start=77\n",
    "end=22\n",
    "while start>=end:\n",
    "    if start%5==0 and start%7==0:\n",
    "        print(start)\n",
    "    start-=1\n"
   ]
  },
  {
   "cell_type": "code",
   "execution_count": 58,
   "metadata": {},
   "outputs": [
    {
     "name": "stdout",
     "output_type": "stream",
     "text": [
      "1 not divisible,2 not divisible,3 love you,4 not divisible,5 hate you,6 love you,7 not divisible,8 not divisible,9 love you,10 hate you,11 not divisible,12 love you,13 not divisible,14 not divisible,15 love you,15 hate you,15 i like you,16 not divisible,17 not divisible,18 love you,19 not divisible,20 hate you,21 love you,22 not divisible,23 not divisible,24 love you,25 hate you,26 not divisible,27 love you,28 not divisible,29 not divisible,30 love you,30 hate you,30 i like you,"
     ]
    }
   ],
   "source": [
    "#16 WAP to print the ”love you” if value is divisible by 3, or print “hate you” value is divisible by 5, to print “i like you” if divisible by 3 and 5, from 1 to 30.\n",
    "start=1\n",
    "end=30\n",
    "while start<=end:\n",
    "    if start%3==0:\n",
    "        print(start, 'love you', end = ',')\n",
    "    if start%5==0:\n",
    "        print(start,'hate you', end = ',')\n",
    "    if start%3==0 and start%5==0:\n",
    "        print(start,'i like you', end = ',')\n",
    "    if start%3!=0 and start%5!=0:\n",
    "        print(start,'not divisible', end = ',')\n",
    "    start+=1"
   ]
  },
  {
   "cell_type": "code",
   "execution_count": 49,
   "metadata": {},
   "outputs": [
    {
     "name": "stdout",
     "output_type": "stream",
     "text": [
      "55\n"
     ]
    }
   ],
   "source": [
    "#17 WAP to print sum of the 1 to nth natural numbers.\n",
    "n=int(input('enter the value'))\n",
    "start=1\n",
    "sum=0\n",
    "while start<=n:\n",
    "    sum+=start\n",
    "    start+=1\n",
    "print(sum)\n"
   ]
  },
  {
   "cell_type": "code",
   "execution_count": 51,
   "metadata": {},
   "outputs": [
    {
     "name": "stdout",
     "output_type": "stream",
     "text": [
      "110\n"
     ]
    }
   ],
   "source": [
    "#18 WAP to print sum of the even numbers 1 to 20 numbers\n",
    "start=1\n",
    "end=20\n",
    "sum=0\n",
    "while start<=end:\n",
    "    if start%2==0:\n",
    "        sum+=start\n",
    "    start+=1\n",
    "print(sum)\n"
   ]
  },
  {
   "cell_type": "code",
   "execution_count": 58,
   "metadata": {},
   "outputs": [
    {
     "name": "stdout",
     "output_type": "stream",
     "text": [
      "720\n"
     ]
    }
   ],
   "source": [
    "#19 WAP to print products of the 1 to 6 numbers.\n",
    "start=1\n",
    "end=6\n",
    "prod=1\n",
    "while start<=end:\n",
    "    prod*=start\n",
    "    start+=1\n",
    "print(prod)"
   ]
  },
  {
   "cell_type": "code",
   "execution_count": 64,
   "metadata": {},
   "outputs": [
    {
     "name": "stdout",
     "output_type": "stream",
     "text": [
      "15\n"
     ]
    }
   ],
   "source": [
    "#20 WAP to count the no of odd values from 1 to 30 numbers.\n",
    "start=1\n",
    "end=30\n",
    "count=0\n",
    "while start<=end:\n",
    "    if start%2!=0:\n",
    "        count+=1\n",
    "    start+=1\n",
    "print(count)\n",
    "    "
   ]
  },
  {
   "cell_type": "code",
   "execution_count": 72,
   "metadata": {},
   "outputs": [
    {
     "name": "stdout",
     "output_type": "stream",
     "text": [
      "1\n",
      "2\n",
      "4\n"
     ]
    }
   ],
   "source": [
    "#21 WAP to print the factors of the given number.\n",
    "n=int(input('enter the value:'))\n",
    "start=1\n",
    "while start<=n:\n",
    "    if n%start==0:\n",
    "        print(start)\n",
    "    start+=1"
   ]
  },
  {
   "cell_type": "code",
   "execution_count": 1,
   "metadata": {},
   "outputs": [
    {
     "name": "stdout",
     "output_type": "stream",
     "text": [
      "7\n"
     ]
    }
   ],
   "source": [
    "#22 WAP to sum of the factors of the given number.\n",
    "n=int(input('enter the value:'))\n",
    "start=1\n",
    "sum=0\n",
    "while start<=n:\n",
    "    if n%start==0:\n",
    "        sum+=start\n",
    "    start+=1\n",
    "print(sum)\n",
    "    \n",
    "    "
   ]
  },
  {
   "cell_type": "code",
   "execution_count": 4,
   "metadata": {},
   "outputs": [
    {
     "name": "stdout",
     "output_type": "stream",
     "text": [
      "36\n"
     ]
    }
   ],
   "source": [
    "#23 WAP to prod of the factors of the given number.\n",
    "n=int(input('enter the value:'))\n",
    "start=1\n",
    "prod=1\n",
    "while start<=n:\n",
    "    if n%start==0:\n",
    "        prod*=start\n",
    "    start+=1\n",
    "print(prod)\n",
    "    "
   ]
  },
  {
   "cell_type": "code",
   "execution_count": 3,
   "metadata": {},
   "outputs": [
    {
     "name": "stdout",
     "output_type": "stream",
     "text": [
      "1\n",
      "2\n",
      "3\n",
      "5\n",
      "8\n"
     ]
    }
   ],
   "source": [
    "#24 WAP to print Fibonacci series 0 to nth.\n",
    "n=eval(input('enter the value'))\n",
    "start=0\n",
    "a=0\n",
    "b=1\n",
    "while start<=n:\n",
    "    c=a+b\n",
    "    print(c)\n",
    "    a=b\n",
    "    b=c\n",
    "    start+=1"
   ]
  },
  {
   "cell_type": "code",
   "execution_count": 11,
   "metadata": {},
   "outputs": [
    {
     "name": "stdout",
     "output_type": "stream",
     "text": [
      "120\n"
     ]
    }
   ],
   "source": [
    "#25 WAP to find out the factorial number of a given number.\n",
    "n=eval(input('enter the value'))\n",
    "start=1\n",
    "fact=1\n",
    "while start<=n:\n",
    "    fact*=start\n",
    "    start+=1\n",
    "print(fact)"
   ]
  },
  {
   "cell_type": "code",
   "execution_count": 14,
   "metadata": {},
   "outputs": [
    {
     "name": "stdout",
     "output_type": "stream",
     "text": [
      "24\n"
     ]
    }
   ],
   "source": [
    "#26 WAP to print the factorial numbers in the given range m to n.\n",
    "m=eval(input('enter m'))\n",
    "n=eval(input('enter n'))\n",
    "fact=1\n",
    "while m<=n:\n",
    "    fact*=m\n",
    "    m+=1\n",
    "print(fact)"
   ]
  },
  {
   "cell_type": "code",
   "execution_count": 6,
   "metadata": {},
   "outputs": [
    {
     "name": "stdout",
     "output_type": "stream",
     "text": [
      "prime\n"
     ]
    }
   ],
   "source": [
    "#27 WAP to check whether a given number is a prime number or not.\n",
    "n=eval(input('enter the value'))\n",
    "start=2\n",
    "count=0\n",
    "while start<n:\n",
    "    if n%start==0:\n",
    "        count+=1\n",
    "    start+=1\n",
    "if count==0:\n",
    "    print('prime')\n",
    "else:\n",
    "    print('not prime')\n"
   ]
  },
  {
   "cell_type": "code",
   "execution_count": 1,
   "metadata": {},
   "outputs": [
    {
     "name": "stdout",
     "output_type": "stream",
     "text": [
      "2 is a prime number\n",
      "3 is a prime number\n",
      "5 is a prime number\n",
      "7 is a prime number\n"
     ]
    }
   ],
   "source": [
    "#28 WAP to print the prime numbers in the given range m to n.\n",
    "i=eval(input('enter i'))\n",
    "j=eval(input('enter j'))\n",
    "while i<=j:\n",
    "    n=i\n",
    "    count=0\n",
    "    start=1\n",
    "    while start<=n:\n",
    "        if n%start==0:\n",
    "            count+=1\n",
    "        start+=1\n",
    "    if count==2:\n",
    "        print(i, 'is a prime number')\n",
    "    i+=1\n",
    "\n",
    "\n"
   ]
  },
  {
   "cell_type": "code",
   "execution_count": 20,
   "metadata": {},
   "outputs": [
    {
     "name": "stdout",
     "output_type": "stream",
     "text": [
      "407 is a armstrong number\n"
     ]
    }
   ],
   "source": [
    "#29 WAP to check whether a given number is an armstrong number or not.\n",
    "#case1\n",
    "num=int(input())\n",
    "count=len(str(num))\n",
    "sum=0\n",
    "start=num\n",
    "while start:\n",
    "    digit=start%10\n",
    "    sum+=digit**count\n",
    "    start=start//10\n",
    "if num==sum:\n",
    "    print(num, 'is a armstrong number')\n",
    "else :\n",
    "    print(num, 'is not a armstrong number')\n",
    "    \n",
    "\n"
   ]
  },
  {
   "cell_type": "code",
   "execution_count": 18,
   "metadata": {},
   "outputs": [
    {
     "name": "stdout",
     "output_type": "stream",
     "text": [
      "153 is a armstrong number\n"
     ]
    }
   ],
   "source": [
    "#case2\n",
    "num=int(input('enter the number:'))\n",
    "st=str(num)\n",
    "start=0\n",
    "sum=0\n",
    "while start<len(st):\n",
    "    res=int(st[start])**len(st)\n",
    "    sum+=res\n",
    "    start+=1\n",
    "if num==sum:\n",
    "    print(num, 'is a armstrong number')\n",
    "else:\n",
    "    print(num,'is not a armstrong number')\n",
    "   "
   ]
  },
  {
   "cell_type": "code",
   "execution_count": 21,
   "metadata": {},
   "outputs": [
    {
     "name": "stdout",
     "output_type": "stream",
     "text": [
      "153\n",
      "370\n",
      "371\n",
      "407\n"
     ]
    }
   ],
   "source": [
    "#30 WAP to print the armstrong numbers in the given range m to n.\n",
    "#case 1\n",
    "m=int(input('enter starting range'))\n",
    "n=int(input('enter ending range'))\n",
    "while m<=n:\n",
    "    num=m\n",
    "    count=len(str(num))\n",
    "    sum=0\n",
    "    start=num\n",
    "    while start:\n",
    "        digit=start%10\n",
    "        sum+=digit**count\n",
    "        start=start//10\n",
    "    if num==sum:\n",
    "        print(num)\n",
    "    m+=1"
   ]
  },
  {
   "cell_type": "code",
   "execution_count": 24,
   "metadata": {},
   "outputs": [
    {
     "name": "stdout",
     "output_type": "stream",
     "text": [
      "153\n",
      "370\n",
      "371\n",
      "407\n"
     ]
    }
   ],
   "source": [
    "#case2\n",
    "m=int(input('enter starting range'))\n",
    "n=int(input('enter ending range'))\n",
    "while m<=n:\n",
    "    num=m\n",
    "    st=str(num)\n",
    "    start=0\n",
    "    sum=0\n",
    "    while start<len(st):\n",
    "        res=int(st[start])**len(st)\n",
    "        sum+=res\n",
    "        start+=1\n",
    "    if num==sum:\n",
    "        print(num)\n",
    "    m+=1"
   ]
  },
  {
   "cell_type": "code",
   "execution_count": 20,
   "metadata": {},
   "outputs": [
    {
     "name": "stdout",
     "output_type": "stream",
     "text": [
      "2,3,5,7,11,13,17,19,23,29,31,37,41,43,47,"
     ]
    }
   ],
   "source": [
    "#31  Write a program to print prime series 1 to nth.\n",
    "i=1\n",
    "n=int(input())\n",
    "while i<=n:\n",
    "    z=i\n",
    "    start=1\n",
    "    count=0\n",
    "    while start<=z:\n",
    "        if z%start==0:\n",
    "            count+=1\n",
    "        start+=1\n",
    "    if count==2:\n",
    "        print(z, end=',')\n",
    "    i+=1"
   ]
  },
  {
   "cell_type": "code",
   "execution_count": 1,
   "metadata": {},
   "outputs": [
    {
     "name": "stdout",
     "output_type": "stream",
     "text": [
      "2 is a prime number\n",
      "5 is a prime number\n",
      "11 is a prime number\n",
      "13 is a prime number\n",
      "sum = 31\n"
     ]
    }
   ],
   "source": [
    "#33 Write a program Sum of prime numbers in a given collection.\n",
    "l=[21,2,10,5,77,11,13,42,20]\n",
    "sum=0\n",
    "start=0\n",
    "while start<len(l):\n",
    "    i=2\n",
    "    j=l[start]\n",
    "    count=0\n",
    "    while i<j:\n",
    "        if j%i==0:\n",
    "            count+=1\n",
    "        i+=1\n",
    "    if count==0:\n",
    "        print(j, 'is a prime number')\n",
    "        sum+=j\n",
    "    start+=1\n",
    "print('sum','=',sum)\n",
    "    \n",
    "\n",
    "    \n"
   ]
  },
  {
   "cell_type": "code",
   "execution_count": 10,
   "metadata": {},
   "outputs": [
    {
     "name": "stdout",
     "output_type": "stream",
     "text": [
      "101 number is a palindrome!\n"
     ]
    }
   ],
   "source": [
    "#34 WAP to the given number is palindrome or not.\n",
    "#case 1\n",
    "n=int(input(\"Enter number:\"))\n",
    "temp=n\n",
    "rev=0\n",
    "while(n>0):\n",
    "    dig=n%10\n",
    "    rev=rev*10+dig\n",
    "    n=n//10\n",
    "if(temp==rev):\n",
    "    print(temp,\"number is a palindrome!\")\n",
    "else:\n",
    "    print(temp,\"number isn't a palindrome!\")"
   ]
  },
  {
   "cell_type": "code",
   "execution_count": 11,
   "metadata": {},
   "outputs": [
    {
     "name": "stdout",
     "output_type": "stream",
     "text": [
      "123 is not a palindrome\n"
     ]
    }
   ],
   "source": [
    "#case 2\n",
    "n=int(input())\n",
    "n=str(n)\n",
    "start=-1\n",
    "res=''\n",
    "while start>=(-len(n)):\n",
    "    res+=n[start]\n",
    "    start-=1\n",
    "if n==res:\n",
    "    print(n, 'is a palindrome')\n",
    "else:\n",
    "    print(n, 'is not a palindrome')"
   ]
  },
  {
   "cell_type": "code",
   "execution_count": 8,
   "metadata": {},
   "outputs": [
    {
     "name": "stdout",
     "output_type": "stream",
     "text": [
      "amma\n",
      "amma\n",
      "amma\n",
      "amma\n",
      "amma\n",
      "amma\n",
      "amma\n",
      "amma\n",
      "amma\n",
      "amma\n"
     ]
    }
   ],
   "source": [
    "#35 WAP to check whether the length of the string is even or odd. If it is even, print that string 10 times. If it is not printed 5 times.\n",
    "st=input('enter the value:')\n",
    "start=1\n",
    "if len(st)%2==0:\n",
    "    while start<=10:\n",
    "        print(st)\n",
    "        start+=1\n",
    "else:\n",
    "    while start<=5:\n",
    "        print(st)\n",
    "        start+=1\n",
    "    "
   ]
  },
  {
   "cell_type": "code",
   "execution_count": 24,
   "metadata": {},
   "outputs": [
    {
     "name": "stdout",
     "output_type": "stream",
     "text": [
      "A\n",
      "B\n",
      "C\n",
      "D\n",
      "E\n",
      "F\n",
      "G\n",
      "H\n",
      "I\n",
      "J\n",
      "K\n",
      "L\n",
      "M\n",
      "N\n",
      "O\n",
      "P\n",
      "Q\n",
      "R\n",
      "S\n",
      "T\n",
      "U\n",
      "V\n",
      "W\n",
      "X\n",
      "Y\n",
      "Z\n"
     ]
    }
   ],
   "source": [
    "#36 WAP to print the uppercase character from ‘A’ to ‘Z’ by using a while loop.\n",
    "start=ord('A')\n",
    "end=ord('Z')\n",
    "while start<=end:\n",
    "    print(chr(start))\n",
    "    start+=1\n",
    "    "
   ]
  },
  {
   "cell_type": "code",
   "execution_count": 25,
   "metadata": {},
   "outputs": [
    {
     "name": "stdout",
     "output_type": "stream",
     "text": [
      "a\n",
      "b\n",
      "c\n",
      "d\n",
      "e\n",
      "f\n",
      "g\n",
      "h\n",
      "i\n",
      "j\n",
      "k\n",
      "l\n",
      "m\n",
      "n\n",
      "o\n",
      "p\n",
      "q\n",
      "r\n",
      "s\n",
      "t\n",
      "u\n",
      "v\n",
      "w\n",
      "x\n",
      "y\n",
      "z\n"
     ]
    }
   ],
   "source": [
    "#37 WAP to print the lowercase character from ‘a’ to ‘z’ by using a while loop.\n",
    "start=ord('a')\n",
    "end=ord('z')\n",
    "while start<=end:\n",
    "    print(chr(start))\n",
    "    start+=1\n"
   ]
  },
  {
   "cell_type": "code",
   "execution_count": 26,
   "metadata": {},
   "outputs": [
    {
     "name": "stdout",
     "output_type": "stream",
     "text": [
      "0\n",
      "1\n",
      "2\n",
      "3\n",
      "4\n",
      "5\n",
      "6\n",
      "7\n",
      "8\n",
      "9\n"
     ]
    }
   ],
   "source": [
    "#38 WAP to print the ascii numbers character from ‘0’ to ‘9’ by using a while loop.\n",
    "start=ord('0')\n",
    "end=ord('9')\n",
    "while start<=end:\n",
    "    print(chr(start))\n",
    "    start+=1\n",
    "\n"
   ]
  },
  {
   "cell_type": "code",
   "execution_count": 27,
   "metadata": {},
   "outputs": [
    {
     "name": "stdout",
     "output_type": "stream",
     "text": [
      "E\n",
      "F\n",
      "G\n",
      "H\n",
      "I\n",
      "J\n",
      "K\n",
      "L\n",
      "M\n",
      "N\n",
      "O\n",
      "P\n",
      "Q\n",
      "R\n",
      "S\n",
      "T\n",
      "U\n"
     ]
    }
   ],
   "source": [
    "#39 WAP to print the uppercase character from ‘E’ to ‘U’ by using a while loop.\n",
    "start=ord('E')\n",
    "end=ord('U')\n",
    "while start<=end:\n",
    "    print(chr(start))\n",
    "    start+=1\n",
    "\n"
   ]
  },
  {
   "cell_type": "code",
   "execution_count": 29,
   "metadata": {},
   "outputs": [
    {
     "name": "stdout",
     "output_type": "stream",
     "text": [
      "Z\n",
      "Y\n",
      "X\n",
      "W\n",
      "V\n",
      "U\n",
      "T\n",
      "S\n",
      "R\n",
      "Q\n",
      "P\n",
      "O\n",
      "N\n",
      "M\n",
      "L\n",
      "K\n",
      "J\n",
      "I\n",
      "H\n",
      "G\n",
      "F\n",
      "E\n",
      "D\n",
      "C\n",
      "B\n",
      "A\n"
     ]
    }
   ],
   "source": [
    "#40 WAP to print the uppercase character from ‘Z’ to ‘A’ by using a while loop.\n",
    "start=ord('Z')\n",
    "end=ord('A')\n",
    "while start>=end:\n",
    "    print(chr(start))\n",
    "    start-=1"
   ]
  },
  {
   "cell_type": "code",
   "execution_count": 30,
   "metadata": {},
   "outputs": [
    {
     "name": "stdout",
     "output_type": "stream",
     "text": [
      "U\n",
      "T\n",
      "S\n",
      "R\n",
      "Q\n",
      "P\n",
      "O\n",
      "N\n",
      "M\n",
      "L\n",
      "K\n",
      "J\n",
      "I\n",
      "H\n",
      "G\n"
     ]
    }
   ],
   "source": [
    "#41 WAP to print the uppercase character from ‘U’ to ‘G’ by using a while loop.\n",
    "start=ord('U')\n",
    "end=ord('G')\n",
    "while start>=end:\n",
    "    print(chr(start))\n",
    "    start-=1\n"
   ]
  },
  {
   "cell_type": "code",
   "execution_count": 32,
   "metadata": {},
   "outputs": [
    {
     "name": "stdout",
     "output_type": "stream",
     "text": [
      "i\n",
      "j\n",
      "k\n",
      "l\n",
      "m\n",
      "n\n",
      "o\n",
      "p\n",
      "q\n",
      "r\n",
      "s\n",
      "t\n",
      "u\n",
      "v\n",
      "w\n",
      "x\n",
      "y\n"
     ]
    }
   ],
   "source": [
    "#42 WAP to print the lowercase character from ‘i’ to ‘y’ by using a while loop.\n",
    "start=ord('i')\n",
    "end=ord('y')\n",
    "while start<=end:\n",
    "    print(chr(start))\n",
    "    start+=1\n",
    "\n"
   ]
  },
  {
   "cell_type": "code",
   "execution_count": 36,
   "metadata": {},
   "outputs": [
    {
     "name": "stdout",
     "output_type": "stream",
     "text": [
      "B\n",
      "D\n",
      "F\n",
      "H\n",
      "J\n",
      "L\n",
      "N\n",
      "P\n",
      "R\n",
      "T\n",
      "V\n",
      "X\n",
      "Z\n"
     ]
    }
   ],
   "source": [
    "#45 WAP to print the uppercase characters based on even ascii values.\n",
    "start=ord('A')\n",
    "end=ord('Z')\n",
    "while start<=end:\n",
    "    if start%2==0:\n",
    "        print(chr(start))\n",
    "    start+=1\n",
    "\n"
   ]
  },
  {
   "cell_type": "code",
   "execution_count": 40,
   "metadata": {},
   "outputs": [
    {
     "name": "stdout",
     "output_type": "stream",
     "text": [
      "a\n",
      "c\n",
      "e\n",
      "g\n",
      "i\n",
      "k\n",
      "m\n",
      "o\n",
      "q\n",
      "s\n",
      "u\n",
      "w\n",
      "y\n"
     ]
    }
   ],
   "source": [
    "#48 WAP to print the lowercase characters based on odd ascii values.\n",
    "start=ord('a')\n",
    "end=ord('z')\n",
    "while start<=end:\n",
    "    if start%2!=0:\n",
    "        print(chr(start))\n",
    "    start+=1\n",
    "\n"
   ]
  },
  {
   "cell_type": "code",
   "execution_count": 44,
   "metadata": {},
   "outputs": [
    {
     "name": "stdout",
     "output_type": "stream",
     "text": [
      "4\n"
     ]
    }
   ],
   "source": [
    "#51 WAP to count the number of vowels present in D to V.\n",
    "start=ord('D')\n",
    "end=ord('V')\n",
    "count=0\n",
    "while start <= end:\n",
    "    if chr(start) in ('A','E','I','O','U'):\n",
    "        count+=1\n",
    "    start+=1\n",
    "print(count)"
   ]
  },
  {
   "cell_type": "code",
   "execution_count": 47,
   "metadata": {},
   "outputs": [
    {
     "name": "stdout",
     "output_type": "stream",
     "text": [
      "4\n"
     ]
    }
   ],
   "source": [
    "#52 WAP to count the number of vowels present in u to e.\n",
    "start=ord('u')\n",
    "end=ord('e')\n",
    "count=0\n",
    "while start >= end:\n",
    "    if chr(start) in ('a','e','i','o','u'):\n",
    "        count+=1\n",
    "    start-=1\n",
    "print(count)\n"
   ]
  },
  {
   "cell_type": "code",
   "execution_count": 49,
   "metadata": {},
   "outputs": [
    {
     "name": "stdout",
     "output_type": "stream",
     "text": [
      "9\n",
      "36\n",
      "81\n"
     ]
    }
   ],
   "source": [
    "#53\n",
    "#1. WAP to print the square of the number in between the range from m to n which is multiple of 3.\n",
    "m=int(input())\n",
    "n=int(input())\n",
    "while m<=n:\n",
    "    if m%3==0:\n",
    "        print(m**2)\n",
    "    m+=1\n"
   ]
  },
  {
   "cell_type": "code",
   "execution_count": 50,
   "metadata": {},
   "outputs": [
    {
     "name": "stdout",
     "output_type": "stream",
     "text": [
      "10\n",
      "15\n",
      "20\n",
      "25\n",
      "30\n",
      "35\n",
      "40\n",
      "45\n",
      "50\n",
      "55\n",
      "60\n",
      "65\n",
      "70\n",
      "75\n",
      "80\n",
      "85\n",
      "90\n",
      "95\n",
      "100\n"
     ]
    }
   ],
   "source": [
    "#53\n",
    "#2. WAP to print a number from range m to n which is divisible by 5.\n",
    "m=int(input())\n",
    "n=int(input())\n",
    "while m<=n:\n",
    "    if m%5==0:\n",
    "        print(m)\n",
    "    m+=1"
   ]
  },
  {
   "cell_type": "code",
   "execution_count": 14,
   "metadata": {},
   "outputs": [
    {
     "name": "stdout",
     "output_type": "stream",
     "text": [
      "9\n"
     ]
    }
   ],
   "source": [
    "#54 Write a program which takes an integer number and find the sum of digits and repeat until the sum gets a single digit in the end.\n",
    "n=5643\n",
    "while n>=10:\n",
    "    sum=0\n",
    "    i=n\n",
    "    while i>0:\n",
    "        digit=i%10\n",
    "        sum+=digit\n",
    "        i=i//10\n",
    "    n=sum\n",
    "print(sum)"
   ]
  },
  {
   "cell_type": "code",
   "execution_count": 4,
   "metadata": {},
   "outputs": [
    {
     "name": "stdout",
     "output_type": "stream",
     "text": [
      "14\n"
     ]
    }
   ],
   "source": [
    "#55 Write a program to count the numbers of 2’s between 0 and n.\n",
    "start=int(input())\n",
    "end=int(input())\n",
    "l=[]\n",
    "while start<=end:\n",
    "    l+=str(start)\n",
    "    start+=1\n",
    "z=0\n",
    "count=0\n",
    "while z<len(l):\n",
    "    if l[z]=='2':\n",
    "        count+=1\n",
    "    z+=1\n",
    "print(count)\n"
   ]
  },
  {
   "cell_type": "code",
   "execution_count": 19,
   "metadata": {},
   "outputs": [
    {
     "name": "stdout",
     "output_type": "stream",
     "text": [
      "[0, 2, 3, 6, 10]\n",
      "180\n"
     ]
    }
   ],
   "source": [
    "#56 \n",
    "\n",
    "'''Write a program to find max product of three numbers from the given integer \n",
    "array\n",
    "Input arr() =6,3,2,0,10\n",
    "Example: 10*6*3\n",
    "Output =180.'''\n",
    "\n",
    "l=[6,3,2,0,10]\n",
    "l.sort()\n",
    "# print(l)\n",
    "\n",
    "op1=l[-1]*l[-2]*l[-3]\n",
    "op2=l[0]*l[1]*l[2]\n",
    "op3=l[0]*l[1]*l[-1]\n",
    "\n",
    "if op1>op2 and op1>op3:\n",
    "    print(op1)\n",
    "elif op2>op1 and op2>op3:\n",
    "    print(op2)\n",
    "else:\n",
    "    print(op3)"
   ]
  },
  {
   "cell_type": "code",
   "execution_count": 10,
   "metadata": {},
   "outputs": [
    {
     "name": "stdout",
     "output_type": "stream",
     "text": [
      "99\n"
     ]
    }
   ],
   "source": [
    "#57\n",
    "\n",
    "'''Write a java program to find the largest number ‘M’ less than a given number ‘N’ \n",
    "which should not contain a given digit ‘D’.\n",
    "For example, if 150 is the given number and 5 is the given digit, then you should \n",
    "find the largest number less than 150 such that it should not contain 5 in it. In this \n",
    "case, 149 will be the answer.'''\n",
    "\n",
    "num=150\n",
    "res=num-1\n",
    "d=1\n",
    "\n",
    "while True:\n",
    "    if res<num and str(d) not in str(res):\n",
    "        print(res)\n",
    "        break\n",
    "    res=res-1"
   ]
  },
  {
   "cell_type": "code",
   "execution_count": 13,
   "metadata": {},
   "outputs": [
    {
     "name": "stdout",
     "output_type": "stream",
     "text": [
      "H\n",
      "e\n",
      "l\n",
      "l\n",
      "o\n",
      " \n",
      "W\n",
      "o\n",
      "r\n",
      "l\n",
      "d\n",
      "@\n",
      "1\n",
      "2\n",
      "3\n"
     ]
    }
   ],
   "source": [
    "#58 WAP to print all the characters in a given string.\n",
    "string=input()\n",
    "start=0\n",
    "while start<len(string):\n",
    "        print(string[start])\n",
    "        start+=1\n"
   ]
  },
  {
   "cell_type": "code",
   "execution_count": 36,
   "metadata": {},
   "outputs": [
    {
     "name": "stdout",
     "output_type": "stream",
     "text": [
      "w\n",
      "o\n",
      "r\n",
      "l\n",
      "d\n"
     ]
    }
   ],
   "source": [
    "#59 WAP to print all the items present in the string between the range from m to n.\n",
    "string='helloworld'\n",
    "m=int(input())\n",
    "n=int(input())\n",
    "while m<n-1:\n",
    "    print(string[m])\n",
    "    m+=1\n",
    "\n"
   ]
  },
  {
   "cell_type": "code",
   "execution_count": 41,
   "metadata": {},
   "outputs": [
    {
     "name": "stdout",
     "output_type": "stream",
     "text": [
      "@\n",
      "#\n"
     ]
    }
   ],
   "source": [
    "#63 WAP to print the special characters in a given string.\n",
    "string=input()\n",
    "start=0\n",
    "while start<len(string):\n",
    "    if not('A'<=string[start]<='z' or 'a'<=string[start]<='z' or '0'<=string[start]<='9'):\n",
    "        print(string[start])\n",
    "    start+=1\n"
   ]
  },
  {
   "cell_type": "code",
   "execution_count": 44,
   "metadata": {},
   "outputs": [
    {
     "name": "stdout",
     "output_type": "stream",
     "text": [
      "h\n",
      "l\n",
      "l\n",
      "w\n",
      "r\n",
      "l\n",
      "d\n"
     ]
    }
   ],
   "source": [
    "#65 WAP to Print the consonants in a given string.\n",
    "string=input()\n",
    "start=0\n",
    "while start<len(string):\n",
    "    if string[start] not in ('A','E','I','O','U','a','e','i','o','u'):  \n",
    "        print(string[start])\n",
    "    start+=1\n",
    "\n"
   ]
  },
  {
   "cell_type": "code",
   "execution_count": 45,
   "metadata": {},
   "outputs": [
    {
     "name": "stdout",
     "output_type": "stream",
     "text": [
      "11\n"
     ]
    }
   ],
   "source": [
    "#69 WAP to count the total Number of characters in a given string.\n",
    "st='hello world'\n",
    "start=0\n",
    "count=0\n",
    "while start<len(st):\n",
    "    count+=1\n",
    "    start+=1\n",
    "print(count)"
   ]
  },
  {
   "cell_type": "code",
   "execution_count": 47,
   "metadata": {},
   "outputs": [
    {
     "name": "stdout",
     "output_type": "stream",
     "text": [
      "7\n"
     ]
    }
   ],
   "source": [
    "#70 WAP to count alphabets in a given string.\n",
    "st=input()\n",
    "count=0\n",
    "start=0\n",
    "while start<len(st):\n",
    "    if ('a'<=st[start]<='z' or 'A'<=st[start]<='Z'):\n",
    "        count+=1\n",
    "    start+=1\n",
    "print(count)"
   ]
  },
  {
   "cell_type": "code",
   "execution_count": 206,
   "metadata": {},
   "outputs": [
    {
     "name": "stdout",
     "output_type": "stream",
     "text": [
      "HELLOPYSPIDERS\n"
     ]
    }
   ],
   "source": [
    "#99 WAP to convert lowercase to uppercase in a given string.\n",
    "st='heLLOpySPIDERs'\n",
    "res=''\n",
    "start=0\n",
    "while start<len(st):\n",
    "    if 'a'<=st[start]<='z':\n",
    "        res+=chr(ord(st[start])-32)\n",
    "    else:\n",
    "        res+=st[start]\n",
    "    start+=1\n",
    "print(res)"
   ]
  },
  {
   "cell_type": "code",
   "execution_count": 21,
   "metadata": {},
   "outputs": [
    {
     "name": "stdout",
     "output_type": "stream",
     "text": [
      "HeLlOpysPiDeRs\n"
     ]
    }
   ],
   "source": [
    "#101 WAP to convert uppercase to lowercase in even position characters in a given string.\n",
    "st='HELLOpySPIDERs'\n",
    "res=''\n",
    "start=0\n",
    "while start<len(st):\n",
    "    if start%2!=0:\n",
    "        if 'A'<=st[start]<='Z':\n",
    "            res+=chr(ord(st[start])+32)\n",
    "        else:\n",
    "            res+=st[start]\n",
    "    else:\n",
    "        res+=st[start]\n",
    "    start+=1\n",
    "print(res)\n"
   ]
  },
  {
   "cell_type": "code",
   "execution_count": 22,
   "metadata": {},
   "outputs": [
    {
     "name": "stdout",
     "output_type": "stream",
     "text": [
      "*hElLO*py*SPIderS*\n"
     ]
    }
   ],
   "source": [
    "'''#103 WAP to convert the uppercase letter to lowercase letter and lowercase letter to \n",
    "uppercase letter, if the character is special symbol replace with * for the given \n",
    "input string'''\n",
    "st='#HeLlo@PY$spiDERs?'\n",
    "start=0\n",
    "res=''\n",
    "while start<len(st):\n",
    "    if 'a'<=st[start]<='z':\n",
    "        res+=chr(ord(st[start])-32)\n",
    "    elif 'A'<=st[start]<='Z':\n",
    "        res+=chr(ord(st[start])+32)\n",
    "    elif not('a'<=st[start]<='z'and'A'<=st[start]<='Z'and '0'<=st[start]<='9'):\n",
    "        res+='*'    \n",
    "    start+=1\n",
    "print(res)\n"
   ]
  },
  {
   "cell_type": "code",
   "execution_count": 243,
   "metadata": {},
   "outputs": [
    {
     "name": "stdout",
     "output_type": "stream",
     "text": [
      "3Hello World@Gg123Pys\n"
     ]
    }
   ],
   "source": [
    "#104 WAP to convert title case in a given string.\n",
    "st='3hEllo wORLD@gg123pys'\n",
    "res=''\n",
    "if 'a'<=st[0]<='z':\n",
    "    res+=chr(ord(st[0])-32)\n",
    "    start=1\n",
    "else:\n",
    "    start=0\n",
    "while start<len(st):\n",
    "    if not('a'<=st[start]<='z' or 'A'<=st[start]<='Z' ):\n",
    "        res+=st[start]\n",
    "        if 'a'<=st[start+1]<='z':\n",
    "            res+=chr(ord(st[start+1])-32)\n",
    "        else:\n",
    "            res+=st[start+1]\n",
    "        start+=1\n",
    "    elif 'A'<=st[start]<='Z':\n",
    "        res+=chr(ord(st[start])+32)\n",
    "    else:\n",
    "        res+=st[start]\n",
    "    start+=1\n",
    "print(res)\n",
    "\n",
    "\n",
    "\n"
   ]
  },
  {
   "cell_type": "code",
   "execution_count": 1,
   "metadata": {},
   "outputs": [
    {
     "name": "stdout",
     "output_type": "stream",
     "text": [
      "eoo123aii\n"
     ]
    }
   ],
   "source": [
    "#120 \n",
    "# I/p: 'hello world 123 haii'\n",
    "# o/p: 'eoo123aii'\n",
    "\n",
    "st='hello world 123 haii'\n",
    "start=0\n",
    "res=''\n",
    "while start<len(st):\n",
    "    if st[start] in ('a','e','i','o','u','A','E','I','O','U') or ('0'<=st[start]<'9'):\n",
    "        res+=st[start]\n",
    "    start+=1\n",
    "print(res)\n"
   ]
  },
  {
   "cell_type": "code",
   "execution_count": 3,
   "metadata": {},
   "outputs": [
    {
     "name": "stdout",
     "output_type": "stream",
     "text": [
      "eo o 123 aii\n"
     ]
    }
   ],
   "source": [
    "#121\n",
    "# I/p: ‘hello world 123 haii’\n",
    "# o/p: ’eo o 123 aii’\n",
    "st='hello world 123 haii'\n",
    "start=0\n",
    "res=''\n",
    "while start<len(st):\n",
    "    if st[start] in ('a','e','i','o','u','A','E','I','O','U') or ('0'<=st[start]<'9') or st[start]==' ':\n",
    "        res+=st[start]\n",
    "    start+=1\n",
    "print(res)\n"
   ]
  },
  {
   "cell_type": "code",
   "execution_count": 19,
   "metadata": {},
   "outputs": [
    {
     "name": "stdout",
     "output_type": "stream",
     "text": [
      ")*#$ $*(,44321,ooe,dlrwllh\n"
     ]
    }
   ],
   "source": [
    "#127\n",
    "# i/p: '(*12hello3$ $4#world4*)'\n",
    "# o/p: ')*#$ $*(,44321,ooe,dlrwllh'\n",
    "\n",
    "st='(*12hello3$ $4#world4*)'\n",
    "res1=''\n",
    "res2=''\n",
    "res3=''\n",
    "res4=''\n",
    "res=''\n",
    "start=0\n",
    "while start<len(st):\n",
    "    if not (('a'<=st[start]<='z') or ('A'<=st[start]<='Z') or ('0'<=st[start]<='9')):\n",
    "        res1=st[start]+res1\n",
    "    elif '0'<=st[start]<='9':\n",
    "        res2=st[start]+res2\n",
    "    elif st[start] in ('a','e','i','o','u','A','E','I','O','U'):\n",
    "        res3=st[start]+res3\n",
    "    else:\n",
    "        res4=st[start]+res4\n",
    "    start+=1\n",
    "res=res1+','+res2+','+res3+','+res4\n",
    "print(res)"
   ]
  },
  {
   "cell_type": "code",
   "execution_count": 5,
   "metadata": {},
   "outputs": [
    {
     "name": "stdout",
     "output_type": "stream",
     "text": [
      "hllwrld21\n"
     ]
    }
   ],
   "source": [
    "#133\n",
    "#I/p:’123HELLO WORLD456’\n",
    "#o/p:’hllwrld21’\n",
    "\n",
    "st='123HELLO WORLD456'\n",
    "start=0\n",
    "res=''\n",
    "sum=0\n",
    "while start<len(st):\n",
    "    if ('A'<=st[start]<='Z') and (st[start] not in ('A','E','I','O','U')):\n",
    "        res+=chr(ord(st[start])+32)\n",
    "    elif '0'<=st[start]<='9':\n",
    "        sum+=int(st[start])\n",
    "    start+=1\n",
    "res=res+str(sum)\n",
    "print(res)\n",
    "\n",
    "\n"
   ]
  },
  {
   "cell_type": "code",
   "execution_count": 6,
   "metadata": {},
   "outputs": [
    {
     "name": "stdout",
     "output_type": "stream",
     "text": [
      "123hEllO wOrld456\n"
     ]
    }
   ],
   "source": [
    "#134\n",
    "#I/p:’123HELLO WORLD456’\n",
    "#o/p:’123hEllO wOrld456’\n",
    "\n",
    "st='123HELLO WORLD456'\n",
    "res=''\n",
    "start=0\n",
    "while start<len(st):\n",
    "    if ('A'<=st[start]<='Z') and (st[start] not in ('A','E','I','O','U')):\n",
    "        res+=chr(ord(st[start])+32)\n",
    "    else:\n",
    "        res+=st[start]\n",
    "    start+=1\n",
    "print(res)"
   ]
  },
  {
   "cell_type": "code",
   "execution_count": 23,
   "metadata": {},
   "outputs": [
    {
     "name": "stdout",
     "output_type": "stream",
     "text": [
      "321*E**O *O***654\n"
     ]
    }
   ],
   "source": [
    "#136 \n",
    "#I/p:’123HELLO WORLD456’\n",
    "#o/p:’321*E**O *O***654’\n",
    "\n",
    "#doubt\n",
    "\n",
    "st='123HELLO WORLD456'\n",
    "start=0\n",
    "z1=''\n",
    "z2=''\n",
    "while start<len(st):\n",
    "    if '0'<=st[start]<='9':\n",
    "        z1=st[start]+z1\n",
    "    else:\n",
    "        break\n",
    "    start+=1\n",
    "\n",
    "end=-1\n",
    "while end>-len(st):\n",
    "    if '0'<=st[end]<='9':\n",
    "        z2+=st[end]\n",
    "    else:\n",
    "        break\n",
    "    end-=1\n",
    "\n",
    "res=''\n",
    "while start<(len(st)+end+1):\n",
    "    if ('A'<=st[start]<='Z') and (st[start] not in ('A','E','I','O','U')):\n",
    "        res+='*'\n",
    "    else:\n",
    "        res+=st[start]\n",
    "    start+=1\n",
    "res=z1+res+z2\n",
    "print(res)\n"
   ]
  },
  {
   "cell_type": "code",
   "execution_count": 163,
   "metadata": {},
   "outputs": [
    {
     "name": "stdout",
     "output_type": "stream",
     "text": [
      "axbycz\n"
     ]
    }
   ],
   "source": [
    "#139\n",
    "'''i/p: ‘abc’\n",
    "i/p: ‘xyz’\n",
    "o/p:’axbycz’ '''\n",
    "\n",
    "st1='abc'\n",
    "st2='xyz'\n",
    "res=''\n",
    "start=0\n",
    "while start<len(st1):\n",
    "    res+=st1[start]+st2[start]\n",
    "    start+=1\n",
    "print(res)\n"
   ]
  },
  {
   "cell_type": "code",
   "execution_count": 214,
   "metadata": {},
   "outputs": [
    {
     "name": "stdout",
     "output_type": "stream",
     "text": [
      "axbyczw\n"
     ]
    }
   ],
   "source": [
    "#140\n",
    "'''i/p: ‘abc’\n",
    "i/p: ‘xyzw’\n",
    "o/p:’axbyczw’ '''\n",
    "\n",
    "st1='abc'\n",
    "st2='xyzw'\n",
    "res=''\n",
    "start=0\n",
    "while start<len(st1):\n",
    "    res+=st1[start]+st2[start]\n",
    "    start+=1\n",
    "if len(st1)<len(st2):\n",
    "    res=res+st2[len(st1):]\n",
    "print(res)\n"
   ]
  },
  {
   "cell_type": "code",
   "execution_count": 191,
   "metadata": {},
   "outputs": [
    {
     "name": "stdout",
     "output_type": "stream",
     "text": [
      "axbyczd\n"
     ]
    }
   ],
   "source": [
    "#141\n",
    "'''i/p: ‘abcd’\n",
    "i/p: ‘xyz’\n",
    "o/p:’axbyczd’ '''\n",
    "\n",
    "st1='abcd'\n",
    "st2='xyz'\n",
    "res=''\n",
    "start=0\n",
    "while start<len(st2):\n",
    "    res+=st1[start]+st2[start]\n",
    "    start+=1\n",
    "if len(st1)>len(st2):\n",
    "    res=res+st1[len(st2):]\n",
    "print(res)\n"
   ]
  },
  {
   "cell_type": "code",
   "execution_count": 228,
   "metadata": {},
   "outputs": [
    {
     "name": "stdout",
     "output_type": "stream",
     "text": [
      "axbyczwop\n"
     ]
    }
   ],
   "source": [
    "#142\n",
    "'''i/p: ‘abc’\n",
    "i/p: ‘xyzwop’\n",
    "o/p:’axbyczwop’ '''\n",
    "\n",
    "st1='abc'\n",
    "st2='xyzwop'\n",
    "res=''\n",
    "\n",
    "if len(st1)>len(st2):\n",
    "    m=len(st2)\n",
    "else:\n",
    "    m=len(st1)\n",
    "start=0\n",
    "while start<m:\n",
    "    res+=st1[start]+st2[start]\n",
    "    start+=1\n",
    "if len(st1)>len(st2):\n",
    "    res+=st1[len(st2):]\n",
    "elif len(st1)<len(st2):\n",
    "    res+=st2[len(st1):]\n",
    "else:\n",
    "    pass\n",
    "print(res)\n",
    "    "
   ]
  },
  {
   "cell_type": "code",
   "execution_count": 237,
   "metadata": {},
   "outputs": [
    {
     "name": "stdout",
     "output_type": "stream",
     "text": [
      "a1b2c3\n"
     ]
    }
   ],
   "source": [
    "#143\n",
    "'''i/p:’abc123’\n",
    "o/p:’a1b2c3’ '''\n",
    "\n",
    "st='abc123'\n",
    "st1=''\n",
    "st2=''\n",
    "res=''\n",
    "start=0\n",
    "while start<len(st):\n",
    "    if '0'<=st[start]<='9':\n",
    "        st2+=st[start]\n",
    "    else:\n",
    "        st1+=st[start]\n",
    "    start+=1\n",
    "start=0\n",
    "if len(st1)>len(st2):\n",
    "    m=len(st2)\n",
    "else:\n",
    "    m=len(st1)\n",
    "start=0\n",
    "while start<m:\n",
    "    res+=st1[start]+st2[start]\n",
    "    start+=1\n",
    "if len(st1)>len(st2):\n",
    "    res+=st1[len(st2):]\n",
    "elif len(st1)<len(st2):\n",
    "    res+=st2[len(st1):]\n",
    "else:\n",
    "    pass\n",
    "print(res)\n"
   ]
  },
  {
   "cell_type": "code",
   "execution_count": 241,
   "metadata": {},
   "outputs": [
    {
     "name": "stdout",
     "output_type": "stream",
     "text": [
      "a1b2c\n"
     ]
    }
   ],
   "source": [
    "#144\n",
    "'''i/p:’abc12’\n",
    "o/p:’a1b2c’'''\n",
    "\n",
    "\n",
    "st='abc12'\n",
    "st1=''\n",
    "st2=''\n",
    "res=''\n",
    "start=0\n",
    "while start<len(st):\n",
    "    if '0'<=st[start]<='9':\n",
    "        st2+=st[start]\n",
    "    else:\n",
    "        st1+=st[start]\n",
    "    start+=1\n",
    "start=0\n",
    "if len(st1)>len(st2):\n",
    "    m=len(st2)\n",
    "else:\n",
    "    m=len(st1)\n",
    "start=0\n",
    "while start<m:\n",
    "    res+=st1[start]+st2[start]\n",
    "    start+=1\n",
    "if len(st1)>len(st2):\n",
    "    res+=st1[len(st2):]\n",
    "elif len(st1)<len(st2):\n",
    "    res+=st2[len(st1):]\n",
    "else:\n",
    "    pass\n",
    "print(res)\n"
   ]
  },
  {
   "cell_type": "code",
   "execution_count": 245,
   "metadata": {},
   "outputs": [
    {
     "name": "stdout",
     "output_type": "stream",
     "text": [
      "a1b2c34\n"
     ]
    }
   ],
   "source": [
    "#145\n",
    "'''i/p: ‘abc1234’\n",
    "o/p: ‘a1b2c34’ '''\n",
    "\n",
    "\n",
    "st='abc1234'\n",
    "st1=''\n",
    "st2=''\n",
    "res=''\n",
    "start=0\n",
    "while start<len(st):\n",
    "    if '0'<=st[start]<='9':\n",
    "        st2+=st[start]\n",
    "    else:\n",
    "        st1+=st[start]\n",
    "    start+=1\n",
    "start=0\n",
    "if len(st1)>len(st2):\n",
    "    m=len(st2)\n",
    "else:\n",
    "    m=len(st1)\n",
    "start=0\n",
    "while start<m:\n",
    "    res+=st1[start]+st2[start]\n",
    "    start+=1\n",
    "if len(st1)>len(st2):\n",
    "    res+=st1[len(st2):]\n",
    "elif len(st1)<len(st2):\n",
    "    res+=st2[len(st1):]\n",
    "else:\n",
    "    pass\n",
    "print(res)\n"
   ]
  },
  {
   "cell_type": "code",
   "execution_count": 246,
   "metadata": {},
   "outputs": [
    {
     "name": "stdout",
     "output_type": "stream",
     "text": [
      "a1b2c34\n"
     ]
    }
   ],
   "source": [
    "#146\n",
    "'''i/p: ‘1a2bc34’\n",
    "o/p:’a1b2c34’'''\n",
    "\n",
    "st='1a2bc34'\n",
    "st1=''\n",
    "st2=''\n",
    "res=''\n",
    "start=0\n",
    "while start<len(st):\n",
    "    if '0'<=st[start]<='9':\n",
    "        st2+=st[start]\n",
    "    else:\n",
    "        st1+=st[start]\n",
    "    start+=1\n",
    "start=0\n",
    "if len(st1)>len(st2):\n",
    "    m=len(st2)\n",
    "else:\n",
    "    m=len(st1)\n",
    "start=0\n",
    "while start<m:\n",
    "    res+=st1[start]+st2[start]\n",
    "    start+=1\n",
    "if len(st1)>len(st2):\n",
    "    res+=st1[len(st2):]\n",
    "elif len(st1)<len(st2):\n",
    "    res+=st2[len(st1):]\n",
    "else:\n",
    "    pass\n",
    "print(res)"
   ]
  },
  {
   "cell_type": "code",
   "execution_count": 1,
   "metadata": {},
   "outputs": [
    {
     "name": "stdout",
     "output_type": "stream",
     "text": [
      "3\n"
     ]
    }
   ],
   "source": [
    "#147 i/p:'abcdnmpoijkl12yzabcd5' o/p:3\n",
    "\n",
    "st='abcdnmpoijkl12yzabcd5'\n",
    "start=0\n",
    "sum=0\n",
    "while start<(len(st)-1):\n",
    "    if '0'<=st[start]<='9':\n",
    "        sum+=int(st[start])\n",
    "    start+=1\n",
    "print(sum)\n"
   ]
  },
  {
   "cell_type": "code",
   "execution_count": 4,
   "metadata": {},
   "outputs": [
    {
     "name": "stdout",
     "output_type": "stream",
     "text": [
      "HA1I2I3 HE4LLO5\n"
     ]
    }
   ],
   "source": [
    "#148 \n",
    "'''I/P: ‘HAII HELLO’\n",
    "O/P: ‘HA1I2I3 HE4LLO5’'''\n",
    "\n",
    "st='HAII HELLO'\n",
    "start=0\n",
    "count=0\n",
    "res=''\n",
    "while start<len(st):\n",
    "    if st[start] in ('A','E','I','O','U','a','e','i','o','u'):\n",
    "        count+=1\n",
    "        res+=st[start]+str(count)\n",
    "    else:\n",
    "        res+=st[start]\n",
    "    start+=1\n",
    "print(res)\n",
    "\n"
   ]
  },
  {
   "cell_type": "code",
   "execution_count": 16,
   "metadata": {},
   "outputs": [
    {
     "name": "stdout",
     "output_type": "stream",
     "text": [
      "H1AII 2H3EL4L5O\n"
     ]
    }
   ],
   "source": [
    "#149 \n",
    "'''I/P: ‘HAII HELLO’\n",
    "O/P: ‘H1AII 2H3EL4L5O’'''\n",
    "\n",
    "st='HAII HELLO'\n",
    "start=0\n",
    "res=''\n",
    "count=0\n",
    "while start<len(st):\n",
    "    if st[start] not in ('A','E','I','O','U','a','e','i','o','u') :\n",
    "        count+=1\n",
    "        res+=st[start]+str(count)\n",
    "    else:\n",
    "        res+=st[start]\n",
    "    start+=1\n",
    "print(res)"
   ]
  },
  {
   "cell_type": "code",
   "execution_count": 30,
   "metadata": {},
   "outputs": [
    {
     "name": "stdout",
     "output_type": "stream",
     "text": [
      "['abhinav', 'odd', 'ANUDEEP']\n"
     ]
    }
   ],
   "source": [
    "#150\n",
    "'''WAP to print all the string values present inside the list if the length of the string \n",
    "is odd under the first character starts with a vowel'''\n",
    "\n",
    "l=['abhinav','hai',26,'yuvraj',True,'odd','ANUDEEP']\n",
    "start=0\n",
    "res=[]\n",
    "while start<len(l):\n",
    "    if type(l[start])==str and len(l[start])%2!=0 and l[start][0] in ('a','e','i','o','u','A','E','I','O','U'):\n",
    "        res+=[l[start]]\n",
    "    start+=1\n",
    "print(res)\n"
   ]
  },
  {
   "cell_type": "code",
   "execution_count": 4,
   "metadata": {},
   "outputs": [
    {
     "name": "stdout",
     "output_type": "stream",
     "text": [
      "aaabbcccc\n"
     ]
    }
   ],
   "source": [
    "#151\n",
    "''' Write a program for series\n",
    "Input:- “a3b2c4” ,\n",
    "Output: “aaabbcccc” '''\n",
    "st='a3b2c4'\n",
    "start=0\n",
    "res=''\n",
    "while start<len(st):\n",
    "    if '0'<=st[start]<='9':\n",
    "        res+=st[start-1]*int(st[start])\n",
    "    start+=1\n",
    "print(res)"
   ]
  },
  {
   "cell_type": "code",
   "execution_count": 24,
   "metadata": {},
   "outputs": [
    {
     "name": "stdout",
     "output_type": "stream",
     "text": [
      "a3b2c4\n"
     ]
    }
   ],
   "source": [
    "#152 \n",
    "''' Write a program for series\n",
    "Input: “aaabbcccc”\n",
    "Output:- “a3b2c4” '''\n",
    "\n",
    "st='aaabbcccc'\n",
    "res=''\n",
    "for i in st:\n",
    "    if i not in res:\n",
    "        res+=i\n",
    "op=''\n",
    "for i in res:\n",
    "    count=0\n",
    "    for j in st:\n",
    "        if i==j:\n",
    "            count+=1\n",
    "    op+=i+str(count)\n",
    "print(op)"
   ]
  },
  {
   "cell_type": "code",
   "execution_count": 55,
   "metadata": {},
   "outputs": [
    {
     "name": "stdout",
     "output_type": "stream",
     "text": [
      "B3c1f5\n"
     ]
    }
   ],
   "source": [
    "#153\n",
    "'''Write a program frequency of each character in given string when count is a \n",
    "prime number\n",
    "input:”aaaaBBBcddddfffff”\n",
    "Output: (“B3”,”c1”,”f5”)'''\n",
    "\n",
    "st='aaaaBBBcddddfffff'\n",
    "res=''\n",
    "for i in st:\n",
    "    if i not in res:\n",
    "        res+=i\n",
    "op=''\n",
    "for i in res:\n",
    "    count=0\n",
    "    for j in st:\n",
    "        if i==j:\n",
    "            count+=1\n",
    "    if count%2!=0:\n",
    "        op+=i+str(count)\n",
    "print(op)\n",
    "\n",
    "\n"
   ]
  },
  {
   "cell_type": "code",
   "execution_count": 16,
   "metadata": {},
   "outputs": [
    {
     "name": "stdout",
     "output_type": "stream",
     "text": [
      "badcfeg\n"
     ]
    }
   ],
   "source": [
    "#154\n",
    "''' Write a program to swap neighbor char in string.\n",
    "Input: “abcdefg”\n",
    "Output: “badcfeg” '''\n",
    "\n",
    "st='abcdefg'\n",
    "start=0\n",
    "res=''\n",
    "while start<len(st):\n",
    "    if start%2!=0:\n",
    "        res+=st[start]\n",
    "        res+=st[start-1]\n",
    "    start+=1\n",
    "if len(st)%2!=0:\n",
    "    res+=st[-1]\n",
    "print(res)"
   ]
  },
  {
   "cell_type": "code",
   "execution_count": 110,
   "metadata": {},
   "outputs": [
    {
     "name": "stdout",
     "output_type": "stream",
     "text": [
      "['haii', 'how', 'are', 'you', 'venu']\n"
     ]
    }
   ],
   "source": [
    "#155\n",
    "'''WAP to split the sentence in a given string. \n",
    "i/p:'haii how are you venu'\n",
    "o/p:['haii', 'how','are','you','venu']'''\n",
    "\n",
    "st='haii how are you venu'\n",
    "start=0\n",
    "l=[]\n",
    "res=''\n",
    "while start<len(st):\n",
    "    if st[start]!=' ':\n",
    "        res+=st[start]\n",
    "    elif len(res) !=0:\n",
    "        l+=[res]\n",
    "        res=''\n",
    "    start+=1\n",
    "if len(res)!=0:\n",
    "    l+=[res]\n",
    "print(l)\n"
   ]
  },
  {
   "cell_type": "code",
   "execution_count": 157,
   "metadata": {},
   "outputs": [
    {
     "name": "stdout",
     "output_type": "stream",
     "text": [
      "welcome\n"
     ]
    }
   ],
   "source": [
    "#156 Find out the longest word in the string below. Sentence = ”hello world welcome to python”\n",
    "\n",
    "st='hello world welcome to python'\n",
    "l=[]\n",
    "res=''\n",
    "start=0\n",
    "while start<len(st):\n",
    "    if st[start]!=' ':\n",
    "        res+=st[start]\n",
    "    elif len(res)!=0:\n",
    "        l+=[res]\n",
    "        res=''\n",
    "    start+=1\n",
    "if len(res)!=0:\n",
    "    l+=[res]\n",
    "\n",
    "d={}\n",
    "for i in l:\n",
    "    if i not in d:\n",
    "        d[len(i)]=i\n",
    "    else:\n",
    "        d[len(i)]+=i\n",
    "z=list(d.keys())\n",
    "z.sort()\n",
    "print(d[z[-1]])\n",
    "\n"
   ]
  },
  {
   "cell_type": "code",
   "execution_count": 174,
   "metadata": {},
   "outputs": [
    {
     "name": "stdout",
     "output_type": "stream",
     "text": [
      " olleh dlrow emoclew ot nohtyp\n"
     ]
    }
   ],
   "source": [
    "#157 \n",
    "'''sentence= 'hello world welcome to python'\n",
    "Output:'olleh dlrow emoclew ot nohtyp' '''\n",
    "\n",
    "st='hello world welcome to python'\n",
    "start=0\n",
    "z=''\n",
    "res=''\n",
    "while start<len(st):\n",
    "    if st[start]!=' ':\n",
    "        z+=st[start]\n",
    "    elif len(z)!=0:\n",
    "        z=z[::-1]\n",
    "        res=res+' '+z\n",
    "        z=''\n",
    "    start+=1\n",
    "if len(z)!=0:\n",
    "    z=z[::-1]\n",
    "    res=res+' '+z\n",
    "print(res)"
   ]
  },
  {
   "cell_type": "code",
   "execution_count": 185,
   "metadata": {},
   "outputs": [
    {
     "name": "stdout",
     "output_type": "stream",
     "text": [
      "{'python': 1, 'is': 1, 'a': 1, 'programming': 1, 'language': 1}\n"
     ]
    }
   ],
   "source": [
    "#158\n",
    "''' sentence=” python is a programming language” (Using dictionary \n",
    "comprehension)\n",
    "Output: {‘python’:1, is:1,’a’:1,’language’:1,’programming:1’}'''\n",
    "\n",
    "st='python is a programming language'\n",
    "d={}\n",
    "def usplit(coll,sub):\n",
    "    l=[]\n",
    "    s=''\n",
    "    for i in coll:\n",
    "        if i !=sub:\n",
    "            s+=i\n",
    "        else:\n",
    "            if len(s)!=0:\n",
    "                l+=[s]\n",
    "                s=''\n",
    "    if len(s)!=0:\n",
    "        l+=[s]\n",
    "    return l\n",
    "v=usplit(st,' ')\n",
    "#print(v)\n",
    "\n",
    "for i in v:\n",
    "    if i not in d:\n",
    "        d[i]=1\n",
    "    else:\n",
    "        d[i]=d[i]+1\n",
    "print(d)\n",
    "\n",
    "\n"
   ]
  },
  {
   "cell_type": "code",
   "execution_count": 187,
   "metadata": {},
   "outputs": [
    {
     "name": "stdout",
     "output_type": "stream",
     "text": [
      "['PYTHON', 'SCRIPTING', 'PROGRAMMING', 'LANGUAGE']\n"
     ]
    }
   ],
   "source": [
    "#159\n",
    "'''I/p:'PYTHON SCRIPTING PROGRAMMING LANGUAGE'\n",
    "o/p:['PYTHON’,’SCRIPTING’, ‘PROGRAMMING’,’ LANGUAGE']'''\n",
    "\n",
    "st='PYTHON SCRIPTING PROGRAMMING LANGUAGE'\n",
    "start=0\n",
    "res=''\n",
    "l=[]\n",
    "while start<len(st):\n",
    "    if st[start]!=' ':\n",
    "        res+=st[start]\n",
    "    elif len(res)!=0:\n",
    "        l+=[res]\n",
    "        res=''\n",
    "    start+=1\n",
    "if len(res)!=0:\n",
    "    l+=[res]\n",
    "print(l)\n"
   ]
  },
  {
   "cell_type": "code",
   "execution_count": 210,
   "metadata": {},
   "outputs": [
    {
     "name": "stdout",
     "output_type": "stream",
     "text": [
      "['nohtyp', 'scripting', 'gnimmargorp', 'language']\n"
     ]
    }
   ],
   "source": [
    "#160 \n",
    "'''I/p:'PYTHON SCRIPTING PROGRAMMING LANGUAGE'\n",
    "o/p:['nothyp', 'scripting','gnimmargorp', 'language']'''\n",
    "\n",
    "st='PYTHON SCRIPTING PROGRAMMING LANGUAGE'\n",
    "\n",
    "\n",
    "def ulower(coll):\n",
    "    a=''\n",
    "    start=0\n",
    "\n",
    "    while start<len(coll):\n",
    "        if ('A'<=coll[start]<='Z'):\n",
    "            a+=chr(ord(coll[start])+32)\n",
    "        else:\n",
    "            a+=coll[start]\n",
    "        start+=1\n",
    "    return a\n",
    "b=ulower(st)\n",
    "\n",
    "st=b\n",
    "def usplit(coll,sub):\n",
    "    l=[]\n",
    "    res=''\n",
    "    for i in coll:\n",
    "        if i !=sub:\n",
    "            res+=i\n",
    "        else:\n",
    "            if len(res)!=0:\n",
    "                l+=[res]\n",
    "                res=''\n",
    "    if len(res)!=0:\n",
    "        l+=[res]\n",
    "    return l\n",
    "v=usplit(st,' ')\n",
    "\n",
    "\n",
    "\n",
    "z=[]\n",
    "start=0\n",
    "while start<len(v):\n",
    "    if start%2==0:\n",
    "        z+=[v[start][::-1]]\n",
    "    else:\n",
    "        z+=[v[start]]\n",
    "    start+=1\n",
    "print(z)\n",
    "\n"
   ]
  },
  {
   "cell_type": "code",
   "execution_count": 264,
   "metadata": {},
   "outputs": [
    {
     "name": "stdout",
     "output_type": "stream",
     "text": [
      "['ABCDEFG', 'IJK', 'ABC']\n"
     ]
    }
   ],
   "source": [
    "#161\n",
    "'''I/p: ‘ABCDEFGIJKABC’\n",
    "O/p: [‘ABCDEFG’, ‘IJK’, ‘ ABC’]'''\n",
    "\n",
    "st='ABCDEFGIJKABC'\n",
    "start=0\n",
    "res=''\n",
    "l=[]\n",
    "while start<len(st):\n",
    "    if st[start]!='A' and st[start]!='I':\n",
    "        res+=st[start]\n",
    "    elif len(res)!=0:\n",
    "        l+=[chr(ord(res[0])-1)+res]\n",
    "        res=''\n",
    "    start+=1\n",
    "if len(res)!=0:\n",
    "    l+=[chr(ord(res[0])-1)+res]\n",
    "print(l)\n"
   ]
  },
  {
   "cell_type": "code",
   "execution_count": 318,
   "metadata": {},
   "outputs": [
    {
     "name": "stdout",
     "output_type": "stream",
     "text": [
      "same set of characters but in different order\n"
     ]
    }
   ],
   "source": [
    "#162\n",
    "'''WAP to check whether two given strings contain the same set of characters but in \n",
    "different order.For example, “POT” and “OTP” are having the same set of \n",
    "characters'''\n",
    "\n",
    "st1='POT'\n",
    "st2='OTP'\n",
    "l1=[]\n",
    "l2=[]\n",
    "\n",
    "if len(st1)==len(st2):\n",
    "    start=0\n",
    "    while start<len(st1):\n",
    "        l1+=[ord(st1[start])]\n",
    "        l2+=[ord(st2[start])]\n",
    "        start+=1\n",
    "    if set(l1)==set(l2) and l1!=l2:\n",
    "        print('same set of characters but in different order')\n",
    "    elif set(l1)==set(l2) and l1==l2:\n",
    "        print('same set of characters and same order')\n",
    "    else:\n",
    "        print('not same set of characters')\n",
    "else:\n",
    "    print('not same set of characters')\n",
    "\n"
   ]
  },
  {
   "cell_type": "code",
   "execution_count": 349,
   "metadata": {},
   "outputs": [
    {
     "name": "stdout",
     "output_type": "stream",
     "text": [
      " aavj toncepC rof eht yad\n"
     ]
    }
   ],
   "source": [
    "#163\n",
    "'''WAPto reverse alternate words of a given string starting with the first word and the \n",
    "swap first and last char of the remaining words.\n",
    "For example, if “Java Concept for The Day” is input string then output should be \n",
    "“avaJ toncepc rof eht yaD”'''\n",
    "\n",
    "st='java Concept for the day'\n",
    "i=''\n",
    "j=''\n",
    "start=0\n",
    "while start<len(st):\n",
    "    if st[start]!=' ':\n",
    "        i+=st[start]\n",
    "    elif len(i)!=0:\n",
    "        j=j+' '+(i[-1]+i[1:(len(i)-1)]+i[0])\n",
    "        i=''\n",
    "    start+=1\n",
    "if len(i)!=0:\n",
    "    j=j+' '+(i[-1]+i[1:(len(i)-1)]+i[0])\n",
    "print(j)"
   ]
  },
  {
   "cell_type": "code",
   "execution_count": 358,
   "metadata": {},
   "outputs": [
    {
     "name": "stdout",
     "output_type": "stream",
     "text": [
      "127\n"
     ]
    }
   ],
   "source": [
    "#164\n",
    "'''Find the sum of all numbers present in the string and consider -12 as a negative \n",
    "number in string.\n",
    "Ex: saf67as71mha-12v1\n",
    "o/p: 67 + 71 - 12 + 1 = 127'''\n",
    "\n",
    "st='saf67as71mha-12v1'\n",
    "z=''\n",
    "start=0\n",
    "res=0\n",
    "while start<len(st):\n",
    "    if not(('a'<=st[start]<='z') and ('A'<=st[start]<='z')):\n",
    "        z+=st[start]\n",
    "    elif len(z)!=0:\n",
    "        res=res+int(z)\n",
    "        z=''\n",
    "    start+=1\n",
    "if len(z)!=0:\n",
    "    res+=int(z)\n",
    "print(res)"
   ]
  },
  {
   "cell_type": "code",
   "execution_count": 11,
   "metadata": {},
   "outputs": [
    {
     "name": "stdout",
     "output_type": "stream",
     "text": [
      "Shnvi\n"
     ]
    }
   ],
   "source": [
    "#165\n",
    "'''WAP You are given a string and a number n. Remove the characters which repeat n \n",
    "times or more consecutively and print the remaining string.\n",
    "Ex: n=2\n",
    "Input: Shaanvi\n",
    "Output: Shnvi'''\n",
    "\n",
    "\n",
    "st='Shaanvi'\n",
    "n=2\n",
    "start=0\n",
    "res=''\n",
    "while start<len(st):\n",
    "    if st[start] not in res:\n",
    "        res+=st[start]\n",
    "    start+=1\n",
    "\n",
    "\n",
    "z=''\n",
    "for i in res:\n",
    "    count=0\n",
    "    for j in st:\n",
    "        if i==j:\n",
    "            count+=1\n",
    "    if count!=n:\n",
    "        z+=i\n",
    "print(z)\n",
    "        "
   ]
  },
  {
   "cell_type": "code",
   "execution_count": 43,
   "metadata": {},
   "outputs": [
    {
     "name": "stdout",
     "output_type": "stream",
     "text": [
      "two strings are anagrams\n"
     ]
    }
   ],
   "source": [
    "#166\n",
    "'''WAP Two strings, and are called anagrams if they contain all the same characters in \n",
    "the same frequencies. For example, the anagrams of CAT are CAT, ACT, TAC, TCA, \n",
    "ATC, and CTA.\n",
    "If and are case-insensitive anagrams, print \"Anagrams\"; otherwise, print \"Not \n",
    "Anagrams\" instead.\n",
    "Constraints\n",
    "o Length of both strings in between 1 - 50.\n",
    "o Strings consist of English alphabetic characters.\n",
    "o The comparison should NOT be case sensitive.\n",
    "Sample Input\n",
    "anagram\n",
    "margana\n",
    "Sample Output\n",
    "Anagrams'''\n",
    "\n",
    "st1='anagram'\n",
    "st2='margana'\n",
    "\n",
    "st1=st1.upper()\n",
    "st2=st2.upper()\n",
    "\n",
    "if len(st1)==len(st2):\n",
    "    l1=[]\n",
    "    l2=[]\n",
    "    for i in range(0,len(st1)):\n",
    "        l1+=[st1[i]]\n",
    "        l2+=[st2[i]]\n",
    "    l1.sort()\n",
    "    l2.sort()\n",
    "    if l1==l2:\n",
    "        print('two strings are anagrams')\n",
    "    else:\n",
    "        print('not anagrams')\n",
    "else:\n",
    "    print('not anagrams, strings should be of same length')\n",
    "\n"
   ]
  },
  {
   "cell_type": "code",
   "execution_count": 19,
   "metadata": {},
   "outputs": [
    {
     "name": "stdout",
     "output_type": "stream",
     "text": [
      "oftheday\n"
     ]
    }
   ],
   "source": [
    "#167\n",
    "'''WAP to find the longest substring without repeating characters in a given string.\n",
    "For example, if “javaconceptoftheday” is the input string, then the longest substring \n",
    "without repeating or duplicate characters is “oftheday“.'''\n",
    "\n",
    "st='javaconceptoftheday'\n",
    "\n",
    "res=[]\n",
    "res_ele_len=[]\n",
    "\n",
    "for i in range(0,len(st)):\n",
    "    for j in range(i,len(st)):\n",
    "        if len(set(st[i:j+1]))==len(st[i:j+1]):\n",
    "            res+=[st[i:j+1]]\n",
    "            res_ele_len+=[len(st[i:j+1])]\n",
    "\n",
    "res.sort(key=len)\n",
    "\n",
    "for i in res:\n",
    "    if len(i)==max(res_ele_len):\n",
    "        print(i)\n",
    "        break\n"
   ]
  },
  {
   "cell_type": "code",
   "execution_count": 88,
   "metadata": {},
   "outputs": [
    {
     "name": "stdout",
     "output_type": "stream",
     "text": [
      "wELComE TO yUpp VIDEo SERvICes\n"
     ]
    }
   ],
   "source": [
    "#168\n",
    "'''WAP to convert the given string lower case to upper and upper case to lower.\n",
    "For example,Sample Input:\n",
    "\"WelcOMe to YuPP videO serVicES\"\n",
    "Sample Output:\n",
    "wElComE TO yUpp VIDEo SERvICes'''\n",
    "\n",
    "st='WelcOMe to YuPP videO serVicES'\n",
    "res=''\n",
    "start=0\n",
    "while start<len(st):\n",
    "    if 'A'<=st[start]<='Z':\n",
    "        res+=chr(ord(st[start])+32)\n",
    "    elif 'a'<=st[start]<='z':\n",
    "        res+=chr(ord(st[start])-32)\n",
    "    else:\n",
    "        res+=st[start]\n",
    "    start+=1\n",
    "print(res)\n",
    "\n",
    "\n"
   ]
  },
  {
   "cell_type": "code",
   "execution_count": 91,
   "metadata": {},
   "outputs": [
    {
     "name": "stdout",
     "output_type": "stream",
     "text": [
      "[5, 3, 2, 1, 6, 4]\n"
     ]
    }
   ],
   "source": [
    "#169\n",
    "'''Write a program to remove the duplicates in a given list.\n",
    "For example,\n",
    "Sample Input: [5, 3, 5, 2, 1, 6, 6, 4]\n",
    "Sample Output: [5, 3, 2, 1, 6, 4]'''\n",
    "\n",
    "l=[5, 3, 5, 2, 1, 6, 6, 4]\n",
    "res=[]\n",
    "start=0\n",
    "while start<len(l):\n",
    "    if l[start] not in res:\n",
    "        res+=[l[start]]\n",
    "    start+=1\n",
    "print(res)\n"
   ]
  },
  {
   "cell_type": "code",
   "execution_count": 3,
   "metadata": {},
   "outputs": [
    {
     "name": "stdout",
     "output_type": "stream",
     "text": [
      " ppuY oediv secivres\n"
     ]
    }
   ],
   "source": [
    "#170 \n",
    "'''WAP to reverse words in a given sentence without using any library method.\n",
    "Sample Input:\n",
    "Yupp video services\n",
    "Sample Output:\n",
    "ppuy oediv secivres'''\n",
    "\n",
    "st='Yupp video services'\n",
    "z=''\n",
    "res=''\n",
    "start=0\n",
    "while start<len(st):\n",
    "    if st[start]!=' ':\n",
    "        z+=st[start]\n",
    "    else:\n",
    "        res=res+' '+z[::-1]\n",
    "        z=''\n",
    "    start+=1\n",
    "res=res+' '+z[::-1]\n",
    "print(res)"
   ]
  },
  {
   "cell_type": "code",
   "execution_count": 4,
   "metadata": {},
   "outputs": [
    {
     "name": "stdout",
     "output_type": "stream",
     "text": [
      "two words formed with the same distinct characters\n"
     ]
    }
   ],
   "source": [
    "'''#171  Given two words, check if both are formed with the same distinct characters.\n",
    "Ex: sairam, sarmi'''\n",
    "\n",
    "st1='sairam'\n",
    "st2='sarmi'\n",
    "start=0\n",
    "l1=[]\n",
    "l2=[]\n",
    "while start<len(st1):\n",
    "    l1+=[ord(st1[start])]\n",
    "    start+=1\n",
    "start=0\n",
    "while start<len(st2):\n",
    "    l2+=[ord(st2[start])]\n",
    "    start+=1\n",
    "if set(l1)==set(l2):\n",
    "    print('two words formed with the same distinct characters')\n",
    "else:\n",
    "    print('different characters')\n"
   ]
  },
  {
   "cell_type": "code",
   "execution_count": 14,
   "metadata": {},
   "outputs": [
    {
     "name": "stdout",
     "output_type": "stream",
     "text": [
      "[10, 5.6, True, 10j, None, 19]\n"
     ]
    }
   ],
   "source": [
    "'''#174 WAP to extract and store the single value data types in a given list.\n",
    "(store the values in list)'''\n",
    "\n",
    "l=[10,{'a':26,'b':25},5.6,True,'hai',10j,[10,20],None,19,{2010,1020},(99,199)]\n",
    "res=[]\n",
    "start=0\n",
    "while start<len(l):\n",
    "    if type(l[start]) in (int,float,complex,bool,bytes,type(None)):\n",
    "        res+=[l[start]] \n",
    "    start+=1\n",
    "print(res)\n"
   ]
  },
  {
   "cell_type": "code",
   "execution_count": 16,
   "metadata": {},
   "outputs": [
    {
     "name": "stdout",
     "output_type": "stream",
     "text": [
      "({'a': 26, 'b': 25}, 'hai', [10, 20], {2010, 1020}, (99, 199))\n"
     ]
    }
   ],
   "source": [
    "'''#175 WAP to extract and store the multi value data types in a given list.\n",
    "(store the values in tuple)'''\n",
    "\n",
    "l=[10,{'a':26,'b':25},5.6,True,'hai',10j,[10,20],None,19,{2010,1020},(99,199)]\n",
    "res=[]\n",
    "start=0\n",
    "while start<len(l):\n",
    "    if type(l[start]) in (str,tuple,list,dict,set):\n",
    "        res+=[l[start]] \n",
    "    start+=1\n",
    "res=tuple(res)\n",
    "print(res)"
   ]
  },
  {
   "cell_type": "code",
   "execution_count": 5,
   "metadata": {},
   "outputs": [
    {
     "name": "stdout",
     "output_type": "stream",
     "text": [
      "2\n"
     ]
    }
   ],
   "source": [
    "#191\n",
    "'''wap count the number of sub same collections in a main collection.\n",
    "ip= [1,2,3,[1,2],[2,5]]\n",
    "op:2'''\n",
    "\n",
    "l=[1,2,3,[1,2],[2,5]]\n",
    "start=0\n",
    "count=0\n",
    "while start<len(l):\n",
    "    if type(l[start])==type(l):\n",
    "        count+=1\n",
    "    start+=1\n",
    "print(count)\n"
   ]
  },
  {
   "cell_type": "code",
   "execution_count": 1,
   "metadata": {},
   "outputs": [
    {
     "name": "stdout",
     "output_type": "stream",
     "text": [
      "{'even': 5, 'odd': 6}\n"
     ]
    }
   ],
   "source": [
    "#192\n",
    "'''Wap to count the number of even and odd numbers is given a list. \n",
    "i/p:[1,8,9,7,25,26,98,75,74,36,15]\n",
    "o/p:{'even':5,'odd':6}'''\n",
    "\n",
    "l=[1,8,9,7,25,26,98,75,74,36,15]\n",
    "start=0\n",
    "count=0\n",
    "sum=0\n",
    "d={}\n",
    "while start<len(l):\n",
    "    if l[start]%2==0:\n",
    "        count+=1\n",
    "    else:\n",
    "        sum+=1\n",
    "    start+=1\n",
    "d['even']=count\n",
    "d['odd']=sum\n",
    "print(d)"
   ]
  },
  {
   "cell_type": "code",
   "execution_count": 3,
   "metadata": {},
   "outputs": [
    {
     "name": "stdout",
     "output_type": "stream",
     "text": [
      "[1, 2, 5, (4+10j), 3]\n",
      "['HAI', 'Hello', 'GOOD', 'HAVE', 'A', 'NICE', 'DAY']\n"
     ]
    }
   ],
   "source": [
    "#193 \n",
    "#case1\n",
    "'''I/P:\n",
    "List_1 = [1, 2, 5, ”HAI, ”Hello”, 4+10j],\n",
    "List_2= [3, ”GOOD”, “HAVE”, ”A”, ”NICE”, ”DAY”]\n",
    "o/p:\n",
    "List_1 = [1, 2, 5, 3, 4+10j],\n",
    "List_2= [”HAI, ”Hello”, ”GOOD”, “HAVE”, ”A”, ”NICE”, ”DAY”]'''\n",
    "\n",
    "l1=[1, 2, 5, 'HAI','Hello', 4+10j]\n",
    "l2=[3,'GOOD','HAVE','A','NICE','DAY']\n",
    "res1=[]\n",
    "res2=[]\n",
    "start=0\n",
    "while start<len(l1):\n",
    "    if type(l1[start]) not in (str,list,tuple,set,dict):\n",
    "        res1+=[l1[start]]\n",
    "    else:\n",
    "        res2+=[l1[start]]\n",
    "    start+=1\n",
    "start=0\n",
    "while start<len(l2):\n",
    "    if type(l2[start]) not in (str,list,tuple,set,dict):\n",
    "        res1+=[l2[start]]\n",
    "    else:\n",
    "        res2+=[l2[start]]\n",
    "    start+=1\n",
    "l1=res1\n",
    "l2=res2\n",
    "print(l1)\n",
    "print(l2)\n"
   ]
  },
  {
   "cell_type": "code",
   "execution_count": 51,
   "metadata": {},
   "outputs": [
    {
     "name": "stdout",
     "output_type": "stream",
     "text": [
      "[1, 2, 5, (4+10j), 3]\n",
      "['Hello', 'HAI', 'GOOD', 'HAVE', 'A', 'NICE', 'DAY']\n"
     ]
    }
   ],
   "source": [
    "#case2\n",
    "\n",
    "l1=[1, 2, 5, 'HAI','Hello', 4+10j]\n",
    "l2=[3,'GOOD','HAVE','A','NICE','DAY']\n",
    "res1=l1.copy()\n",
    "res2=l2.copy()\n",
    "st=[]\n",
    "for i in range(0,len(res1)):\n",
    "    if (type(res1[i])==str):\n",
    "        l2=[res1[i]]+l2\n",
    "        l1.remove(res1[i])\n",
    "for i in range(0,len(res2)):\n",
    "    if (type(res2[i])==int):\n",
    "        l1=l1+[res2[i]]\n",
    "        l2.remove(res2[i])\n",
    "print(l1)\n",
    "print(l2)"
   ]
  },
  {
   "cell_type": "code",
   "execution_count": 115,
   "metadata": {},
   "outputs": [
    {
     "name": "stdout",
     "output_type": "stream",
     "text": [
      "[10, 20, 30, 40, 50, 60, 70]\n"
     ]
    }
   ],
   "source": [
    "#194\n",
    "'''Input=[10,10,10,20,30,40,40,50,60,70,70,70]\n",
    "o/p:[10,20,30,40,50,60,70]\n",
    "Eliminate repeated values.\n",
    "Without using built in functions, set, set compershive, membership operator'''\n",
    "\n",
    "l=[10,10,10,20,30,40,40,50,60,70,70,70]\n",
    "res=[]\n",
    "d={}\n",
    "start=0\n",
    "while start<len(l):\n",
    "    end=0\n",
    "    count=0\n",
    "    while end<len(l):\n",
    "        if l[start]==l[end]:\n",
    "            count+=1\n",
    "        end+=1\n",
    "    d[l[start]]=count\n",
    "    start+=1\n",
    "for i in d:\n",
    "    res+=[i]\n",
    "print(res)"
   ]
  },
  {
   "cell_type": "code",
   "execution_count": 144,
   "metadata": {},
   "outputs": [
    {
     "name": "stdout",
     "output_type": "stream",
     "text": [
      "[2, 3, 6, 8, 10, 60]\n"
     ]
    }
   ],
   "source": [
    "#195 \n",
    "''' You are given an array of n numbers and values of l and m. Print the positive \n",
    "elements of the array which are either divisible by l or by m but not by both. \n",
    "Consider the number if divisible by both and the sum of digits is 6.\n",
    "Ex: arr = {2,3,5,6,8,12,10,60,66} l = 2, m = 3\n",
    "O/P: {2,3,6,8,10,60}'''\n",
    "\n",
    "t=[2,3,5,6,8,12,10,60,66]\n",
    "l=2\n",
    "m=3\n",
    "res=[]\n",
    "start=0\n",
    "while start<len(t):\n",
    "    if (t[start]%l==0 and t[start]%m==0):\n",
    "        sum=0\n",
    "        z=t[start]\n",
    "        while t[start]:\n",
    "            dig=t[start]%10\n",
    "            sum+=dig\n",
    "            t[start]=t[start]//10\n",
    "        if sum==6:\n",
    "            res+=[z]\n",
    "    elif t[start]%l==0 or t[start]%m==0:\n",
    "        res+=[t[start]]\n",
    "    start+=1\n",
    "print(res)\n"
   ]
  },
  {
   "cell_type": "code",
   "execution_count": 160,
   "metadata": {},
   "outputs": [
    {
     "name": "stdout",
     "output_type": "stream",
     "text": [
      "8\n"
     ]
    }
   ],
   "source": [
    "#196 Write a program to find out the 2nd largest number in an array.For example: [1,2,3,4,5,6,7,8,9,0].\n",
    "\n",
    "l=[1,2,3,4,5,6,7,8,9,0]\n",
    "start=0\n",
    "while start<(len(l)-1):\n",
    "    end=0\n",
    "    while end<(len(l)-1):\n",
    "        if l[end]>l[end+1]:\n",
    "            l[end],l[end+1]=l[end+1],l[end]\n",
    "        end+=1\n",
    "    start+=1\n",
    "res=l[-2]\n",
    "print(res)"
   ]
  },
  {
   "cell_type": "code",
   "execution_count": 95,
   "metadata": {},
   "outputs": [
    {
     "name": "stdout",
     "output_type": "stream",
     "text": [
      "[10, 32, 9]\n"
     ]
    }
   ],
   "source": [
    "#197 \n",
    "\n",
    "'''WAP to find a continuous subarray of the given array whose sum is equal to a given \n",
    "number.\n",
    "For example, If {52, 10, 32, 9, 21, 8} is the given array and 51 is the given number, \n",
    "then you have to find a continuous subarray in this array such that its elements add \n",
    "up to 51. In this case, {10, 32, 9} is such a sub array whose elements add up to 51'''\n",
    "\n",
    "z=[52, 10, 32, 9, 21, 8]\n",
    "res=z[0]\n",
    "start=1\n",
    "while start<len(z):\n",
    "    if z[start]>res:\n",
    "        res=z[start]\n",
    "    start+=1\n",
    "res=res-1\n",
    "\n",
    "for i in range(0,len(z)):\n",
    "    for j in range(i+1,len(z)):\n",
    "        if sum(z[i:j+1])==res:\n",
    "            print(z[i:j+1])"
   ]
  },
  {
   "cell_type": "code",
   "execution_count": 7,
   "metadata": {},
   "outputs": [
    {
     "name": "stdout",
     "output_type": "stream",
     "text": [
      "[-5, -9, 4, 1, 0]\n"
     ]
    }
   ],
   "source": [
    "#198\n",
    "'''WAP Arrange the elements of the number array such that all negative numbers are \n",
    "at the left. Print one possible solution.\n",
    "Ex: {-5, 4, -9, 1, 0}\n",
    "Op: {-5, -9, 4, 1, 0}\n",
    "{-5, -9, 1, 4, 0}'''\n",
    "\n",
    "l=[-5, 4, -9, 1, 0]\n",
    "start=0\n",
    "res=[]\n",
    "while start<len(l):\n",
    "    if l[start]<0:\n",
    "        res[1:1]=[l[start]]\n",
    "    else:\n",
    "        res+=[l[start]]\n",
    "    start+=1\n",
    "print(res)"
   ]
  },
  {
   "cell_type": "code",
   "execution_count": 52,
   "metadata": {},
   "outputs": [
    {
     "name": "stdout",
     "output_type": "stream",
     "text": [
      "{6: ['google', 'python'], 8: ['facebook'], 7: ['youtube']}\n"
     ]
    }
   ],
   "source": [
    "#199 wap\n",
    "#l={'google.com','facebook.in','python.edu','youtube.com'}\n",
    "#op={'6':['google','python'],'7':['youtube'],'8':['facebook']}\n",
    "\n",
    "l=['google.com','facebook.in','python.edu','youtube.com']\n",
    "start=0\n",
    "res=[]\n",
    "d={}\n",
    "while start<len(l):\n",
    "    i=0\n",
    "    z=l[start]\n",
    "    while i<len(z):\n",
    "        if z[i]=='.':\n",
    "            res+=[z[0:i]]\n",
    "        i+=1\n",
    "    start+=1    \n",
    "\n",
    "j=0\n",
    "while j<len(res):\n",
    "    if len(res[j]) not in d:\n",
    "        d[len(res[j])]=[res[j]]\n",
    "        #print(d)\n",
    "    else:\n",
    "        d[len(res[j])]+=[res[j]]\n",
    "        #print(d)\n",
    "    j+=1\n",
    "print(d)\n"
   ]
  },
  {
   "cell_type": "code",
   "execution_count": 2,
   "metadata": {},
   "outputs": [
    {
     "name": "stdout",
     "output_type": "stream",
     "text": [
      "['com', 'in', 'edu', 'com']\n",
      "['com', 'in', 'edu']\n",
      "output: [['com', 2], ['in', 1], ['edu', 1]]\n"
     ]
    }
   ],
   "source": [
    "#200 wap\n",
    "#ip={'google.com','facebook.in','python.edu','youtube.com'}\n",
    "#op=[['com',2],['in',1],['edu',1]]\n",
    "\n",
    "\n",
    "l=['google.com','facebook.in','python.edu','youtube.com']\n",
    "m=[]\n",
    "res=[]\n",
    "start=0\n",
    "while start<len(l):\n",
    "    i=l[start]\n",
    "    j=0\n",
    "    while j<len(i):\n",
    "        if i[j]=='.':\n",
    "            m+=[i[j+1:]]\n",
    "        j+=1\n",
    "    start+=1\n",
    "print(m)\n",
    "\n",
    "l=[]\n",
    "for i in m:\n",
    "    if i not in res:\n",
    "        res+=[i]\n",
    "print(res)\n",
    "\n",
    "for i in res:\n",
    "    count=0\n",
    "    for j in m:\n",
    "        if i==j:\n",
    "            count+=1\n",
    "    if count>=1:\n",
    "        l+=[[i,count]] \n",
    "print('output:',l) "
   ]
  },
  {
   "cell_type": "code",
   "execution_count": 325,
   "metadata": {},
   "outputs": [
    {
     "name": "stdout",
     "output_type": "stream",
     "text": [
      "['reerac', 'ruoy', 'tseb', 'eht', 'lla', 'sredipsyp', 'ot', 'emoclew']\n"
     ]
    }
   ],
   "source": [
    "#201 wap\n",
    "#st='welcome to pyspiders all the best your career '\n",
    "#op=('reerac','ruoy','tseb','eth','lla','sredipsys','ot','emoclew')\n",
    "\n",
    "\n",
    "st='welcome to pyspiders all the best your career'\n",
    "res=''\n",
    "l=[]\n",
    "start=0\n",
    "while start<len(st):\n",
    "    if st[start]==' ':\n",
    "        l+=[res]\n",
    "        res=''\n",
    "    else:\n",
    "        res+=st[start]\n",
    "    start+=1\n",
    "l+=[res]\n",
    "t=()\n",
    "end=0\n",
    "while end<len(l):\n",
    "    l[end]=(l[end][::-1])\n",
    "    end+=1\n",
    "t=l[::-1]\n",
    "print(t)\n",
    "\n"
   ]
  },
  {
   "cell_type": "code",
   "execution_count": 130,
   "metadata": {},
   "outputs": [
    {
     "name": "stdout",
     "output_type": "stream",
     "text": [
      "('welcome', 'ot', 'pyspiders', 'lla', 'the', 'tseb', 'your', 'reerac')\n"
     ]
    }
   ],
   "source": [
    "#202 wap\n",
    "#st='welcome to pyspiders all the best your career'\n",
    "#op:('welcome','ot','pyspiders','lla','the','tesb','your','reerac')\n",
    "\n",
    "#case 1\n",
    "st='welcome to pyspiders all the best your career'\n",
    "res=''\n",
    "l=[]\n",
    "t=()\n",
    "i=0\n",
    "while i<len(st):\n",
    "    if st[i]==' ':\n",
    "        l+=[res]\n",
    "        res=''\n",
    "    else:\n",
    "        res+=st[i]\n",
    "    i+=1\n",
    "l+=[res]\n",
    "j=0\n",
    "while j<len(l):\n",
    "    if j%2!=0:\n",
    "        l[j]=l[j][::-1]\n",
    "    j+=1\n",
    "t=tuple(l)\n",
    "print(t)\n"
   ]
  },
  {
   "cell_type": "code",
   "execution_count": 131,
   "metadata": {},
   "outputs": [
    {
     "name": "stdout",
     "output_type": "stream",
     "text": [
      "('welcome', 'ot', 'pyspiders', 'lla', 'the', 'tseb', 'your', 'reerac')\n"
     ]
    }
   ],
   "source": [
    "#case 2\n",
    "st='welcome to pyspiders all the best your career' \n",
    "l=st.split()\n",
    "start=0\n",
    "while start<len(l):\n",
    "    if start%2!=0:\n",
    "        l[start]=l[start][::-1]\n",
    "    else:\n",
    "        l[start]=l[start]\n",
    "    start+=1\n",
    "t=tuple(l)\n",
    "print(t)"
   ]
  },
  {
   "cell_type": "code",
   "execution_count": 1,
   "metadata": {},
   "outputs": [
    {
     "name": "stdout",
     "output_type": "stream",
     "text": [
      "{'65': 1, '67': 2, '90': 6, '97': 24, '99': 120, '100': 720}\n"
     ]
    }
   ],
   "source": [
    "#203 wap\n",
    "#input=('A','C','Z','a','c','d')\n",
    "#output={'65':1,'67':2,'90':6,'97':24,'99':120,'100':720}\n",
    "\n",
    "t=('A','C','Z','a','c','d')\n",
    "l=[]\n",
    "d={}\n",
    "start=0\n",
    "i=1\n",
    "prod=1\n",
    "while start<len(t):\n",
    "    l+=[((ord(t[start])))]\n",
    "    n=len(t)\n",
    "    prod*=i\n",
    "    d[str(l[start])]=prod\n",
    "    start+=1  \n",
    "    i+=1\n",
    "print(d)\n"
   ]
  }
 ],
 "metadata": {
  "kernelspec": {
   "display_name": "Python 3",
   "language": "python",
   "name": "python3"
  },
  "language_info": {
   "codemirror_mode": {
    "name": "ipython",
    "version": 3
   },
   "file_extension": ".py",
   "mimetype": "text/x-python",
   "name": "python",
   "nbconvert_exporter": "python",
   "pygments_lexer": "ipython3",
   "version": "3.10.2"
  },
  "orig_nbformat": 4,
  "vscode": {
   "interpreter": {
    "hash": "5c8a3b3197be89170208b463cb406cdc4ec1a2cd9851d10177eb7a56de8c861f"
   }
  }
 },
 "nbformat": 4,
 "nbformat_minor": 2
}
