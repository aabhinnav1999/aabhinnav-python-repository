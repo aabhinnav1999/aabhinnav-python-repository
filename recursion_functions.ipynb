{
 "cells": [
  {
   "cell_type": "code",
   "execution_count": 5,
   "metadata": {},
   "outputs": [
    {
     "name": "stdout",
     "output_type": "stream",
     "text": [
      "hello world\n",
      "hello world\n",
      "hello world\n",
      "hello world\n",
      "hello world\n"
     ]
    }
   ],
   "source": [
    "#1\n",
    "def h(i,j):\n",
    "    if i==j+1:\n",
    "        return\n",
    "    print('hello world')\n",
    "    h(i+1,j)\n",
    "h(1,5)"
   ]
  },
  {
   "cell_type": "code",
   "execution_count": 6,
   "metadata": {},
   "outputs": [
    {
     "name": "stdout",
     "output_type": "stream",
     "text": [
      "1\n",
      "2\n",
      "3\n",
      "4\n",
      "5\n",
      "6\n",
      "7\n",
      "8\n",
      "9\n",
      "10\n"
     ]
    }
   ],
   "source": [
    "#2\n",
    "def n(i,j):\n",
    "    if i==j+1:\n",
    "        return\n",
    "    print(i)\n",
    "    n(i+1,j)\n",
    "n(1,10)"
   ]
  },
  {
   "cell_type": "code",
   "execution_count": 14,
   "metadata": {},
   "outputs": [
    {
     "name": "stdout",
     "output_type": "stream",
     "text": [
      "1 2 3 4 5 6 7 8 9 10 11 12 13 14 15 16 17 18 19 20 21 22 23 24 25 "
     ]
    }
   ],
   "source": [
    "#3\n",
    "def n(i,j):\n",
    "    if i==j+1:\n",
    "        return\n",
    "    print(i,end=' ')\n",
    "    n(i+1,j)\n",
    "n(1,int(input()))\n"
   ]
  },
  {
   "cell_type": "code",
   "execution_count": 9,
   "metadata": {},
   "outputs": [
    {
     "name": "stdout",
     "output_type": "stream",
     "text": [
      "20\n",
      "19\n",
      "18\n",
      "17\n",
      "16\n",
      "15\n",
      "14\n",
      "13\n",
      "12\n",
      "11\n",
      "10\n",
      "9\n",
      "8\n",
      "7\n",
      "6\n",
      "5\n",
      "4\n",
      "3\n",
      "2\n",
      "1\n",
      "0\n"
     ]
    }
   ],
   "source": [
    "#4\n",
    "def r(i,j=0):\n",
    "    if i ==j-1:\n",
    "        return\n",
    "    print(i)\n",
    "    r(i-1,j)\n",
    "r(20)"
   ]
  },
  {
   "cell_type": "code",
   "execution_count": 2,
   "metadata": {},
   "outputs": [
    {
     "name": "stdout",
     "output_type": "stream",
     "text": [
      "0\n",
      "2\n",
      "4\n",
      "6\n",
      "8\n",
      "10\n",
      "12\n",
      "14\n",
      "16\n",
      "18\n",
      "20\n"
     ]
    }
   ],
   "source": [
    "#9\n",
    "def odd(n,i=0):\n",
    "    if i==n+1:\n",
    "        return\n",
    "    if i%2==0:\n",
    "        print(i)\n",
    "    odd(n,i+1)\n",
    "odd(20)"
   ]
  },
  {
   "cell_type": "code",
   "execution_count": 41,
   "metadata": {},
   "outputs": [
    {
     "name": "stdout",
     "output_type": "stream",
     "text": [
      "5\n",
      "10\n",
      "15\n",
      "20\n",
      "25\n",
      "30\n",
      "35\n",
      "40\n",
      "45\n",
      "50\n",
      "55\n",
      "60\n",
      "65\n",
      "70\n",
      "75\n",
      "80\n",
      "85\n",
      "90\n",
      "95\n",
      "100\n"
     ]
    }
   ],
   "source": [
    "#11\n",
    "def tab(n,i,j):\n",
    "    if i==j+1:\n",
    "        return\n",
    "    print(n*i)\n",
    "    tab(n,i+1,j)\n",
    "tab(5,1,20)"
   ]
  },
  {
   "cell_type": "code",
   "execution_count": 45,
   "metadata": {},
   "outputs": [
    {
     "name": "stdout",
     "output_type": "stream",
     "text": [
      "27\n",
      "30\n",
      "33\n",
      "36\n",
      "39\n",
      "42\n",
      "45\n",
      "48\n",
      "51\n",
      "54\n",
      "57\n",
      "60\n",
      "63\n",
      "66\n"
     ]
    }
   ],
   "source": [
    "#13\n",
    "def a(i,j):\n",
    "    if i==j+1:\n",
    "        return\n",
    "    elif i%3==0:\n",
    "        print(i)\n",
    "    a(i+1,j)\n",
    "a(25,66)\n"
   ]
  },
  {
   "cell_type": "code",
   "execution_count": 5,
   "metadata": {},
   "outputs": [
    {
     "name": "stdout",
     "output_type": "stream",
     "text": [
      "70\n",
      "35\n"
     ]
    }
   ],
   "source": [
    "#15\n",
    "def z(i=77,j=22):\n",
    "    if i==j-1:\n",
    "        return \n",
    "    elif i%5==0 and i%7==0:\n",
    "        print(i)\n",
    "    z(i-1,j)\n",
    "z()"
   ]
  },
  {
   "cell_type": "code",
   "execution_count": 6,
   "metadata": {},
   "outputs": [
    {
     "data": {
      "text/plain": [
       "55"
      ]
     },
     "execution_count": 6,
     "metadata": {},
     "output_type": "execute_result"
    }
   ],
   "source": [
    "#17\n",
    "\n",
    "def nsum(i,j,sum=0):\n",
    "    if i==j+1:\n",
    "        return sum\n",
    "    sum+=i\n",
    "    return nsum(i+1,j,sum)\n",
    "nsum(1,10)\n",
    "\n"
   ]
  },
  {
   "cell_type": "code",
   "execution_count": 5,
   "metadata": {},
   "outputs": [
    {
     "name": "stdout",
     "output_type": "stream",
     "text": [
      "1\n",
      "5\n",
      "25\n"
     ]
    }
   ],
   "source": [
    "#21\n",
    "def f(n,i=1):\n",
    "    if i==n+1:\n",
    "        return\n",
    "    elif n%i==0:\n",
    "        print(i)\n",
    "    f(n,i+1)\n",
    "f(25)"
   ]
  },
  {
   "cell_type": "code",
   "execution_count": 9,
   "metadata": {},
   "outputs": [
    {
     "data": {
      "text/plain": [
       "12"
      ]
     },
     "execution_count": 9,
     "metadata": {},
     "output_type": "execute_result"
    }
   ],
   "source": [
    "#22\n",
    "def s(n,i=1,sum=0):\n",
    "    if i==n+1:\n",
    "        return sum\n",
    "    elif n%i==0:\n",
    "        sum+=i\n",
    "    return s(n,i+1,sum)\n",
    "s(6)\n"
   ]
  },
  {
   "cell_type": "code",
   "execution_count": 12,
   "metadata": {},
   "outputs": [
    {
     "name": "stdout",
     "output_type": "stream",
     "text": [
      "not a prime number\n"
     ]
    }
   ],
   "source": [
    "#27\n",
    "\n",
    "# def nf(n,l=[],i=1):\n",
    "#     if i==n+1:   \n",
    "#         return l\n",
    "#     if n%i==0:\n",
    "#         l+=[i]\n",
    "#     return nf(n,l,i+1)\n",
    "# l=nf(12)\n",
    "\n",
    "# def p(l):\n",
    "#     if len(l)==2:\n",
    "#         print('prime number')\n",
    "#     else:\n",
    "#         print('not a prime number')\n",
    "# p(l)\n",
    "\n"
   ]
  },
  {
   "cell_type": "code",
   "execution_count": 16,
   "metadata": {},
   "outputs": [
    {
     "name": "stdout",
     "output_type": "stream",
     "text": [
      "{11: 2, 12: 6, 13: 2, 14: 4, 15: 4, 16: 5, 17: 2, 18: 6, 19: 2, 20: 6}\n",
      "11\n",
      "13\n",
      "17\n",
      "19\n"
     ]
    }
   ],
   "source": [
    "#28 \n",
    "\n",
    "# a=int(input())\n",
    "# b=int(input())\n",
    "# d={}\n",
    "# for i in range(a,b+1):\n",
    "#     count=0\n",
    "#     for j in range(1,i+1):\n",
    "#         if i%j==0:\n",
    "#             count+=1\n",
    "#     d[i]=count\n",
    "# print(d)\n",
    "\n",
    "# for i in d:\n",
    "#     if d[i]==2:\n",
    "#         print(i)\n",
    "\n",
    "\n"
   ]
  },
  {
   "cell_type": "code",
   "execution_count": 1,
   "metadata": {},
   "outputs": [
    {
     "data": {
      "text/plain": [
       "6"
      ]
     },
     "execution_count": 1,
     "metadata": {},
     "output_type": "execute_result"
    }
   ],
   "source": [
    "# factorial\n",
    "\n",
    "def fact(i,res=1):\n",
    "    if i==0:\n",
    "        return res\n",
    "    res*=i\n",
    "    return fact(i-1,res)\n",
    "fact(3)\n"
   ]
  },
  {
   "cell_type": "code",
   "execution_count": 7,
   "metadata": {},
   "outputs": [
    {
     "name": "stdout",
     "output_type": "stream",
     "text": [
      "armstrong\n"
     ]
    }
   ],
   "source": [
    "# armstrong number.\n",
    "\n",
    "# n=153\n",
    "# z=str(n)\n",
    "# start=0\n",
    "# sum=0\n",
    "# while start<len(z):\n",
    "#     sum+=int(z[start])**len(z)\n",
    "#     start+=1\n",
    "# if sum==n:\n",
    "#     print('armstrong number')\n",
    "# else:\n",
    "#     print('not armstrong number')\n",
    "\n",
    "def arm(n,i=0,sum=0):\n",
    "    z=str(n)\n",
    "    if i==len(z):\n",
    "        return sum\n",
    "    sum+=int(z[i])**len(z)\n",
    "    return arm(n,i+1,sum)\n",
    "n=370\n",
    "if n==arm(370):\n",
    "    print('armstrong')\n",
    "else:\n",
    "    print('not armstrong')\n"
   ]
  },
  {
   "cell_type": "code",
   "execution_count": 8,
   "metadata": {},
   "outputs": [
    {
     "name": "stdout",
     "output_type": "stream",
     "text": [
      "153\n",
      "370\n",
      "371\n",
      "407\n"
     ]
    }
   ],
   "source": [
    "# armstrong function in given range.\n",
    "\n",
    "# i=10\n",
    "# j=2000\n",
    "# while i<=j:\n",
    "#     n=i\n",
    "#     sum=0\n",
    "#     start=0\n",
    "#     z=str(n)\n",
    "#     while start<len(z):\n",
    "#         sum+=int(z[start])**len(z)\n",
    "#         start+=1\n",
    "#     if sum==n:\n",
    "#         print(n)\n",
    "#     i+=1\n",
    "\n",
    "def series(i,j):\n",
    "    if i==j+1:\n",
    "        return\n",
    "    if i==arm(i):\n",
    "        print(i)\n",
    "    series(i+1,j)\n",
    "series(10,500)\n",
    "\n",
    "def arm(n,i=0,sum=0):\n",
    "    z=str(n)\n",
    "    if i==len(z):\n",
    "        return sum\n",
    "    sum+=int(z[i])**len(z)\n",
    "    return arm(n,i+1,sum)\n",
    "\n",
    "\n"
   ]
  },
  {
   "cell_type": "code",
   "execution_count": 1,
   "metadata": {},
   "outputs": [
    {
     "name": "stdout",
     "output_type": "stream",
     "text": [
      "1\n",
      "2\n",
      "3\n",
      "4\n",
      "5\n"
     ]
    }
   ],
   "source": [
    "# print numbers in given range.\n",
    "\n",
    "i=int(input())\n",
    "j=int(input())\n",
    "\n",
    "def u(i,j):\n",
    "    if i==j+1:\n",
    "        return\n",
    "    print(i)\n",
    "    u(i+1,j)\n",
    "u(i,j)"
   ]
  },
  {
   "cell_type": "code",
   "execution_count": 4,
   "metadata": {},
   "outputs": [
    {
     "data": {
      "text/plain": [
       "24"
      ]
     },
     "execution_count": 4,
     "metadata": {},
     "output_type": "execute_result"
    }
   ],
   "source": [
    "# factorial of a number.\n",
    "\n",
    "def fact(n,i=1,prod=1):\n",
    "    if i==n+1:\n",
    "        return prod\n",
    "    prod=prod*i\n",
    "    return fact(n,i+1,prod)\n",
    "fact(4)"
   ]
  }
 ],
 "metadata": {
  "kernelspec": {
   "display_name": "Python 3",
   "language": "python",
   "name": "python3"
  },
  "language_info": {
   "codemirror_mode": {
    "name": "ipython",
    "version": 3
   },
   "file_extension": ".py",
   "mimetype": "text/x-python",
   "name": "python",
   "nbconvert_exporter": "python",
   "pygments_lexer": "ipython3",
   "version": "3.10.2"
  },
  "orig_nbformat": 4
 },
 "nbformat": 4,
 "nbformat_minor": 2
}
