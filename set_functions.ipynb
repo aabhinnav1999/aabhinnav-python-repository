{
 "cells": [
  {
   "cell_type": "code",
   "execution_count": 9,
   "metadata": {},
   "outputs": [
    {
     "name": "stdout",
     "output_type": "stream",
     "text": [
      "{50, 19, 20, 40, 10, 30}\n"
     ]
    }
   ],
   "source": [
    "# add\n",
    "\n",
    "s={10,20,30,50,40}\n",
    "s.add(19)\n",
    "print(s)\n"
   ]
  },
  {
   "cell_type": "code",
   "execution_count": 13,
   "metadata": {},
   "outputs": [
    {
     "name": "stdout",
     "output_type": "stream",
     "text": [
      "set()\n"
     ]
    }
   ],
   "source": [
    "# clear\n",
    "\n",
    "s={10,20,30,50,40}\n",
    "s.clear()\n",
    "print(s)\n"
   ]
  },
  {
   "cell_type": "code",
   "execution_count": 26,
   "metadata": {},
   "outputs": [
    {
     "name": "stdout",
     "output_type": "stream",
     "text": [
      "{50, 20, 40, 10, 30}\n"
     ]
    },
    {
     "data": {
      "text/plain": [
       "{10, 20, 30, 40, 50}"
      ]
     },
     "execution_count": 26,
     "metadata": {},
     "output_type": "execute_result"
    }
   ],
   "source": [
    "# union\n",
    "\n",
    "#using pipe '|' symbol\n",
    "s={10,20,30}\n",
    "t={10,40,50}\n",
    "print(s|t)\n",
    "\n",
    "#using built_in function\n",
    "s={10,20,30}\n",
    "t={10,40,50}\n",
    "s.union(t)\n"
   ]
  },
  {
   "cell_type": "code",
   "execution_count": 36,
   "metadata": {},
   "outputs": [
    {
     "name": "stdout",
     "output_type": "stream",
     "text": [
      "{51, 21, 41, 11, 31}\n"
     ]
    }
   ],
   "source": [
    "# update\n",
    "\n",
    "s={11,51,31}\n",
    "t={21,31,41}\n",
    "s.update(t)\n",
    "print(s)\n"
   ]
  },
  {
   "cell_type": "code",
   "execution_count": 51,
   "metadata": {},
   "outputs": [
    {
     "name": "stdout",
     "output_type": "stream",
     "text": [
      "{20, 30}\n"
     ]
    },
    {
     "data": {
      "text/plain": [
       "{20, 30}"
      ]
     },
     "execution_count": 51,
     "metadata": {},
     "output_type": "execute_result"
    }
   ],
   "source": [
    "# difference\n",
    "\n",
    "#using minus '-' symbol\n",
    "s={10,20,30}\n",
    "t={10,40,50}\n",
    "print(s-t)\n",
    "\n",
    "\n",
    "#using built_in function\n",
    "s={10,20,30}\n",
    "t={10,40,50}\n",
    "s.difference(t)"
   ]
  },
  {
   "cell_type": "code",
   "execution_count": 50,
   "metadata": {},
   "outputs": [
    {
     "name": "stdout",
     "output_type": "stream",
     "text": [
      "{20, 30}\n"
     ]
    }
   ],
   "source": [
    "# difference_update\n",
    "\n",
    "s={10,20,30}\n",
    "t={10,40,50}\n",
    "s.difference_update(t)\n",
    "print(s)"
   ]
  },
  {
   "cell_type": "code",
   "execution_count": 54,
   "metadata": {},
   "outputs": [
    {
     "name": "stdout",
     "output_type": "stream",
     "text": [
      "{10, 30}\n"
     ]
    },
    {
     "data": {
      "text/plain": [
       "{10, 30}"
      ]
     },
     "execution_count": 54,
     "metadata": {},
     "output_type": "execute_result"
    }
   ],
   "source": [
    "# intersection \n",
    "\n",
    "\n",
    "#using '&' symbol\n",
    "s={10,20,30}\n",
    "t={10,40,50,30}\n",
    "print(s&t)\n",
    "\n",
    "\n",
    "#using built_in function\n",
    "s={10,20,30}\n",
    "t={10,40,50,30}\n",
    "s.intersection(t)\n",
    "\n"
   ]
  },
  {
   "cell_type": "code",
   "execution_count": 57,
   "metadata": {},
   "outputs": [
    {
     "name": "stdout",
     "output_type": "stream",
     "text": [
      "{40, 10}\n"
     ]
    }
   ],
   "source": [
    "# intersection_update\n",
    "\n",
    "s={10,20,30,40}\n",
    "t={10,40,50}\n",
    "s.intersection_update(t)\n",
    "print(s)"
   ]
  },
  {
   "cell_type": "code",
   "execution_count": 61,
   "metadata": {},
   "outputs": [
    {
     "name": "stdout",
     "output_type": "stream",
     "text": [
      "{40, 10, 50, 20}\n"
     ]
    },
    {
     "data": {
      "text/plain": [
       "{10, 20, 40, 50}"
      ]
     },
     "execution_count": 61,
     "metadata": {},
     "output_type": "execute_result"
    }
   ],
   "source": [
    "# symmetric_difference\n",
    "\n",
    "\n",
    "#using caret '^' symbol\n",
    "s={10,20,30}\n",
    "t={30,40,50}\n",
    "print(s^t)\n",
    "\n",
    "\n",
    "s={10,20,30}\n",
    "t={30,40,50}\n",
    "s.symmetric_difference(t)"
   ]
  },
  {
   "cell_type": "code",
   "execution_count": 64,
   "metadata": {},
   "outputs": [
    {
     "name": "stdout",
     "output_type": "stream",
     "text": [
      "{40, 10, 50, 20}\n"
     ]
    }
   ],
   "source": [
    "#symmetric_difference_update\n",
    "\n",
    "\n",
    "s={10,20,30}\n",
    "t={30,40,50}\n",
    "s.symmetric_difference_update(t)\n",
    "print(s)"
   ]
  },
  {
   "cell_type": "code",
   "execution_count": 96,
   "metadata": {},
   "outputs": [
    {
     "data": {
      "text/plain": [
       "50"
      ]
     },
     "execution_count": 96,
     "metadata": {},
     "output_type": "execute_result"
    }
   ],
   "source": [
    "# pop\n",
    "\n",
    "s={10,20,30,40,50,60,70}\n",
    "s.pop()"
   ]
  },
  {
   "cell_type": "code",
   "execution_count": 95,
   "metadata": {},
   "outputs": [
    {
     "ename": "KeyError",
     "evalue": "90",
     "output_type": "error",
     "traceback": [
      "\u001b[1;31m---------------------------------------------------------------------------\u001b[0m",
      "\u001b[1;31mKeyError\u001b[0m                                  Traceback (most recent call last)",
      "Cell \u001b[1;32mIn[95], line 8\u001b[0m\n\u001b[0;32m      4\u001b[0m s\u001b[39m.\u001b[39mremove(\u001b[39m20\u001b[39m)\n\u001b[0;32m      7\u001b[0m s\u001b[39m=\u001b[39m{\u001b[39m10\u001b[39m,\u001b[39m20\u001b[39m,\u001b[39m30\u001b[39m,\u001b[39m40\u001b[39m,\u001b[39m50\u001b[39m,\u001b[39m60\u001b[39m,\u001b[39m70\u001b[39m}\n\u001b[1;32m----> 8\u001b[0m s\u001b[39m.\u001b[39;49mremove(\u001b[39m90\u001b[39;49m)\n",
      "\u001b[1;31mKeyError\u001b[0m: 90"
     ]
    }
   ],
   "source": [
    "# remove \n",
    "\n",
    "s={10,20,30,40,50,60,70}\n",
    "s.remove(20)\n",
    "\n",
    "\n",
    "s={10,20,30,40,50,60,70}\n",
    "s.remove(90)"
   ]
  },
  {
   "cell_type": "code",
   "execution_count": 94,
   "metadata": {},
   "outputs": [],
   "source": [
    "# discard \n",
    "\n",
    "s={10,20,30,40,50,60,70}\n",
    "s.discard(20)\n",
    "\n",
    "\n",
    "s={10,20,30,40,50,60,70}\n",
    "s.discard(90)"
   ]
  },
  {
   "cell_type": "code",
   "execution_count": 99,
   "metadata": {},
   "outputs": [
    {
     "data": {
      "text/plain": [
       "True"
      ]
     },
     "execution_count": 99,
     "metadata": {},
     "output_type": "execute_result"
    }
   ],
   "source": [
    "# isdisjoint\n",
    "\n",
    "s={10,20,30}\n",
    "t={40,50}\n",
    "s.isdisjoint(t)"
   ]
  },
  {
   "cell_type": "code",
   "execution_count": 100,
   "metadata": {},
   "outputs": [
    {
     "data": {
      "text/plain": [
       "False"
      ]
     },
     "execution_count": 100,
     "metadata": {},
     "output_type": "execute_result"
    }
   ],
   "source": [
    "# issubset\n",
    "\n",
    "s={1,2,3,4}\n",
    "t={1,2}\n",
    "s.issubset(t)"
   ]
  },
  {
   "cell_type": "code",
   "execution_count": 101,
   "metadata": {},
   "outputs": [
    {
     "data": {
      "text/plain": [
       "True"
      ]
     },
     "execution_count": 101,
     "metadata": {},
     "output_type": "execute_result"
    }
   ],
   "source": [
    "# issuperset\n",
    "\n",
    "s={1,2,3,4}\n",
    "t={1,2}\n",
    "s.issuperset(t)"
   ]
  }
 ],
 "metadata": {
  "kernelspec": {
   "display_name": "Python 3",
   "language": "python",
   "name": "python3"
  },
  "language_info": {
   "codemirror_mode": {
    "name": "ipython",
    "version": 3
   },
   "file_extension": ".py",
   "mimetype": "text/x-python",
   "name": "python",
   "nbconvert_exporter": "python",
   "pygments_lexer": "ipython3",
   "version": "3.10.2"
  },
  "orig_nbformat": 4
 },
 "nbformat": 4,
 "nbformat_minor": 2
}
